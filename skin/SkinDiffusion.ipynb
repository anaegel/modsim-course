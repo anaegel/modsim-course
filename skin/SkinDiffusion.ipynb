{
 "cells": [
  {
   "cell_type": "markdown",
   "metadata": {},
   "source": [
    "# Simulation of Drug Transport across a Virtual Skin Membrane"
   ]
  },
  {
   "cell_type": "markdown",
   "metadata": {},
   "source": [
    "### Initialize UG4 (for 2D and standard algebra)"
   ]
  },
  {
   "cell_type": "code",
   "execution_count": 30,
   "metadata": {},
   "outputs": [
    {
     "data": {
      "text/plain": []
     },
     "execution_count": 30,
     "metadata": {},
     "output_type": "execute_result"
    }
   ],
   "source": [
    "InitUG(2, AlgebraType(\"CPU\", 1));\n",
    "ug_load_script(\"ug_util.lua\")\n",
    "ug_load_script(\"util/refinement_util.lua\")"
   ]
  },
  {
   "cell_type": "markdown",
   "metadata": {},
   "source": [
    "### Create Domain"
   ]
  },
  {
   "cell_type": "code",
   "execution_count": 31,
   "metadata": {},
   "outputs": [
    {
     "data": {
      "text/plain": []
     },
     "execution_count": 31,
     "metadata": {},
     "output_type": "execute_result"
    }
   ],
   "source": [
    "requiredSubsets = {\"LIP\", \"COR\", \"BOTTOM_SC\", \"TOP_SC\"}\n",
    "gridName = \"skin2d-aniso.ugx\"\n",
    "numRefs = 2"
   ]
  },
  {
   "cell_type": "code",
   "execution_count": 32,
   "metadata": {},
   "outputs": [
    {
     "data": {
      "text/plain": [
       "Loading Domain skin2d-aniso.ugx ... done.\n",
       "Performing integrity check on domain ... done.\n",
       "Refining(2): 1 2 done.\n"
      ]
     },
     "execution_count": 32,
     "metadata": {},
     "output_type": "execute_result"
    }
   ],
   "source": [
    "dom = util.CreateDomain(gridName, numRefs, requiredSubsets)"
   ]
  },
  {
   "cell_type": "markdown",
   "metadata": {},
   "source": [
    "### Create Approximation space"
   ]
  },
  {
   "cell_type": "code",
   "execution_count": 33,
   "metadata": {},
   "outputs": [
    {
     "data": {
      "text/plain": []
     },
     "execution_count": 33,
     "metadata": {},
     "output_type": "execute_result"
    }
   ],
   "source": [
    "approxSpaceDesc = { fct = \"c\", type = \"Lagrange\", order = 1 }"
   ]
  },
  {
   "cell_type": "code",
   "execution_count": 34,
   "metadata": {},
   "outputs": [
    {
     "data": {
      "text/plain": [
       "Approximation space:\n",
       "| ----------------------------------------------------------------------------------------- |\n",
       "|  Number of DoFs (All Procs)                                                               |\n",
       "|  Algebra: Block 1 (divide by 1 for #Index)                                                |\n",
       "|                                                                                           |\n",
       "|    GridLevel   |       Domain |       0: LIP |       1: COR | 2: BOTTOM_SC |    3: TOP_SC |\n",
       "| ----------------------------------------------------------------------------------------- |\n",
       "| (lev,    0)    |          680 |           32 |          608 |           20 |           20 |\n",
       "| (lev,    1)    |         2613 |          783 |         1752 |           39 |           39 |\n",
       "| (lev,    2)    |        10241 |         4367 |         5720 |           77 |           77 |\n",
       "| (lev,    0, g) |          680 |           32 |          608 |           20 |           20 |\n",
       "| (lev,    1, g) |         2613 |          783 |         1752 |           39 |           39 |\n",
       "| (lev,    2, g) |        10241 |         4367 |         5720 |           77 |           77 |\n",
       "| (surf, top)    |        10241 |         4367 |         5720 |           77 |           77 |\n",
       "| ----------------------------------------------------------------------------------------- |\n",
       "| For Legend and Options: print_statistic(\"legend\").                                        |\n",
       "| ----------------------------------------------------------------------------------------- |\n"
      ]
     },
     "execution_count": 34,
     "metadata": {},
     "output_type": "execute_result"
    }
   ],
   "source": [
    "approxSpace = ApproximationSpace(dom)\n",
    "approxSpace:add_fct(approxSpaceDesc.fct, approxSpaceDesc.type, approxSpaceDesc.order)\n",
    "approxSpace:init_levels()\n",
    "approxSpace:init_top_surface()\n",
    "print(\"Approximation space:\")\n",
    "approxSpace:print_statistic()"
   ]
  },
  {
   "cell_type": "markdown",
   "metadata": {},
   "source": [
    "## Create a convection-diffusion-equation\n",
    "Model parameter"
   ]
  },
  {
   "cell_type": "code",
   "execution_count": 35,
   "metadata": {},
   "outputs": [
    {
     "data": {
      "text/plain": []
     },
     "execution_count": 35,
     "metadata": {},
     "output_type": "execute_result"
    }
   ],
   "source": [
    "K={\n",
    "    [\"LIP\"] = 1.0, [\"COR\"] = 1.0,\n",
    "}\n",
    "\n",
    "D={\n",
    "     [\"LIP\"] = 1, [\"COR\"] = 0.01, \n",
    "}\n"
   ]
  },
  {
   "cell_type": "code",
   "execution_count": 36,
   "metadata": {},
   "outputs": [
    {
     "data": {
      "text/plain": []
     },
     "execution_count": 36,
     "metadata": {},
     "output_type": "execute_result"
    }
   ],
   "source": [
    "elemDisc ={}\n",
    "\n",
    "elemDisc[\"COR\"] = ConvectionDiffusion(\"c\", \"COR\", \"fv1\")\n",
    "elemDisc[\"COR\"]:set_diffusion(K[\"COR\"]*D[\"COR\"])\n",
    "elemDisc[\"COR\"]:set_mass_scale(K[\"COR\"])\n",
    "\n",
    "elemDisc[\"LIP\"] = ConvectionDiffusion(\"c\", \"LIP\", \"fv1\")\n",
    "elemDisc[\"LIP\"]:set_diffusion(K[\"LIP\"]*D[\"LIP\"])\n",
    "elemDisc[\"LIP\"]:set_mass_scale(K[\"LIP\"])"
   ]
  },
  {
   "cell_type": "code",
   "execution_count": 37,
   "metadata": {},
   "outputs": [
    {
     "data": {
      "text/plain": []
     },
     "execution_count": 37,
     "metadata": {},
     "output_type": "execute_result"
    }
   ],
   "source": [
    "dirichletBnd = DirichletBoundary()\n",
    "dirichletBnd:add(1.0, \"c\", \"TOP_SC\")\n",
    "dirichletBnd:add(0.0, \"c\", \"BOTTOM_SC\")"
   ]
  },
  {
   "cell_type": "code",
   "execution_count": 38,
   "metadata": {},
   "outputs": [
    {
     "data": {
      "text/plain": []
     },
     "execution_count": 38,
     "metadata": {},
     "output_type": "execute_result"
    }
   ],
   "source": [
    "domainDisc = DomainDiscretization(approxSpace)\n",
    "domainDisc:add(elemDisc[\"LIP\"])\n",
    "domainDisc:add(elemDisc[\"COR\"])\n",
    "domainDisc:add(dirichletBnd)"
   ]
  },
  {
   "cell_type": "markdown",
   "metadata": {},
   "source": [
    "## Create  solver"
   ]
  },
  {
   "cell_type": "code",
   "execution_count": 39,
   "metadata": {},
   "outputs": [
    {
     "data": {
      "text/plain": []
     },
     "execution_count": 39,
     "metadata": {},
     "output_type": "execute_result"
    }
   ],
   "source": [
    "lsolver=SuperLU()"
   ]
  },
  {
   "cell_type": "markdown",
   "metadata": {},
   "source": [
    "## Solve transient problem"
   ]
  },
  {
   "cell_type": "code",
   "execution_count": 40,
   "metadata": {},
   "outputs": [
    {
     "data": {
      "text/plain": []
     },
     "execution_count": 40,
     "metadata": {},
     "output_type": "execute_result"
    }
   ],
   "source": [
    "u = GridFunction(approxSpace)\n",
    "u:set(0.0)"
   ]
  },
  {
   "cell_type": "code",
   "execution_count": 50,
   "metadata": {
    "scrolled": true
   },
   "outputs": [
    {
     "data": {
      "text/plain": []
     },
     "execution_count": 50,
     "metadata": {},
     "output_type": "execute_result"
    }
   ],
   "source": [
    "startTime = 0.0\n",
    "endTime = 10.0\n",
    "dt=0.25"
   ]
  },
  {
   "cell_type": "code",
   "execution_count": 42,
   "metadata": {},
   "outputs": [
    {
     "data": {
      "text/plain": [
       "SolveLinearTimeProblem, Linear Solver setup:\n",
       "SuperLU\n",
       ">> Writing start values\n",
       "++++++ TIMESTEP 1 BEGIN (current time: 0) ++++++\n",
       "++++++ Time step size: 0.25\n",
       "++++++ Assembling Matrix/Rhs for step size 0.25\n",
       "++++++ TIMESTEP 1 END   (current time: 0.25) ++++++\n",
       "++++++ TIMESTEP 2 BEGIN (current time: 0.25) ++++++\n",
       "++++++ Time step size: 0.25\n",
       "++++++ TIMESTEP 2 END   (current time: 0.5) ++++++\n",
       "++++++ TIMESTEP 3 BEGIN (current time: 0.5) ++++++\n",
       "++++++ Time step size: 0.25\n",
       "++++++ TIMESTEP 3 END   (current time: 0.75) ++++++\n",
       "++++++ TIMESTEP 4 BEGIN (current time: 0.75) ++++++\n",
       "++++++ Time step size: 0.25\n",
       "++++++ TIMESTEP 4 END   (current time: 1) ++++++\n",
       "++++++ TIMESTEP 5 BEGIN (current time: 1) ++++++\n",
       "++++++ Time step size: 0.25\n",
       "++++++ TIMESTEP 5 END   (current time: 1.25) ++++++\n",
       "++++++ TIMESTEP 6 BEGIN (current time: 1.25) ++++++\n",
       "++++++ Time step size: 0.25\n",
       "++++++ TIMESTEP 6 END   (current time: 1.5) ++++++\n",
       "++++++ TIMESTEP 7 BEGIN (current time: 1.5) ++++++\n",
       "++++++ Time step size: 0.25\n",
       "++++++ TIMESTEP 7 END   (current time: 1.75) ++++++\n",
       "++++++ TIMESTEP 8 BEGIN (current time: 1.75) ++++++\n",
       "++++++ Time step size: 0.25\n",
       "++++++ TIMESTEP 8 END   (current time: 2) ++++++\n",
       "++++++ TIMESTEP 9 BEGIN (current time: 2) ++++++\n",
       "++++++ Time step size: 0.25\n",
       "++++++ TIMESTEP 9 END   (current time: 2.25) ++++++\n",
       "++++++ TIMESTEP 10 BEGIN (current time: 2.25) ++++++\n",
       "++++++ Time step size: 0.25\n",
       "++++++ TIMESTEP 10 END   (current time: 2.5) ++++++\n",
       "++++++ TIMESTEP 11 BEGIN (current time: 2.5) ++++++\n",
       "++++++ Time step size: 0.25\n",
       "++++++ TIMESTEP 11 END   (current time: 2.75) ++++++\n",
       "++++++ TIMESTEP 12 BEGIN (current time: 2.75) ++++++\n",
       "++++++ Time step size: 0.25\n",
       "++++++ TIMESTEP 12 END   (current time: 3) ++++++\n",
       "++++++ TIMESTEP 13 BEGIN (current time: 3) ++++++\n",
       "++++++ Time step size: 0.25\n",
       "++++++ TIMESTEP 13 END   (current time: 3.25) ++++++\n",
       "++++++ TIMESTEP 14 BEGIN (current time: 3.25) ++++++\n",
       "++++++ Time step size: 0.25\n",
       "++++++ TIMESTEP 14 END   (current time: 3.5) ++++++\n",
       "++++++ TIMESTEP 15 BEGIN (current time: 3.5) ++++++\n",
       "++++++ Time step size: 0.25\n",
       "++++++ TIMESTEP 15 END   (current time: 3.75) ++++++\n",
       "++++++ TIMESTEP 16 BEGIN (current time: 3.75) ++++++\n",
       "++++++ Time step size: 0.25\n",
       "++++++ TIMESTEP 16 END   (current time: 4) ++++++\n",
       "++++++ TIMESTEP 17 BEGIN (current time: 4) ++++++\n",
       "++++++ Time step size: 0.25\n",
       "++++++ TIMESTEP 17 END   (current time: 4.25) ++++++\n",
       "++++++ TIMESTEP 18 BEGIN (current time: 4.25) ++++++\n",
       "++++++ Time step size: 0.25\n",
       "++++++ TIMESTEP 18 END   (current time: 4.5) ++++++\n",
       "++++++ TIMESTEP 19 BEGIN (current time: 4.5) ++++++\n",
       "++++++ Time step size: 0.25\n",
       "++++++ TIMESTEP 19 END   (current time: 4.75) ++++++\n",
       "++++++ TIMESTEP 20 BEGIN (current time: 4.75) ++++++\n",
       "++++++ Time step size: 0.25\n",
       "++++++ TIMESTEP 20 END   (current time: 5) ++++++\n",
       "++++++ TIMESTEP 21 BEGIN (current time: 5) ++++++\n",
       "++++++ Time step size: 0.25\n",
       "++++++ TIMESTEP 21 END   (current time: 5.25) ++++++\n",
       "++++++ TIMESTEP 22 BEGIN (current time: 5.25) ++++++\n",
       "++++++ Time step size: 0.25\n",
       "++++++ TIMESTEP 22 END   (current time: 5.5) ++++++\n",
       "++++++ TIMESTEP 23 BEGIN (current time: 5.5) ++++++\n",
       "++++++ Time step size: 0.25\n",
       "++++++ TIMESTEP 23 END   (current time: 5.75) ++++++\n",
       "++++++ TIMESTEP 24 BEGIN (current time: 5.75) ++++++\n",
       "++++++ Time step size: 0.25\n",
       "++++++ TIMESTEP 24 END   (current time: 6) ++++++\n",
       "++++++ TIMESTEP 25 BEGIN (current time: 6) ++++++\n",
       "++++++ Time step size: 0.25\n",
       "++++++ TIMESTEP 25 END   (current time: 6.25) ++++++\n",
       "++++++ TIMESTEP 26 BEGIN (current time: 6.25) ++++++\n",
       "++++++ Time step size: 0.25\n",
       "++++++ TIMESTEP 26 END   (current time: 6.5) ++++++\n",
       "++++++ TIMESTEP 27 BEGIN (current time: 6.5) ++++++\n",
       "++++++ Time step size: 0.25\n",
       "++++++ TIMESTEP 27 END   (current time: 6.75) ++++++\n",
       "++++++ TIMESTEP 28 BEGIN (current time: 6.75) ++++++\n",
       "++++++ Time step size: 0.25\n",
       "++++++ TIMESTEP 28 END   (current time: 7) ++++++\n",
       "++++++ TIMESTEP 29 BEGIN (current time: 7) ++++++\n",
       "++++++ Time step size: 0.25\n",
       "++++++ TIMESTEP 29 END   (current time: 7.25) ++++++\n",
       "++++++ TIMESTEP 30 BEGIN (current time: 7.25) ++++++\n",
       "++++++ Time step size: 0.25\n",
       "++++++ TIMESTEP 30 END   (current time: 7.5) ++++++\n",
       "++++++ TIMESTEP 31 BEGIN (current time: 7.5) ++++++\n",
       "++++++ Time step size: 0.25\n",
       "++++++ TIMESTEP 31 END   (current time: 7.75) ++++++\n",
       "++++++ TIMESTEP 32 BEGIN (current time: 7.75) ++++++\n",
       "++++++ Time step size: 0.25\n",
       "++++++ TIMESTEP 32 END   (current time: 8) ++++++\n",
       "++++++ TIMESTEP 33 BEGIN (current time: 8) ++++++\n",
       "++++++ Time step size: 0.25\n",
       "++++++ TIMESTEP 33 END   (current time: 8.25) ++++++\n",
       "++++++ TIMESTEP 34 BEGIN (current time: 8.25) ++++++\n",
       "++++++ Time step size: 0.25\n",
       "++++++ TIMESTEP 34 END   (current time: 8.5) ++++++\n",
       "++++++ TIMESTEP 35 BEGIN (current time: 8.5) ++++++\n",
       "++++++ Time step size: 0.25\n",
       "++++++ TIMESTEP 35 END   (current time: 8.75) ++++++\n",
       "++++++ TIMESTEP 36 BEGIN (current time: 8.75) ++++++\n",
       "++++++ Time step size: 0.25\n",
       "++++++ TIMESTEP 36 END   (current time: 9) ++++++\n",
       "++++++ TIMESTEP 37 BEGIN (current time: 9) ++++++\n",
       "++++++ Time step size: 0.25\n",
       "++++++ TIMESTEP 37 END   (current time: 9.25) ++++++\n",
       "++++++ TIMESTEP 38 BEGIN (current time: 9.25) ++++++\n",
       "++++++ Time step size: 0.25\n",
       "++++++ TIMESTEP 38 END   (current time: 9.5) ++++++\n",
       "++++++ TIMESTEP 39 BEGIN (current time: 9.5) ++++++\n",
       "++++++ Time step size: 0.25\n",
       "++++++ TIMESTEP 39 END   (current time: 9.75) ++++++\n",
       "++++++ TIMESTEP 40 BEGIN (current time: 9.75) ++++++\n",
       "++++++ Time step size: 0.25\n",
       "++++++ TIMESTEP 40 END   (current time: 10) ++++++\n"
      ]
     },
     "execution_count": 42,
     "metadata": {},
     "output_type": "execute_result"
    }
   ],
   "source": [
    "util.SolveLinearTimeProblem(u, domainDisc, lsolver, VTKOutput(), \"vtk/skin\",\n",
    "                            \"ImplEuler\", 1, startTime, endTime, dt); "
   ]
  },
  {
   "cell_type": "code",
   "execution_count": 48,
   "metadata": {},
   "outputs": [
    {
     "data": {
      "text/plain": []
     },
     "execution_count": 48,
     "metadata": {},
     "output_type": "execute_result"
    }
   ],
   "source": [
    "timeDisc=ThetaTimeStep(domainDisc, 1.0)\n",
    "\n",
    "timeInt = LinearTimeIntegrator(timeDisc)\n",
    "timeInt:set_linear_solver(lsolver)\n",
    "timeInt:set_time_step(0.25)\n"
   ]
  },
  {
   "cell_type": "code",
   "execution_count": 49,
   "metadata": {},
   "outputs": [
    {
     "data": {
      "text/plain": [
       "+++ Integrating: [0, 10]\n",
       "+++ Timestep +++1\n",
       "+++ Reassemble (t=0, dt=0.25)\n",
       "TimeIntegratorSubject::notify_group[2]: 0 observers. 0x7f905d138918\n",
       "+++ Timestep +++2\n",
       "TimeIntegratorSubject::notify_group[2]: 0 observers. 0x7f905d138918\n",
       "+++ Timestep +++3\n",
       "TimeIntegratorSubject::notify_group[2]: 0 observers. 0x7f905d138918\n",
       "+++ Timestep +++4\n",
       "TimeIntegratorSubject::notify_group[2]: 0 observers. 0x7f905d138918\n",
       "+++ Timestep +++5\n",
       "TimeIntegratorSubject::notify_group[2]: 0 observers. 0x7f905d138918\n",
       "+++ Timestep +++6\n",
       "TimeIntegratorSubject::notify_group[2]: 0 observers. 0x7f905d138918\n",
       "+++ Timestep +++7\n",
       "TimeIntegratorSubject::notify_group[2]: 0 observers. 0x7f905d138918\n",
       "+++ Timestep +++8\n",
       "TimeIntegratorSubject::notify_group[2]: 0 observers. 0x7f905d138918\n",
       "+++ Timestep +++9\n",
       "TimeIntegratorSubject::notify_group[2]: 0 observers. 0x7f905d138918\n",
       "+++ Timestep +++10\n",
       "TimeIntegratorSubject::notify_group[2]: 0 observers. 0x7f905d138918\n",
       "+++ Timestep +++11\n",
       "TimeIntegratorSubject::notify_group[2]: 0 observers. 0x7f905d138918\n",
       "+++ Timestep +++12\n",
       "TimeIntegratorSubject::notify_group[2]: 0 observers. 0x7f905d138918\n",
       "+++ Timestep +++13\n",
       "TimeIntegratorSubject::notify_group[2]: 0 observers. 0x7f905d138918\n",
       "+++ Timestep +++14\n",
       "TimeIntegratorSubject::notify_group[2]: 0 observers. 0x7f905d138918\n",
       "+++ Timestep +++15\n",
       "TimeIntegratorSubject::notify_group[2]: 0 observers. 0x7f905d138918\n",
       "+++ Timestep +++16\n",
       "TimeIntegratorSubject::notify_group[2]: 0 observers. 0x7f905d138918\n",
       "+++ Timestep +++17\n",
       "TimeIntegratorSubject::notify_group[2]: 0 observers. 0x7f905d138918\n",
       "+++ Timestep +++18\n",
       "TimeIntegratorSubject::notify_group[2]: 0 observers. 0x7f905d138918\n",
       "+++ Timestep +++19\n",
       "TimeIntegratorSubject::notify_group[2]: 0 observers. 0x7f905d138918\n",
       "+++ Timestep +++20\n",
       "TimeIntegratorSubject::notify_group[2]: 0 observers. 0x7f905d138918\n",
       "+++ Timestep +++21\n",
       "TimeIntegratorSubject::notify_group[2]: 0 observers. 0x7f905d138918\n",
       "+++ Timestep +++22\n",
       "TimeIntegratorSubject::notify_group[2]: 0 observers. 0x7f905d138918\n",
       "+++ Timestep +++23\n",
       "TimeIntegratorSubject::notify_group[2]: 0 observers. 0x7f905d138918\n",
       "+++ Timestep +++24\n",
       "TimeIntegratorSubject::notify_group[2]: 0 observers. 0x7f905d138918\n",
       "+++ Timestep +++25\n",
       "TimeIntegratorSubject::notify_group[2]: 0 observers. 0x7f905d138918\n",
       "+++ Timestep +++26\n",
       "TimeIntegratorSubject::notify_group[2]: 0 observers. 0x7f905d138918\n",
       "+++ Timestep +++27\n",
       "TimeIntegratorSubject::notify_group[2]: 0 observers. 0x7f905d138918\n",
       "+++ Timestep +++28\n",
       "TimeIntegratorSubject::notify_group[2]: 0 observers. 0x7f905d138918\n",
       "+++ Timestep +++29\n",
       "TimeIntegratorSubject::notify_group[2]: 0 observers. 0x7f905d138918\n",
       "+++ Timestep +++30\n",
       "TimeIntegratorSubject::notify_group[2]: 0 observers. 0x7f905d138918\n",
       "+++ Timestep +++31\n",
       "TimeIntegratorSubject::notify_group[2]: 0 observers. 0x7f905d138918\n",
       "+++ Timestep +++32\n",
       "TimeIntegratorSubject::notify_group[2]: 0 observers. 0x7f905d138918\n",
       "+++ Timestep +++33\n",
       "TimeIntegratorSubject::notify_group[2]: 0 observers. 0x7f905d138918\n",
       "+++ Timestep +++34\n",
       "TimeIntegratorSubject::notify_group[2]: 0 observers. 0x7f905d138918\n",
       "+++ Timestep +++35\n",
       "TimeIntegratorSubject::notify_group[2]: 0 observers. 0x7f905d138918\n",
       "+++ Timestep +++36\n",
       "TimeIntegratorSubject::notify_group[2]: 0 observers. 0x7f905d138918\n",
       "+++ Timestep +++37\n",
       "TimeIntegratorSubject::notify_group[2]: 0 observers. 0x7f905d138918\n",
       "+++ Timestep +++38\n",
       "TimeIntegratorSubject::notify_group[2]: 0 observers. 0x7f905d138918\n",
       "+++ Timestep +++39\n",
       "TimeIntegratorSubject::notify_group[2]: 0 observers. 0x7f905d138918\n",
       "+++ Timestep +++40\n",
       "TimeIntegratorSubject::notify_group[2]: 0 observers. 0x7f905d138918\n"
      ]
     },
     "execution_count": 49,
     "metadata": {},
     "output_type": "execute_result"
    }
   ],
   "source": [
    "timeInt:apply(u, endTime, u, startTime)"
   ]
  },
  {
   "cell_type": "code",
   "execution_count": 46,
   "metadata": {},
   "outputs": [
    {
     "data": {
      "text/plain": []
     },
     "execution_count": 46,
     "metadata": {},
     "output_type": "execute_result"
    }
   ],
   "source": [
    "timeInt = ConstStepLinearTimeIntegrator(timeDisc)\n",
    "timeInt:set_linear_solver(lsolver)\n",
    "timeInt:set_time_step(0.25)\n"
   ]
  },
  {
   "cell_type": "code",
   "execution_count": 47,
   "metadata": {},
   "outputs": [
    {
     "data": {
      "text/plain": [
       "+++ Integrating: [\t0\t, \t10\t] with dt=\t0.25(40 iters)\n",
       "+++ Const timestep +++1t=0->0.25\n",
       "TimeIntegratorSubject::notify_group[0]: 0 observers. 0x7f9064d97678\n",
       "+++ Assemble (t=0, dt=0.25)\n",
       "TimeIntegratorSubject::notify_group[2]: 0 observers. 0x7f9064d97678\n",
       "+++ Const timestep +++2t=0.25->0.25\n",
       "TimeIntegratorSubject::notify_group[0]: 0 observers. 0x7f9064d97678\n",
       "TimeIntegratorSubject::notify_group[2]: 0 observers. 0x7f9064d97678\n",
       "+++ Const timestep +++3t=0.5->0.25\n",
       "TimeIntegratorSubject::notify_group[0]: 0 observers. 0x7f9064d97678\n",
       "TimeIntegratorSubject::notify_group[2]: 0 observers. 0x7f9064d97678\n",
       "+++ Const timestep +++4t=0.75->0.25\n",
       "TimeIntegratorSubject::notify_group[0]: 0 observers. 0x7f9064d97678\n",
       "TimeIntegratorSubject::notify_group[2]: 0 observers. 0x7f9064d97678\n",
       "+++ Const timestep +++5t=1->0.25\n",
       "TimeIntegratorSubject::notify_group[0]: 0 observers. 0x7f9064d97678\n",
       "TimeIntegratorSubject::notify_group[2]: 0 observers. 0x7f9064d97678\n",
       "+++ Const timestep +++6t=1.25->0.25\n",
       "TimeIntegratorSubject::notify_group[0]: 0 observers. 0x7f9064d97678\n",
       "TimeIntegratorSubject::notify_group[2]: 0 observers. 0x7f9064d97678\n",
       "+++ Const timestep +++7t=1.5->0.25\n",
       "TimeIntegratorSubject::notify_group[0]: 0 observers. 0x7f9064d97678\n",
       "TimeIntegratorSubject::notify_group[2]: 0 observers. 0x7f9064d97678\n",
       "+++ Const timestep +++8t=1.75->0.25\n",
       "TimeIntegratorSubject::notify_group[0]: 0 observers. 0x7f9064d97678\n",
       "TimeIntegratorSubject::notify_group[2]: 0 observers. 0x7f9064d97678\n",
       "+++ Const timestep +++9t=2->0.25\n",
       "TimeIntegratorSubject::notify_group[0]: 0 observers. 0x7f9064d97678\n",
       "TimeIntegratorSubject::notify_group[2]: 0 observers. 0x7f9064d97678\n",
       "+++ Const timestep +++10t=2.25->0.25\n",
       "TimeIntegratorSubject::notify_group[0]: 0 observers. 0x7f9064d97678\n",
       "TimeIntegratorSubject::notify_group[2]: 0 observers. 0x7f9064d97678\n",
       "+++ Const timestep +++11t=2.5->0.25\n",
       "TimeIntegratorSubject::notify_group[0]: 0 observers. 0x7f9064d97678\n",
       "TimeIntegratorSubject::notify_group[2]: 0 observers. 0x7f9064d97678\n",
       "+++ Const timestep +++12t=2.75->0.25\n",
       "TimeIntegratorSubject::notify_group[0]: 0 observers. 0x7f9064d97678\n",
       "TimeIntegratorSubject::notify_group[2]: 0 observers. 0x7f9064d97678\n",
       "+++ Const timestep +++13t=3->0.25\n",
       "TimeIntegratorSubject::notify_group[0]: 0 observers. 0x7f9064d97678\n",
       "TimeIntegratorSubject::notify_group[2]: 0 observers. 0x7f9064d97678\n",
       "+++ Const timestep +++14t=3.25->0.25\n",
       "TimeIntegratorSubject::notify_group[0]: 0 observers. 0x7f9064d97678\n",
       "TimeIntegratorSubject::notify_group[2]: 0 observers. 0x7f9064d97678\n",
       "+++ Const timestep +++15t=3.5->0.25\n",
       "TimeIntegratorSubject::notify_group[0]: 0 observers. 0x7f9064d97678\n",
       "TimeIntegratorSubject::notify_group[2]: 0 observers. 0x7f9064d97678\n",
       "+++ Const timestep +++16t=3.75->0.25\n",
       "TimeIntegratorSubject::notify_group[0]: 0 observers. 0x7f9064d97678\n",
       "TimeIntegratorSubject::notify_group[2]: 0 observers. 0x7f9064d97678\n",
       "+++ Const timestep +++17t=4->0.25\n",
       "TimeIntegratorSubject::notify_group[0]: 0 observers. 0x7f9064d97678\n",
       "TimeIntegratorSubject::notify_group[2]: 0 observers. 0x7f9064d97678\n",
       "+++ Const timestep +++18t=4.25->0.25\n",
       "TimeIntegratorSubject::notify_group[0]: 0 observers. 0x7f9064d97678\n",
       "TimeIntegratorSubject::notify_group[2]: 0 observers. 0x7f9064d97678\n",
       "+++ Const timestep +++19t=4.5->0.25\n",
       "TimeIntegratorSubject::notify_group[0]: 0 observers. 0x7f9064d97678\n",
       "TimeIntegratorSubject::notify_group[2]: 0 observers. 0x7f9064d97678\n",
       "+++ Const timestep +++20t=4.75->0.25\n",
       "TimeIntegratorSubject::notify_group[0]: 0 observers. 0x7f9064d97678\n",
       "TimeIntegratorSubject::notify_group[2]: 0 observers. 0x7f9064d97678\n",
       "+++ Const timestep +++21t=5->0.25\n",
       "TimeIntegratorSubject::notify_group[0]: 0 observers. 0x7f9064d97678\n",
       "TimeIntegratorSubject::notify_group[2]: 0 observers. 0x7f9064d97678\n",
       "+++ Const timestep +++22t=5.25->0.25\n",
       "TimeIntegratorSubject::notify_group[0]: 0 observers. 0x7f9064d97678\n",
       "TimeIntegratorSubject::notify_group[2]: 0 observers. 0x7f9064d97678\n",
       "+++ Const timestep +++23t=5.5->0.25\n",
       "TimeIntegratorSubject::notify_group[0]: 0 observers. 0x7f9064d97678\n",
       "TimeIntegratorSubject::notify_group[2]: 0 observers. 0x7f9064d97678\n",
       "+++ Const timestep +++24t=5.75->0.25\n",
       "TimeIntegratorSubject::notify_group[0]: 0 observers. 0x7f9064d97678\n",
       "TimeIntegratorSubject::notify_group[2]: 0 observers. 0x7f9064d97678\n",
       "+++ Const timestep +++25t=6->0.25\n",
       "TimeIntegratorSubject::notify_group[0]: 0 observers. 0x7f9064d97678\n",
       "TimeIntegratorSubject::notify_group[2]: 0 observers. 0x7f9064d97678\n",
       "+++ Const timestep +++26t=6.25->0.25\n",
       "TimeIntegratorSubject::notify_group[0]: 0 observers. 0x7f9064d97678\n",
       "TimeIntegratorSubject::notify_group[2]: 0 observers. 0x7f9064d97678\n",
       "+++ Const timestep +++27t=6.5->0.25\n",
       "TimeIntegratorSubject::notify_group[0]: 0 observers. 0x7f9064d97678\n",
       "TimeIntegratorSubject::notify_group[2]: 0 observers. 0x7f9064d97678\n",
       "+++ Const timestep +++28t=6.75->0.25\n",
       "TimeIntegratorSubject::notify_group[0]: 0 observers. 0x7f9064d97678\n",
       "TimeIntegratorSubject::notify_group[2]: 0 observers. 0x7f9064d97678\n",
       "+++ Const timestep +++29t=7->0.25\n",
       "TimeIntegratorSubject::notify_group[0]: 0 observers. 0x7f9064d97678\n",
       "TimeIntegratorSubject::notify_group[2]: 0 observers. 0x7f9064d97678\n",
       "+++ Const timestep +++30t=7.25->0.25\n",
       "TimeIntegratorSubject::notify_group[0]: 0 observers. 0x7f9064d97678\n",
       "TimeIntegratorSubject::notify_group[2]: 0 observers. 0x7f9064d97678\n",
       "+++ Const timestep +++31t=7.5->0.25\n",
       "TimeIntegratorSubject::notify_group[0]: 0 observers. 0x7f9064d97678\n",
       "TimeIntegratorSubject::notify_group[2]: 0 observers. 0x7f9064d97678\n",
       "+++ Const timestep +++32t=7.75->0.25\n",
       "TimeIntegratorSubject::notify_group[0]: 0 observers. 0x7f9064d97678\n",
       "TimeIntegratorSubject::notify_group[2]: 0 observers. 0x7f9064d97678\n",
       "+++ Const timestep +++33t=8->0.25\n",
       "TimeIntegratorSubject::notify_group[0]: 0 observers. 0x7f9064d97678\n",
       "TimeIntegratorSubject::notify_group[2]: 0 observers. 0x7f9064d97678\n",
       "+++ Const timestep +++34t=8.25->0.25\n",
       "TimeIntegratorSubject::notify_group[0]: 0 observers. 0x7f9064d97678\n",
       "TimeIntegratorSubject::notify_group[2]: 0 observers. 0x7f9064d97678\n",
       "+++ Const timestep +++35t=8.5->0.25\n",
       "TimeIntegratorSubject::notify_group[0]: 0 observers. 0x7f9064d97678\n",
       "TimeIntegratorSubject::notify_group[2]: 0 observers. 0x7f9064d97678\n",
       "+++ Const timestep +++36t=8.75->0.25\n",
       "TimeIntegratorSubject::notify_group[0]: 0 observers. 0x7f9064d97678\n",
       "TimeIntegratorSubject::notify_group[2]: 0 observers. 0x7f9064d97678\n",
       "+++ Const timestep +++37t=9->0.25\n",
       "TimeIntegratorSubject::notify_group[0]: 0 observers. 0x7f9064d97678\n",
       "TimeIntegratorSubject::notify_group[2]: 0 observers. 0x7f9064d97678\n",
       "+++ Const timestep +++38t=9.25->0.25\n",
       "TimeIntegratorSubject::notify_group[0]: 0 observers. 0x7f9064d97678\n",
       "TimeIntegratorSubject::notify_group[2]: 0 observers. 0x7f9064d97678\n",
       "+++ Const timestep +++39t=9.5->0.25\n",
       "TimeIntegratorSubject::notify_group[0]: 0 observers. 0x7f9064d97678\n",
       "TimeIntegratorSubject::notify_group[2]: 0 observers. 0x7f9064d97678\n",
       "+++ Const timestep +++40t=9.75->0.25\n",
       "TimeIntegratorSubject::notify_group[0]: 0 observers. 0x7f9064d97678\n",
       "TimeIntegratorSubject::notify_group[2]: 0 observers. 0x7f9064d97678\n"
      ]
     },
     "execution_count": 47,
     "metadata": {},
     "output_type": "execute_result"
    }
   ],
   "source": [
    "timeInt:apply(u, endTime, u, startTime)"
   ]
  },
  {
   "cell_type": "code",
   "execution_count": null,
   "metadata": {},
   "outputs": [],
   "source": []
  },
  {
   "cell_type": "code",
   "execution_count": null,
   "metadata": {},
   "outputs": [],
   "source": []
  }
 ],
 "metadata": {
  "kernelspec": {
   "display_name": "UG4-Lua 0.1.0",
   "language": "lua",
   "name": "ug4_kernel"
  },
  "language_info": {
   "codemirror_mode": "lua",
   "file_extension": ".lua",
   "mimetype": "text/x-lua",
   "name": "lua",
   "version": "1.0"
  }
 },
 "nbformat": 4,
 "nbformat_minor": 2
}
