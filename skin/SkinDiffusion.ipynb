{
 "cells": [
  {
   "cell_type": "markdown",
   "metadata": {},
   "source": [
    "[<img src=\"../header.svg\">](../index.ipynd)\n",
    "\n",
    "---"
   ]
  },
  {
   "cell_type": "markdown",
   "metadata": {},
   "source": [
    "# Simulation of Drug Transport across a Virtual Skin Membrane"
   ]
  },
  {
   "cell_type": "markdown",
   "metadata": {},
   "source": [
    "### Initialize UG4 (for 2D and standard algebra)"
   ]
  },
  {
   "cell_type": "code",
   "execution_count": null,
   "metadata": {},
   "outputs": [],
   "source": [
    "InitUG(2, AlgebraType(\"CPU\", 1));\n",
    "ug_load_script(\"ug_util.lua\")\n",
    "ug_load_script(\"util/refinement_util.lua\")"
   ]
  },
  {
   "cell_type": "markdown",
   "metadata": {},
   "source": [
    "### Create Domain"
   ]
  },
  {
   "cell_type": "code",
   "execution_count": null,
   "metadata": {},
   "outputs": [],
   "source": [
    "requiredSubsets = {\"LIP\", \"COR\", \"BOTTOM_SC\", \"TOP_SC\"}\n",
    "gridName = \"skin2d-aniso.ugx\"\n",
    "numRefs = 2"
   ]
  },
  {
   "cell_type": "code",
   "execution_count": null,
   "metadata": {},
   "outputs": [],
   "source": [
    "dom = util.CreateDomain(gridName, numRefs, requiredSubsets)"
   ]
  },
  {
   "cell_type": "markdown",
   "metadata": {},
   "source": [
    "### Create Approximation space"
   ]
  },
  {
   "cell_type": "code",
   "execution_count": null,
   "metadata": {},
   "outputs": [],
   "source": [
    "approxSpaceDesc = { fct = \"c\", type = \"Lagrange\", order = 1 }"
   ]
  },
  {
   "cell_type": "code",
   "execution_count": null,
   "metadata": {},
   "outputs": [],
   "source": [
    "approxSpace = ApproximationSpace(dom)\n",
    "approxSpace:add_fct(approxSpaceDesc.fct, approxSpaceDesc.type, approxSpaceDesc.order)\n",
    "approxSpace:init_levels()\n",
    "approxSpace:init_top_surface()\n",
    "print(\"Approximation space:\")\n",
    "approxSpace:print_statistic()"
   ]
  },
  {
   "cell_type": "markdown",
   "metadata": {},
   "source": [
    "## Create a convection-diffusion-equation\n",
    "Model parameter"
   ]
  },
  {
   "cell_type": "code",
   "execution_count": null,
   "metadata": {},
   "outputs": [],
   "source": [
    "K={\n",
    "    [\"LIP\"] = 1.0, [\"COR\"] = 1.0,\n",
    "}\n",
    "\n",
    "D={\n",
    "     [\"LIP\"] = 1, [\"COR\"] = 0.1, \n",
    "}\n"
   ]
  },
  {
   "cell_type": "code",
   "execution_count": null,
   "metadata": {},
   "outputs": [],
   "source": [
    "elemDisc ={}\n",
    "\n",
    "elemDisc[\"COR\"] = ConvectionDiffusion(\"c\", \"COR\", \"fv1\")\n",
    "elemDisc[\"COR\"]:set_diffusion(K[\"COR\"]*D[\"COR\"])\n",
    "elemDisc[\"COR\"]:set_mass_scale(K[\"COR\"])\n",
    "\n",
    "elemDisc[\"LIP\"] = ConvectionDiffusion(\"c\", \"LIP\", \"fv1\")\n",
    "elemDisc[\"LIP\"]:set_diffusion(K[\"LIP\"]*D[\"LIP\"])\n",
    "elemDisc[\"LIP\"]:set_mass_scale(K[\"LIP\"])"
   ]
  },
  {
   "cell_type": "code",
   "execution_count": null,
   "metadata": {},
   "outputs": [],
   "source": [
    "dirichletBnd = DirichletBoundary()\n",
    "dirichletBnd:add(1.0, \"c\", \"TOP_SC\")\n",
    "dirichletBnd:add(0.0, \"c\", \"BOTTOM_SC\")"
   ]
  },
  {
   "cell_type": "code",
   "execution_count": null,
   "metadata": {},
   "outputs": [],
   "source": [
    "domainDisc = DomainDiscretization(approxSpace)\n",
    "domainDisc:add(elemDisc[\"LIP\"])\n",
    "domainDisc:add(elemDisc[\"COR\"])\n",
    "domainDisc:add(dirichletBnd)"
   ]
  },
  {
   "cell_type": "markdown",
   "metadata": {},
   "source": [
    "## Create  solver"
   ]
  },
  {
   "cell_type": "code",
   "execution_count": null,
   "metadata": {},
   "outputs": [],
   "source": [
    "lsolver=SuperLU()"
   ]
  },
  {
   "cell_type": "markdown",
   "metadata": {},
   "source": [
    "## Solve transient problem"
   ]
  },
  {
   "cell_type": "code",
   "execution_count": null,
   "metadata": {},
   "outputs": [],
   "source": [
    "u = GridFunction(approxSpace)\n",
    "u:set(0.0)"
   ]
  },
  {
   "cell_type": "code",
   "execution_count": null,
   "metadata": {
    "scrolled": true
   },
   "outputs": [],
   "source": [
    "startTime = 0.0\n",
    "endTime = 1000.0\n",
    "dt=25.0"
   ]
  },
  {
   "cell_type": "code",
   "execution_count": 1,
   "metadata": {},
   "outputs": [
    {
     "ename": "LUA-ERROR",
     "evalue": "---",
     "output_type": "error",
     "traceback": [
      "LUA-ERROR: ---"
     ]
    },
    {
     "data": {
      "text/plain": [
       "* Initializing: paths... done, bridge... done, plugins... done                 *\n",
       "LUA-ERROR! Call stack:\n",
       "   1  buffer:1        \n",
       "LUA-ERROR: \n",
       "[string \"buffer\"]:1: attempt to index global 'util' (a nil value)\n",
       " % ABORTING script parsing.\n"
      ]
     },
     "execution_count": 1,
     "metadata": {},
     "output_type": "execute_result"
    }
   ],
   "source": [
    "util.SolveLinearTimeProblem(u, domainDisc, lsolver, VTKOutput(), \"vtk/skin\",\n",
    "                            \"ImplEuler\", 1, startTime, endTime, dt); "
   ]
  },
  {
   "cell_type": "code",
   "execution_count": 14,
   "metadata": {},
   "outputs": [
    {
     "data": {
      "text/plain": []
     },
     "execution_count": 14,
     "metadata": {},
     "output_type": "execute_result"
    }
   ],
   "source": [
    "timeDisc=ThetaTimeStep(domainDisc, 1.0)\n",
    "\n",
    "timeInt = LinearTimeIntegrator(timeDisc)\n",
    "timeInt:set_linear_solver(lsolver)\n",
    "timeInt:set_time_step(0.25)\n"
   ]
  },
  {
   "cell_type": "code",
   "execution_count": null,
   "metadata": {},
   "outputs": [],
   "source": [
    "timeInt:apply(u, endTime, u, startTime)"
   ]
  },
  {
   "cell_type": "code",
   "execution_count": null,
   "metadata": {},
   "outputs": [],
   "source": [
    "timeInt = ConstStepLinearTimeIntegrator(timeDisc)\n",
    "timeInt:set_linear_solver(lsolver)\n",
    "timeInt:set_time_step(dt)"
   ]
  },
  {
   "cell_type": "code",
   "execution_count": null,
   "metadata": {},
   "outputs": [],
   "source": [
    "timeInt:apply(u, endTime, u, startTime)"
   ]
  },
  {
   "cell_type": "code",
   "execution_count": null,
   "metadata": {},
   "outputs": [],
   "source": []
  },
  {
   "cell_type": "code",
   "execution_count": null,
   "metadata": {},
   "outputs": [],
   "source": []
  },
  {
   "cell_type": "code",
   "execution_count": null,
   "metadata": {},
   "outputs": [],
   "source": []
  },
  {
   "cell_type": "code",
   "execution_count": null,
   "metadata": {},
   "outputs": [],
   "source": []
  },
  {
   "cell_type": "code",
   "execution_count": null,
   "metadata": {},
   "outputs": [],
   "source": []
  },
  {
   "cell_type": "code",
   "execution_count": null,
   "metadata": {},
   "outputs": [],
   "source": []
  }
 ],
 "metadata": {
  "kernelspec": {
   "display_name": "UG4-Lua 0.1.0",
   "language": "lua",
   "name": "ug4_kernel"
  },
  "language_info": {
   "codemirror_mode": "text/x-lua",
   "file_extension": ".lua",
   "mimetype": "text/x-lua",
   "name": "lua",
   "version": "1.0"
  }
 },
 "nbformat": 4,
 "nbformat_minor": 2
}
