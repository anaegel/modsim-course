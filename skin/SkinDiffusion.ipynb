{
 "cells": [
  {
   "cell_type": "markdown",
   "metadata": {},
   "source": [
    "[<img src=\"../header.svg\">](../index.ipynb)\n",
    "\n",
    "---"
   ]
  },
  {
   "cell_type": "markdown",
   "metadata": {},
   "source": [
    "# Simulation of Drug Transport across a Virtual Skin Membrane"
   ]
  },
  {
   "cell_type": "markdown",
   "metadata": {},
   "source": [
    "### Initialize UG4 (for 2D and standard algebra)"
   ]
  },
  {
   "cell_type": "code",
   "execution_count": 1,
   "metadata": {},
   "outputs": [
    {
     "data": {
      "text/plain": [
       "* Initializing: paths... done, bridge... done, plugins... done                 *\n",
       "Loading Plugin Lua Content from /Users/anaegel/Software/ug4-git/plugins/Poroelasticity/lua/lua-include.lua\n",
       "Loading Plugin Lua Content from /Users/anaegel/Software/ug4-git/plugins/d3f/lua/lua-include.lua\n",
       "Loading Plugin Lua Content from /Users/anaegel/Software/ug4-git/plugins/Limex/lua/lua-include.lua\n",
       "LIMEX-Plugin: Loading util.limex.*\n",
       "Loading Plugin Lua Content from /Users/anaegel/Software/ug4-git/plugins/RepoTrend/lua/lua-include.lua\n",
       "RepoTrend-Plugin: Extended package.path:./?.lua;/usr/local/share/lua/5.1/?.lua;/usr/local/share/lua/5.1/?/init.lua;/usr/local/lib/lua/5.1/?.lua;/usr/local/lib/lua/5.1/?/init.lua;/Users/anaegel/Software/ug4-git/plugins/RepoTrend/lua/?.lua\n"
      ]
     },
     "execution_count": 1,
     "metadata": {},
     "output_type": "execute_result"
    }
   ],
   "source": [
    "InitUG(2, AlgebraType(\"CPU\", 1));\n",
    "ug_load_script(\"ug_util.lua\")\n",
    "ug_load_script(\"util/refinement_util.lua\")"
   ]
  },
  {
   "cell_type": "markdown",
   "metadata": {},
   "source": [
    "### Create Domain"
   ]
  },
  {
   "cell_type": "code",
   "execution_count": 2,
   "metadata": {},
   "outputs": [
    {
     "data": {
      "text/plain": []
     },
     "execution_count": 2,
     "metadata": {},
     "output_type": "execute_result"
    }
   ],
   "source": [
    "requiredSubsets = {\"LIP\", \"COR\", \"BOTTOM_SC\", \"TOP_SC\"}\n",
    "gridName = \"skin2d-aniso.ugx\"\n",
    "numRefs = 2"
   ]
  },
  {
   "cell_type": "code",
   "execution_count": 3,
   "metadata": {},
   "outputs": [
    {
     "data": {
      "text/plain": [
       "Loading Domain skin2d-aniso.ugx ... done.\n",
       "Performing integrity check on domain ... done.\n",
       "Refining(2): 1 2 done.\n"
      ]
     },
     "execution_count": 3,
     "metadata": {},
     "output_type": "execute_result"
    }
   ],
   "source": [
    "dom = util.CreateDomain(gridName, numRefs, requiredSubsets)"
   ]
  },
  {
   "cell_type": "markdown",
   "metadata": {},
   "source": [
    "### Create Approximation space"
   ]
  },
  {
   "cell_type": "code",
   "execution_count": 4,
   "metadata": {},
   "outputs": [
    {
     "data": {
      "text/plain": []
     },
     "execution_count": 4,
     "metadata": {},
     "output_type": "execute_result"
    }
   ],
   "source": [
    "approxSpaceDesc = { fct = \"c\", type = \"Lagrange\", order = 1 }"
   ]
  },
  {
   "cell_type": "code",
   "execution_count": 5,
   "metadata": {},
   "outputs": [
    {
     "data": {
      "text/plain": [
       "Approximation space:\n",
       "| ----------------------------------------------------------------------------------------- |\n",
       "|  Number of DoFs (All Procs)                                                               |\n",
       "|  Algebra: Block 1 (divide by 1 for #Index)                                                |\n",
       "|                                                                                           |\n",
       "|    GridLevel   |       Domain |       0: LIP |       1: COR | 2: BOTTOM_SC |    3: TOP_SC |\n",
       "| ----------------------------------------------------------------------------------------- |\n",
       "| (lev,    0)    |          680 |           32 |          608 |           20 |           20 |\n",
       "| (lev,    1)    |         2613 |          783 |         1752 |           39 |           39 |\n",
       "| (lev,    2)    |        10241 |         4367 |         5720 |           77 |           77 |\n",
       "| (lev,    0, g) |          680 |           32 |          608 |           20 |           20 |\n",
       "| (lev,    1, g) |         2613 |          783 |         1752 |           39 |           39 |\n",
       "| (lev,    2, g) |        10241 |         4367 |         5720 |           77 |           77 |\n",
       "| (surf, top)    |        10241 |         4367 |         5720 |           77 |           77 |\n",
       "| ----------------------------------------------------------------------------------------- |\n",
       "| For Legend and Options: print_statistic(\"legend\").                                        |\n",
       "| ----------------------------------------------------------------------------------------- |\n"
      ]
     },
     "execution_count": 5,
     "metadata": {},
     "output_type": "execute_result"
    }
   ],
   "source": [
    "approxSpace = ApproximationSpace(dom)\n",
    "approxSpace:add_fct(approxSpaceDesc.fct, approxSpaceDesc.type, approxSpaceDesc.order)\n",
    "approxSpace:init_levels()\n",
    "approxSpace:init_top_surface()\n",
    "print(\"Approximation space:\")\n",
    "approxSpace:print_statistic()"
   ]
  },
  {
   "cell_type": "markdown",
   "metadata": {},
   "source": [
    "## Create a convection-diffusion-equation\n",
    "$$\\frac{\\partial Ku}{\\partial t} + \\nabla \\cdot [-DK \\nabla u] = 0$$\n",
    "Model parameter"
   ]
  },
  {
   "cell_type": "code",
   "execution_count": 6,
   "metadata": {},
   "outputs": [
    {
     "data": {
      "text/plain": []
     },
     "execution_count": 6,
     "metadata": {},
     "output_type": "execute_result"
    }
   ],
   "source": [
    "K={\n",
    "    [\"LIP\"] = 1.0, [\"COR\"] = 1.0,\n",
    "}\n",
    "\n",
    "D={\n",
    "     [\"LIP\"] = 1, [\"COR\"] = 0.001, \n",
    "}\n"
   ]
  },
  {
   "cell_type": "code",
   "execution_count": 7,
   "metadata": {},
   "outputs": [
    {
     "data": {
      "text/plain": []
     },
     "execution_count": 7,
     "metadata": {},
     "output_type": "execute_result"
    }
   ],
   "source": [
    "elemDisc ={}\n",
    "\n",
    "elemDisc[\"COR\"] = ConvectionDiffusion(\"c\", \"COR\", \"fv1\")\n",
    "elemDisc[\"COR\"]:set_diffusion(K[\"COR\"]*D[\"COR\"])\n",
    "elemDisc[\"COR\"]:set_mass_scale(K[\"COR\"])\n",
    "\n",
    "elemDisc[\"LIP\"] = ConvectionDiffusion(\"c\", \"LIP\", \"fv1\")\n",
    "elemDisc[\"LIP\"]:set_diffusion(K[\"LIP\"]*D[\"LIP\"])\n",
    "elemDisc[\"LIP\"]:set_mass_scale(K[\"LIP\"])"
   ]
  },
  {
   "cell_type": "code",
   "execution_count": 8,
   "metadata": {},
   "outputs": [
    {
     "data": {
      "text/plain": []
     },
     "execution_count": 8,
     "metadata": {},
     "output_type": "execute_result"
    }
   ],
   "source": [
    "dirichletBnd = DirichletBoundary()\n",
    "dirichletBnd:add(1.0, \"c\", \"TOP_SC\")\n",
    "dirichletBnd:add(0.0, \"c\", \"BOTTOM_SC\")"
   ]
  },
  {
   "cell_type": "code",
   "execution_count": 9,
   "metadata": {},
   "outputs": [
    {
     "data": {
      "text/plain": []
     },
     "execution_count": 9,
     "metadata": {},
     "output_type": "execute_result"
    }
   ],
   "source": [
    "domainDisc = DomainDiscretization(approxSpace)\n",
    "domainDisc:add(elemDisc[\"LIP\"])\n",
    "domainDisc:add(elemDisc[\"COR\"])\n",
    "domainDisc:add(dirichletBnd)"
   ]
  },
  {
   "cell_type": "markdown",
   "metadata": {},
   "source": [
    "## Create  solver"
   ]
  },
  {
   "cell_type": "code",
   "execution_count": 10,
   "metadata": {},
   "outputs": [
    {
     "data": {
      "text/plain": []
     },
     "execution_count": 10,
     "metadata": {},
     "output_type": "execute_result"
    }
   ],
   "source": [
    "lsolver=SuperLU()"
   ]
  },
  {
   "cell_type": "markdown",
   "metadata": {},
   "source": [
    "## Solve transient problem"
   ]
  },
  {
   "cell_type": "code",
   "execution_count": 11,
   "metadata": {},
   "outputs": [
    {
     "data": {
      "text/plain": []
     },
     "execution_count": 11,
     "metadata": {},
     "output_type": "execute_result"
    }
   ],
   "source": [
    "u = GridFunction(approxSpace)\n",
    "u:set(0.0)"
   ]
  },
  {
   "cell_type": "code",
   "execution_count": 12,
   "metadata": {
    "scrolled": true
   },
   "outputs": [
    {
     "data": {
      "text/plain": []
     },
     "execution_count": 12,
     "metadata": {},
     "output_type": "execute_result"
    }
   ],
   "source": [
    "startTime = 0.0\n",
    "endTime = 1000.0\n",
    "dt=25.0"
   ]
  },
  {
   "cell_type": "code",
   "execution_count": 13,
   "metadata": {},
   "outputs": [
    {
     "data": {
      "text/plain": [
       "SolveLinearTimeProblem, Linear Solver setup:\n",
       "SuperLU\n",
       ">> Writing start values\n",
       "++++++ TIMESTEP 1 BEGIN (current time: 0) ++++++\n",
       "++++++ Time step size: 25\n",
       "++++++ Assembling Matrix/Rhs for step size 25\n",
       "++++++ TIMESTEP 1 END   (current time: 25) ++++++\n",
       "++++++ TIMESTEP 2 BEGIN (current time: 25) ++++++\n",
       "++++++ Time step size: 25\n",
       "++++++ TIMESTEP 2 END   (current time: 50) ++++++\n",
       "++++++ TIMESTEP 3 BEGIN (current time: 50) ++++++\n",
       "++++++ Time step size: 25\n",
       "++++++ TIMESTEP 3 END   (current time: 75) ++++++\n",
       "++++++ TIMESTEP 4 BEGIN (current time: 75) ++++++\n",
       "++++++ Time step size: 25\n",
       "++++++ TIMESTEP 4 END   (current time: 100) ++++++\n",
       "++++++ TIMESTEP 5 BEGIN (current time: 100) ++++++\n",
       "++++++ Time step size: 25\n",
       "++++++ TIMESTEP 5 END   (current time: 125) ++++++\n",
       "++++++ TIMESTEP 6 BEGIN (current time: 125) ++++++\n",
       "++++++ Time step size: 25\n",
       "++++++ TIMESTEP 6 END   (current time: 150) ++++++\n",
       "++++++ TIMESTEP 7 BEGIN (current time: 150) ++++++\n",
       "++++++ Time step size: 25\n",
       "++++++ TIMESTEP 7 END   (current time: 175) ++++++\n",
       "++++++ TIMESTEP 8 BEGIN (current time: 175) ++++++\n",
       "++++++ Time step size: 25\n",
       "++++++ TIMESTEP 8 END   (current time: 200) ++++++\n",
       "++++++ TIMESTEP 9 BEGIN (current time: 200) ++++++\n",
       "++++++ Time step size: 25\n",
       "++++++ TIMESTEP 9 END   (current time: 225) ++++++\n",
       "++++++ TIMESTEP 10 BEGIN (current time: 225) ++++++\n",
       "++++++ Time step size: 25\n",
       "++++++ TIMESTEP 10 END   (current time: 250) ++++++\n",
       "++++++ TIMESTEP 11 BEGIN (current time: 250) ++++++\n",
       "++++++ Time step size: 25\n",
       "++++++ TIMESTEP 11 END   (current time: 275) ++++++\n",
       "++++++ TIMESTEP 12 BEGIN (current time: 275) ++++++\n",
       "++++++ Time step size: 25\n",
       "++++++ TIMESTEP 12 END   (current time: 300) ++++++\n",
       "++++++ TIMESTEP 13 BEGIN (current time: 300) ++++++\n",
       "++++++ Time step size: 25\n",
       "++++++ TIMESTEP 13 END   (current time: 325) ++++++\n",
       "++++++ TIMESTEP 14 BEGIN (current time: 325) ++++++\n",
       "++++++ Time step size: 25\n",
       "++++++ TIMESTEP 14 END   (current time: 350) ++++++\n",
       "++++++ TIMESTEP 15 BEGIN (current time: 350) ++++++\n",
       "++++++ Time step size: 25\n",
       "++++++ TIMESTEP 15 END   (current time: 375) ++++++\n",
       "++++++ TIMESTEP 16 BEGIN (current time: 375) ++++++\n",
       "++++++ Time step size: 25\n",
       "++++++ TIMESTEP 16 END   (current time: 400) ++++++\n",
       "++++++ TIMESTEP 17 BEGIN (current time: 400) ++++++\n",
       "++++++ Time step size: 25\n",
       "++++++ TIMESTEP 17 END   (current time: 425) ++++++\n",
       "++++++ TIMESTEP 18 BEGIN (current time: 425) ++++++\n",
       "++++++ Time step size: 25\n",
       "++++++ TIMESTEP 18 END   (current time: 450) ++++++\n",
       "++++++ TIMESTEP 19 BEGIN (current time: 450) ++++++\n",
       "++++++ Time step size: 25\n",
       "++++++ TIMESTEP 19 END   (current time: 475) ++++++\n",
       "++++++ TIMESTEP 20 BEGIN (current time: 475) ++++++\n",
       "++++++ Time step size: 25\n",
       "++++++ TIMESTEP 20 END   (current time: 500) ++++++\n",
       "++++++ TIMESTEP 21 BEGIN (current time: 500) ++++++\n",
       "++++++ Time step size: 25\n",
       "++++++ TIMESTEP 21 END   (current time: 525) ++++++\n",
       "++++++ TIMESTEP 22 BEGIN (current time: 525) ++++++\n",
       "++++++ Time step size: 25\n",
       "++++++ TIMESTEP 22 END   (current time: 550) ++++++\n",
       "++++++ TIMESTEP 23 BEGIN (current time: 550) ++++++\n",
       "++++++ Time step size: 25\n",
       "++++++ TIMESTEP 23 END   (current time: 575) ++++++\n",
       "++++++ TIMESTEP 24 BEGIN (current time: 575) ++++++\n",
       "++++++ Time step size: 25\n",
       "++++++ TIMESTEP 24 END   (current time: 600) ++++++\n",
       "++++++ TIMESTEP 25 BEGIN (current time: 600) ++++++\n",
       "++++++ Time step size: 25\n",
       "++++++ TIMESTEP 25 END   (current time: 625) ++++++\n",
       "++++++ TIMESTEP 26 BEGIN (current time: 625) ++++++\n",
       "++++++ Time step size: 25\n",
       "++++++ TIMESTEP 26 END   (current time: 650) ++++++\n",
       "++++++ TIMESTEP 27 BEGIN (current time: 650) ++++++\n",
       "++++++ Time step size: 25\n",
       "++++++ TIMESTEP 27 END   (current time: 675) ++++++\n",
       "++++++ TIMESTEP 28 BEGIN (current time: 675) ++++++\n",
       "++++++ Time step size: 25\n",
       "++++++ TIMESTEP 28 END   (current time: 700) ++++++\n",
       "++++++ TIMESTEP 29 BEGIN (current time: 700) ++++++\n",
       "++++++ Time step size: 25\n",
       "++++++ TIMESTEP 29 END   (current time: 725) ++++++\n",
       "++++++ TIMESTEP 30 BEGIN (current time: 725) ++++++\n",
       "++++++ Time step size: 25\n",
       "++++++ TIMESTEP 30 END   (current time: 750) ++++++\n",
       "++++++ TIMESTEP 31 BEGIN (current time: 750) ++++++\n",
       "++++++ Time step size: 25\n",
       "++++++ TIMESTEP 31 END   (current time: 775) ++++++\n",
       "++++++ TIMESTEP 32 BEGIN (current time: 775) ++++++\n",
       "++++++ Time step size: 25\n",
       "++++++ TIMESTEP 32 END   (current time: 800) ++++++\n",
       "++++++ TIMESTEP 33 BEGIN (current time: 800) ++++++\n",
       "++++++ Time step size: 25\n",
       "++++++ TIMESTEP 33 END   (current time: 825) ++++++\n",
       "++++++ TIMESTEP 34 BEGIN (current time: 825) ++++++\n",
       "++++++ Time step size: 25\n",
       "++++++ TIMESTEP 34 END   (current time: 850) ++++++\n",
       "++++++ TIMESTEP 35 BEGIN (current time: 850) ++++++\n",
       "++++++ Time step size: 25\n",
       "++++++ TIMESTEP 35 END   (current time: 875) ++++++\n",
       "++++++ TIMESTEP 36 BEGIN (current time: 875) ++++++\n",
       "++++++ Time step size: 25\n",
       "++++++ TIMESTEP 36 END   (current time: 900) ++++++\n",
       "++++++ TIMESTEP 37 BEGIN (current time: 900) ++++++\n",
       "++++++ Time step size: 25\n",
       "++++++ TIMESTEP 37 END   (current time: 925) ++++++\n",
       "++++++ TIMESTEP 38 BEGIN (current time: 925) ++++++\n",
       "++++++ Time step size: 25\n",
       "++++++ TIMESTEP 38 END   (current time: 950) ++++++\n",
       "++++++ TIMESTEP 39 BEGIN (current time: 950) ++++++\n",
       "++++++ Time step size: 25\n",
       "++++++ TIMESTEP 39 END   (current time: 975) ++++++\n",
       "++++++ TIMESTEP 40 BEGIN (current time: 975) ++++++\n",
       "++++++ Time step size: 25\n",
       "++++++ TIMESTEP 40 END   (current time: 1000) ++++++\n"
      ]
     },
     "execution_count": 13,
     "metadata": {},
     "output_type": "execute_result"
    }
   ],
   "source": [
    "util.SolveLinearTimeProblem(u, domainDisc, lsolver, VTKOutput(), \"vtk/skin\",\n",
    "                            \"ImplEuler\", 1, startTime, endTime, dt); "
   ]
  },
  {
   "cell_type": "code",
   "execution_count": 14,
   "metadata": {},
   "outputs": [
    {
     "data": {
      "text/plain": []
     },
     "execution_count": 14,
     "metadata": {},
     "output_type": "execute_result"
    }
   ],
   "source": [
    "timeDisc=ThetaTimeStep(domainDisc, 1.0)\n",
    "\n",
    "timeInt = LinearTimeIntegrator(timeDisc)\n",
    "timeInt:set_linear_solver(lsolver)\n",
    "timeInt:set_time_step(0.25)\n"
   ]
  },
  {
   "cell_type": "code",
   "execution_count": null,
   "metadata": {},
   "outputs": [],
   "source": [
    "timeInt:apply(u, endTime, u, startTime)"
   ]
  },
  {
   "cell_type": "code",
   "execution_count": null,
   "metadata": {},
   "outputs": [],
   "source": [
    "timeInt = ConstStepLinearTimeIntegrator(timeDisc)\n",
    "timeInt:set_linear_solver(lsolver)\n",
    "timeInt:set_time_step(dt)"
   ]
  },
  {
   "cell_type": "code",
   "execution_count": null,
   "metadata": {},
   "outputs": [],
   "source": [
    "timeInt:apply(u, endTime, u, startTime)"
   ]
  }
 ],
 "metadata": {
  "kernelspec": {
   "display_name": "UG4-Lua 0.1.0",
   "language": "lua",
   "name": "ug4_kernel"
  },
  "language_info": {
   "codemirror_mode": "text/x-lua",
   "file_extension": ".lua",
   "mimetype": "text/x-lua",
   "name": "lua",
   "version": "1.0"
  }
 },
 "nbformat": 4,
 "nbformat_minor": 2
}
