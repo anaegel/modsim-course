{
 "cells": [
  {
   "cell_type": "markdown",
   "metadata": {},
   "source": [
    "[<img src=\"../header.svg\">](../index.ipynd)\n",
    "\n",
    "---\n",
    "\n",
    "# Drug Transport across a Virtual Skin Membrane:  Extended version\n",
    "[Previous Version](SkinDiffusion.ipybnd)"
   ]
  },
  {
   "cell_type": "markdown",
   "metadata": {},
   "source": [
    "## 1. Setup\n",
    "\n",
    "### Initialize UG4 (for 2D and standard algebra)"
   ]
  },
  {
   "cell_type": "code",
   "execution_count": 1,
   "metadata": {},
   "outputs": [
    {
     "data": {
      "text/plain": [
       "* Initializing: paths... done, bridge... done, plugins... done                 *\n",
       "Loading Plugin Lua Content from /Users/anaegel/Software/ug4-git/plugins/d3f/lua/lua-include.lua\n",
       "Loading Plugin Lua Content from /Users/anaegel/Software/ug4-git/plugins/Limex/lua/lua-include.lua\n",
       "LIMEX-Plugin: Loading util.limex.*\n",
       "Loading Plugin Lua Content from /Users/anaegel/Software/ug4-git/plugins/RepoTrend/lua/lua-include.lua\n",
       "RepoTrend-Plugin: Extended package.path:./?.lua;/usr/local/share/lua/5.1/?.lua;/usr/local/share/lua/5.1/?/init.lua;/usr/local/lib/lua/5.1/?.lua;/usr/local/lib/lua/5.1/?/init.lua;/Users/anaegel/Software/ug4-git/plugins/RepoTrend/lua/?.lua\n"
      ]
     },
     "execution_count": 1,
     "metadata": {},
     "output_type": "execute_result"
    }
   ],
   "source": [
    "InitUG(2, AlgebraType(\"CPU\", 1));\n",
    "ug_load_script(\"ug_util.lua\")\n",
    "ug_load_script(\"util/refinement_util.lua\")"
   ]
  },
  {
   "cell_type": "markdown",
   "metadata": {},
   "source": [
    "### Create Domain"
   ]
  },
  {
   "cell_type": "code",
   "execution_count": 2,
   "metadata": {},
   "outputs": [
    {
     "data": {
      "text/plain": []
     },
     "execution_count": 2,
     "metadata": {},
     "output_type": "execute_result"
    }
   ],
   "source": [
    "requiredSubsets = {\"LIP\", \"COR\", \"BOTTOM_SC\", \"TOP_SC\"}\n",
    "gridName = \"skin2d-aniso.ugx\"\n",
    "numRefs = 3"
   ]
  },
  {
   "cell_type": "code",
   "execution_count": 3,
   "metadata": {},
   "outputs": [
    {
     "data": {
      "text/plain": [
       "Loading Domain skin2d-aniso.ugx ... done.\n",
       "Performing integrity check on domain ... done.\n",
       "Refining(3): 1 2 3 done.\n"
      ]
     },
     "execution_count": 3,
     "metadata": {},
     "output_type": "execute_result"
    }
   ],
   "source": [
    "dom = util.CreateDomain(gridName, numRefs, requiredSubsets)"
   ]
  },
  {
   "cell_type": "markdown",
   "metadata": {},
   "source": [
    "### Create Approximation space"
   ]
  },
  {
   "cell_type": "code",
   "execution_count": 4,
   "metadata": {},
   "outputs": [
    {
     "data": {
      "text/plain": []
     },
     "execution_count": 4,
     "metadata": {},
     "output_type": "execute_result"
    }
   ],
   "source": [
    "approxSpaceDesc = { fct = \"u\", type = \"Lagrange\", order = 1 }"
   ]
  },
  {
   "cell_type": "code",
   "execution_count": 5,
   "metadata": {},
   "outputs": [
    {
     "data": {
      "text/plain": [
       "Approximation space:\n",
       "| ----------------------------------------------------------------------------------------- |\n",
       "|  Number of DoFs (All Procs)                                                               |\n",
       "|  Algebra: Block 1 (divide by 1 for #Index)                                                |\n",
       "|                                                                                           |\n",
       "|    GridLevel   |       Domain |       0: LIP |       1: COR | 2: BOTTOM_SC |    3: TOP_SC |\n",
       "| ----------------------------------------------------------------------------------------- |\n",
       "| (lev,    0)    |          680 |           32 |          608 |           20 |           20 |\n",
       "| (lev,    1)    |         2613 |          783 |         1752 |           39 |           39 |\n",
       "| (lev,    2)    |        10241 |         4367 |         5720 |           77 |           77 |\n",
       "| (lev,    3)    |        40545 |        19863 |        20376 |          153 |          153 |\n",
       "| (lev,    0, g) |          680 |           32 |          608 |           20 |           20 |\n",
       "| (lev,    1, g) |         2613 |          783 |         1752 |           39 |           39 |\n",
       "| (lev,    2, g) |        10241 |         4367 |         5720 |           77 |           77 |\n",
       "| (lev,    3, g) |        40545 |        19863 |        20376 |          153 |          153 |\n",
       "| (surf, top)    |        40545 |        19863 |        20376 |          153 |          153 |\n",
       "| ----------------------------------------------------------------------------------------- |\n",
       "| For Legend and Options: print_statistic(\"legend\").                                        |\n",
       "| ----------------------------------------------------------------------------------------- |\n"
      ]
     },
     "execution_count": 5,
     "metadata": {},
     "output_type": "execute_result"
    }
   ],
   "source": [
    "approxSpace = ApproximationSpace(dom)\n",
    "approxSpace:add_fct(approxSpaceDesc.fct, approxSpaceDesc.type, approxSpaceDesc.order)\n",
    "approxSpace:init_levels()\n",
    "approxSpace:init_top_surface()\n",
    "print(\"Approximation space:\")\n",
    "approxSpace:print_statistic()"
   ]
  },
  {
   "cell_type": "markdown",
   "metadata": {},
   "source": [
    "### Create a convection-diffusion-equation\n",
    "Define model parameter"
   ]
  },
  {
   "cell_type": "code",
   "execution_count": 6,
   "metadata": {},
   "outputs": [
    {
     "data": {
      "text/plain": []
     },
     "execution_count": 6,
     "metadata": {},
     "output_type": "execute_result"
    }
   ],
   "source": [
    "K={\n",
    "    [\"LIP\"] = 1.0, [\"COR\"] = 1.0,\n",
    "}\n",
    "\n",
    "D={\n",
    "     [\"LIP\"] = 1, [\"COR\"] = 0.01, \n",
    "}\n"
   ]
  },
  {
   "cell_type": "code",
   "execution_count": 7,
   "metadata": {},
   "outputs": [
    {
     "data": {
      "text/plain": []
     },
     "execution_count": 7,
     "metadata": {},
     "output_type": "execute_result"
    }
   ],
   "source": [
    "elemDisc ={}\n",
    "\n",
    "elemDisc[\"COR\"] = ConvectionDiffusion(\"u\", \"COR\", \"fv1\")\n",
    "elemDisc[\"COR\"]:set_diffusion(K[\"COR\"]*D[\"COR\"])\n",
    "elemDisc[\"COR\"]:set_mass_scale(K[\"COR\"])\n",
    "\n",
    "elemDisc[\"LIP\"] = ConvectionDiffusion(\"u\", \"LIP\", \"fv1\")\n",
    "elemDisc[\"LIP\"]:set_diffusion(K[\"LIP\"]*D[\"LIP\"])\n",
    "elemDisc[\"LIP\"]:set_mass_scale(K[\"LIP\"])"
   ]
  },
  {
   "cell_type": "code",
   "execution_count": 8,
   "metadata": {},
   "outputs": [
    {
     "data": {
      "text/plain": []
     },
     "execution_count": 8,
     "metadata": {},
     "output_type": "execute_result"
    }
   ],
   "source": [
    "dirichletBnd = DirichletBoundary()\n",
    "dirichletBnd:add(1.0, \"u\", \"TOP_SC\")\n",
    "dirichletBnd:add(0.0, \"u\", \"BOTTOM_SC\")"
   ]
  },
  {
   "cell_type": "code",
   "execution_count": 9,
   "metadata": {},
   "outputs": [
    {
     "data": {
      "text/plain": []
     },
     "execution_count": 9,
     "metadata": {},
     "output_type": "execute_result"
    }
   ],
   "source": [
    "domainDisc = DomainDiscretization(approxSpace)\n",
    "domainDisc:add(elemDisc[\"LIP\"])\n",
    "domainDisc:add(elemDisc[\"COR\"])\n",
    "domainDisc:add(dirichletBnd)"
   ]
  },
  {
   "cell_type": "markdown",
   "metadata": {},
   "source": [
    "## 2. Steady state problem\n",
    "Flux is computed from steady state. Since configuration of a multigrid solver is somewhat tricky, we use an LU decomposition here:"
   ]
  },
  {
   "cell_type": "code",
   "execution_count": 10,
   "metadata": {},
   "outputs": [
    {
     "data": {
      "text/plain": []
     },
     "execution_count": 10,
     "metadata": {},
     "output_type": "execute_result"
    }
   ],
   "source": [
    "A = AssembledLinearOperator(domainDisc)\n",
    "u = GridFunction(approxSpace)\n",
    "b = GridFunction(approxSpace)\n",
    "u:set(0.0)\n",
    "\n",
    "\n",
    "domainDisc:assemble_linear(A, b)\n",
    "domainDisc:adjust_solution(u)\n",
    "\n",
    "myLinearSolver =SuperLU()\n",
    "myLinearSolver:init(A, u)\n",
    "myLinearSolver:apply(u, b)\n",
    "\n",
    "WriteGridFunctionToVTK(u, \"SkinSteadyState.vtk\")"
   ]
  },
  {
   "cell_type": "markdown",
   "metadata": {},
   "source": [
    "Compute $J_\\infty=J(t=\\infty)$ for\n",
    "$$ J(t)=\\frac{1}{|\\Gamma|}\\int_\\Gamma (-KD \\nabla u(t,x)) \\cdot \\vec n dA$$"
   ]
  },
  {
   "cell_type": "code",
   "execution_count": 11,
   "metadata": {},
   "outputs": [
    {
     "data": {
      "text/plain": [
       "Surface area [um^2]:\n",
       "30.1\n",
       "Surface fluxes [kg/s]:\n",
       "-0.021312927142976\n",
       "0.021312927143382\n"
      ]
     },
     "execution_count": 11,
     "metadata": {},
     "output_type": "execute_result"
    }
   ],
   "source": [
    "area=Integral(1.0, u, \"BOTTOM_SC\")\n",
    "print(\"Surface area [um^2]:\")\n",
    "print(area)\n",
    "\n",
    "surfaceFlux = {}\n",
    "surfaceFlux[\"BOT\"] = K[\"LIP\"]*D[\"LIP\"]*IntegrateNormalGradientOnManifold(u, \"u\", \"BOTTOM_SC\", \"LIP\")\n",
    "surfaceFlux[\"TOP\"] = K[\"LIP\"]*D[\"LIP\"]*IntegrateNormalGradientOnManifold(u, \"u\", \"TOP_SC\", \"LIP\")\n",
    "print(\"Surface fluxes [kg/s]:\")\n",
    "print(surfaceFlux[\"TOP\"])\n",
    "print(surfaceFlux[\"BOT\"])"
   ]
  },
  {
   "cell_type": "code",
   "execution_count": 12,
   "metadata": {},
   "outputs": [
    {
     "data": {
      "text/plain": [
       "Normalized Fluxes [kg / (mu^2 * s)]:\n",
       "-0.00070807066920187\n",
       "0.00070807066921534\n",
       "0.056818181818182\n"
      ]
     },
     "execution_count": 12,
     "metadata": {},
     "output_type": "execute_result"
    }
   ],
   "source": [
    "print(\"Normalized Fluxes [kg / (mu^2 * s)]:\")\n",
    "print(surfaceFlux[\"TOP\"]/area)\n",
    "print(surfaceFlux[\"BOT\"]/area)\n",
    "print(1.0/17.6)"
   ]
  },
  {
   "cell_type": "code",
   "execution_count": 13,
   "metadata": {},
   "outputs": [
    {
     "data": {
      "text/plain": [
       "Relative Fluxes [1]:\n",
       "-0.012462043777953\n",
       "0.01246204377819\n"
      ]
     },
     "execution_count": 13,
     "metadata": {},
     "output_type": "execute_result"
    }
   ],
   "source": [
    "Jref = 0.05681818181818\n",
    "\n",
    "print(\"Relative Fluxes [1]:\")\n",
    "print(surfaceFlux[\"TOP\"]/area/Jref)\n",
    "print(surfaceFlux[\"BOT\"]/area/Jref)"
   ]
  },
  {
   "cell_type": "markdown",
   "metadata": {},
   "source": [
    "## 3. Transient problem"
   ]
  },
  {
   "cell_type": "markdown",
   "metadata": {},
   "source": [
    "After each time-step, we execute a a callback function `MyPostProcess`. In this function, print the solution and compute\n",
    "$$\n",
    "m(t_k):= \\int_0^{t_k} J(s) \\, ds \\approx \\sum_{i=1}^k(t_{i}- t_{i-1}) \\frac{J(t_{i-1}) +J(t_i)}{2} \n",
    "$$\n",
    "using the trapezoid rule. Moreover, we also compute the lag time $\\tau$ from $m(t_k) = J_\\infty(t_k - \\tau)$.\n"
   ]
  },
  {
   "cell_type": "code",
   "execution_count": 14,
   "metadata": {},
   "outputs": [
    {
     "data": {
      "text/plain": []
     },
     "execution_count": 14,
     "metadata": {},
     "output_type": "execute_result"
    }
   ],
   "source": [
    "-- auxiliary variables\n",
    "-- for output \n",
    "out=VTKOutput()\n",
    "\n",
    "-- for book-keeping\n",
    "tOld = 0.0\n",
    "jOld = 0.0\n",
    "mOld = 0.0\n",
    "\n",
    "\n",
    "function MyPostProcess(u, step, time)\n",
    "  \n",
    "  -- 1) Print solution to file.\n",
    "  out:print(\"vtk/SkinDiffusionWithLagtime\", u, step, time)\n",
    "  \n",
    "  -- 2) Compute fluxes.\n",
    "  local gradFlux={}\n",
    "  gradFlux[\"BOT\"] = IntegrateNormalGradientOnManifold(u, \"u\", \"BOTTOM_SC\", \"LIP\")\n",
    "  gradFlux[\"TOP\"] = IntegrateNormalGradientOnManifold(u, \"u\", \"TOP_SC\", \"LIP\")\n",
    "  \n",
    "  local jTOP = K[\"LIP\"]*D[\"LIP\"]*gradFlux[\"TOP\"]\n",
    "  local jBOT = K[\"LIP\"]*D[\"LIP\"]*gradFlux[\"BOT\"]\n",
    "  print (\"flux_top (\\t\"..time..\"\\t)=\\t\"..jTOP)\n",
    "  print (\"flux_bot (\\t\"..time..\"\\t)=\\t\"..jBOT)\n",
    "  \n",
    "  -- 3) Compute mass.\n",
    "  local dt = time - tOld\n",
    "  local mass = mOld + (time - tOld)*(jBOT + jOld)/2.0\n",
    "  print (\"mass_bot (\\t\"..time..\"\\t)=\\t\"..mass)\n",
    "  \n",
    "  -- 4) Compute lag time.\n",
    "  print (\"tlag=\".. time - mass/jBOT )\n",
    "  \n",
    "  -- 5) Updates\n",
    "  tOld = time\n",
    "  jOld = jBOT\n",
    "  mOld = mass\n",
    "\n",
    "end"
   ]
  },
  {
   "cell_type": "markdown",
   "metadata": {},
   "source": [
    "### Solve transient problem\n",
    "For the purpose of illustration, we solve using `SolveNonlinearTimeProblem`:\n",
    "\n",
    " * First, we create a non-linear solver:"
   ]
  },
  {
   "cell_type": "code",
   "execution_count": 15,
   "metadata": {},
   "outputs": [
    {
     "data": {
      "text/plain": []
     },
     "execution_count": 15,
     "metadata": {},
     "output_type": "execute_result"
    }
   ],
   "source": [
    "local solverDesc = {\n",
    "\n",
    "    type = \"newton\",\n",
    "    linSolver = myLinearSolver,\n",
    "}\n",
    "\n",
    "nlsolver = util.solver.CreateSolver(solverDesc)"
   ]
  },
  {
   "cell_type": "markdown",
   "metadata": {},
   "source": [
    "* Set initial value  "
   ]
  },
  {
   "cell_type": "code",
   "execution_count": 16,
   "metadata": {},
   "outputs": [
    {
     "data": {
      "text/plain": []
     },
     "execution_count": 16,
     "metadata": {},
     "output_type": "execute_result"
    }
   ],
   "source": [
    "u:set(0.0)"
   ]
  },
  {
   "cell_type": "markdown",
   "metadata": {},
   "source": [
    "* Execute time stepping loop w/ fixed time-step "
   ]
  },
  {
   "cell_type": "code",
   "execution_count": 17,
   "metadata": {
    "scrolled": true
   },
   "outputs": [
    {
     "data": {
      "text/plain": [
       "SolveNonlinearTimeProblem, Newton Solver setup:\n",
       "NewtonSolver\n",
       " LinearSolver: SuperLU\n",
       " ConvergenceCheck: StdConvCheck( max steps = 100, min defect = 1e-12, relative reduction = 1e-06)\n",
       " LineSearch:  not set.\n",
       "\n",
       ">> Writing start values\n",
       "flux_top (\t0\t)=\t0\n",
       "flux_bot (\t0\t)=\t0\n",
       "mass_bot (\t0\t)=\t0\n",
       "tlag=nan\n",
       "++++++ TIMESTEP 1 BEGIN (current time: 0) ++++++\n",
       "++++++ Time step size: 25\n",
       "\n",
       "   # ########       Newton Solver        ##################\n",
       "   # ########  (Linear Solver: SuperLU)  ##################\n",
       "   #   Iter      Defect         Rate \n",
       "   #    0:    1.053453e+04      -------\n",
       "   #    1:    1.054158e-11    1.000669e-15\n",
       "   # Relative reduction 1.000000e-06 reached after 1 steps.\n",
       "   # Average reduction over 1 steps: 1.000669e-15\n",
       "   # #####  Iteration converged  #####\n",
       "\n",
       "flux_top (\t25\t)=\t-0.71216336853028\n",
       "flux_bot (\t25\t)=\t2.0072756479913e-13\n",
       "mass_bot (\t25\t)=\t2.5090945599891e-12\n",
       "tlag=12.5\n",
       "++++++ TIMESTEP 1 END   (current time: 25) ++++++\n",
       "++++++ TIMESTEP 2 BEGIN (current time: 25) ++++++\n",
       "++++++ Time step size: 25\n",
       "\n",
       "   # ########       Newton Solver        ##################\n",
       "   # ########  (Linear Solver: SuperLU)  ##################\n",
       "   #   Iter      Defect         Rate \n",
       "   #    0:    4.549937e-01      -------\n",
       "   #    1:    3.540422e-12    7.781256e-12\n",
       "   # Relative reduction 1.000000e-06 reached after 1 steps.\n",
       "   # Average reduction over 1 steps: 7.781256e-12\n",
       "   # #####  Iteration converged  #####\n",
       "\n",
       "flux_top (\t50\t)=\t-0.32984307956684\n",
       "flux_bot (\t50\t)=\t2.6839825670463e-12\n",
       "mass_bot (\t50\t)=\t3.8567971208057e-11\n",
       "tlag=35.630319778678\n",
       "++++++ TIMESTEP 2 END   (current time: 50) ++++++\n",
       "++++++ TIMESTEP 3 BEGIN (current time: 50) ++++++\n",
       "++++++ Time step size: 25\n",
       "\n",
       "   # ########       Newton Solver        ##################\n",
       "   # ########  (Linear Solver: SuperLU)  ##################\n",
       "   #   Iter      Defect         Rate \n",
       "   #    0:    1.650118e-01      -------\n",
       "   #    1:    3.663563e-12    2.220183e-11\n",
       "   # Relative reduction 1.000000e-06 reached after 1 steps.\n",
       "   # Average reduction over 1 steps: 2.220183e-11\n",
       "   # #####  Iteration converged  #####\n",
       "\n",
       "flux_top (\t75\t)=\t-0.24930199363662\n",
       "flux_bot (\t75\t)=\t1.8876846466308e-11\n",
       "mass_bot (\t75\t)=\t3.0807833412499e-10\n",
       "tlag=58.679565616277\n",
       "++++++ TIMESTEP 3 END   (current time: 75) ++++++\n",
       "++++++ TIMESTEP 4 BEGIN (current time: 75) ++++++\n",
       "++++++ Time step size: 25\n",
       "\n",
       "   # ########       Newton Solver        ##################\n",
       "   # ########  (Linear Solver: SuperLU)  ##################\n",
       "   #   Iter      Defect         Rate \n",
       "   #    0:    1.073176e-01      -------\n",
       "   #    1:    3.833724e-12    3.572316e-11\n",
       "   # Relative reduction 1.000000e-06 reached after 1 steps.\n",
       "   # Average reduction over 1 steps: 3.572316e-11\n",
       "   # #####  Iteration converged  #####\n",
       "\n",
       "flux_top (\t100\t)=\t-0.20817275687986\n",
       "flux_bot (\t100\t)=\t9.2947808246616e-11\n",
       "mass_bot (\t100\t)=\t1.7058865180365e-09\n",
       "tlag=81.64683438785\n",
       "++++++ TIMESTEP 4 END   (current time: 100) ++++++\n",
       "++++++ TIMESTEP 5 BEGIN (current time: 100) ++++++\n",
       "++++++ Time step size: 25\n",
       "\n",
       "   # ########       Newton Solver        ##################\n",
       "   # ########  (Linear Solver: SuperLU)  ##################\n",
       "   #   Iter      Defect         Rate \n",
       "   #    0:    8.200401e-02      -------\n",
       "   #    1:    3.923508e-12    4.784532e-11\n",
       "   # Relative reduction 1.000000e-06 reached after 1 steps.\n",
       "   # Average reduction over 1 steps: 4.784532e-11\n",
       "   # #####  Iteration converged  #####\n",
       "\n",
       "flux_top (\t125\t)=\t-0.18238973162372\n",
       "flux_bot (\t125\t)=\t3.5985006169015e-10\n",
       "mass_bot (\t125\t)=\t7.3658598922462e-09\n",
       "tlag=104.53075273171\n",
       "++++++ TIMESTEP 5 END   (current time: 125) ++++++\n",
       "++++++ TIMESTEP 6 BEGIN (current time: 125) ++++++\n",
       "++++++ Time step size: 25\n",
       "\n",
       "   # ########       Newton Solver        ##################\n",
       "   # ########  (Linear Solver: SuperLU)  ##################\n",
       "   #   Iter      Defect         Rate \n",
       "   #    0:    6.749020e-02      -------\n",
       "   #    1:    3.638281e-12    5.390829e-11\n",
       "   # Relative reduction 1.000000e-06 reached after 1 steps.\n",
       "   # Average reduction over 1 steps: 5.390829e-11\n",
       "   # #####  Iteration converged  #####\n",
       "\n",
       "flux_top (\t150\t)=\t-0.16433750987766\n",
       "flux_bot (\t150\t)=\t1.1665151657944e-09\n",
       "mass_bot (\t150\t)=\t2.6445425235803e-08\n",
       "tlag=127.32954871805\n",
       "++++++ TIMESTEP 6 END   (current time: 150) ++++++\n",
       "++++++ TIMESTEP 7 BEGIN (current time: 150) ++++++\n",
       "++++++ Time step size: 25\n",
       "\n",
       "   # ########       Newton Solver        ##################\n",
       "   # ########  (Linear Solver: SuperLU)  ##################\n",
       "   #   Iter      Defect         Rate \n",
       "   #    0:    5.789848e-02      -------\n",
       "   #    1:    3.848687e-12    6.647303e-11\n",
       "   # Relative reduction 1.000000e-06 reached after 1 steps.\n",
       "   # Average reduction over 1 steps: 6.647303e-11\n",
       "   # #####  Iteration converged  #####\n",
       "\n",
       "flux_top (\t175\t)=\t-0.15079507784166\n",
       "flux_bot (\t175\t)=\t3.2929866558778e-09\n",
       "mass_bot (\t175\t)=\t8.2189198006705e-08\n",
       "tlag=150.04113845709\n",
       "++++++ TIMESTEP 7 END   (current time: 175) ++++++\n",
       "++++++ TIMESTEP 8 BEGIN (current time: 175) ++++++\n",
       "++++++ Time step size: 25\n",
       "\n",
       "   # ########       Newton Solver        ##################\n",
       "   # ########  (Linear Solver: SuperLU)  ##################\n",
       "   #   Iter      Defect         Rate \n",
       "   #    0:    5.100320e-02      -------\n",
       "   #    1:    3.783794e-12    7.418739e-11\n",
       "   # Relative reduction 1.000000e-06 reached after 1 steps.\n",
       "   # Average reduction over 1 steps: 7.418739e-11\n",
       "   # #####  Iteration converged  #####\n",
       "\n",
       "flux_top (\t200\t)=\t-0.14014648700099\n",
       "flux_bot (\t200\t)=\t8.3138999981749e-09\n",
       "mass_bot (\t200\t)=\t2.2727528118236e-07\n",
       "tlag=172.66321687388\n",
       "++++++ TIMESTEP 8 END   (current time: 200) ++++++\n",
       "++++++ TIMESTEP 9 BEGIN (current time: 200) ++++++\n",
       "++++++ Time step size: 25\n",
       "\n",
       "   # ########       Newton Solver        ##################\n",
       "   # ########  (Linear Solver: SuperLU)  ##################\n",
       "   #   Iter      Defect         Rate \n",
       "   #    0:    4.576602e-02      -------\n",
       "   #    1:    3.811378e-12    8.327964e-11\n",
       "   # Relative reduction 1.000000e-06 reached after 1 steps.\n",
       "   # Average reduction over 1 steps: 8.327964e-11\n",
       "   # #####  Iteration converged  #####\n",
       "\n",
       "flux_top (\t225\t)=\t-0.1314838126224\n",
       "flux_bot (\t225\t)=\t1.9137090615746e-08\n",
       "mass_bot (\t225\t)=\t5.7041266385637e-07\n",
       "tlag=195.19334467764\n",
       "++++++ TIMESTEP 9 END   (current time: 225) ++++++\n",
       "++++++ TIMESTEP 10 BEGIN (current time: 225) ++++++\n",
       "++++++ Time step size: 25\n",
       "\n",
       "   # ########       Newton Solver        ##################\n",
       "   # ########  (Linear Solver: SuperLU)  ##################\n",
       "   #   Iter      Defect         Rate \n",
       "   #    0:    4.163150e-02      -------\n",
       "   #    1:    3.878277e-12    9.315729e-11\n",
       "   # Relative reduction 1.000000e-06 reached after 1 steps.\n",
       "   # Average reduction over 1 steps: 9.315729e-11\n",
       "   # #####  Iteration converged  #####\n",
       "\n",
       "flux_top (\t250\t)=\t-0.12425386091733\n",
       "flux_bot (\t250\t)=\t4.0744168464743e-08\n",
       "mass_bot (\t250\t)=\t1.3189284023625e-06\n",
       "tlag=217.62902638438\n",
       "++++++ TIMESTEP 10 END   (current time: 250) ++++++\n",
       "++++++ TIMESTEP 11 BEGIN (current time: 250) ++++++\n",
       "++++++ Time step size: 25\n",
       "\n",
       "   # ########       Newton Solver        ##################\n",
       "   # ########  (Linear Solver: SuperLU)  ##################\n",
       "   #   Iter      Defect         Rate \n",
       "   #    0:    3.827255e-02      -------\n",
       "   #    1:    3.957818e-12    1.034114e-10\n",
       "   # Relative reduction 1.000000e-06 reached after 1 steps.\n",
       "   # Average reduction over 1 steps: 1.034114e-10\n",
       "   # #####  Iteration converged  #####\n",
       "\n",
       "flux_top (\t275\t)=\t-0.11809827230174\n",
       "flux_bot (\t275\t)=\t8.1138486974059e-08\n",
       "mass_bot (\t275\t)=\t2.8424615953475e-06\n",
       "tlag=239.96777668215\n",
       "++++++ TIMESTEP 11 END   (current time: 275) ++++++\n",
       "++++++ TIMESTEP 12 BEGIN (current time: 275) ++++++\n",
       "++++++ Time step size: 25\n",
       "\n",
       "   # ########       Newton Solver        ##################\n",
       "   # ########  (Linear Solver: SuperLU)  ##################\n",
       "   #   Iter      Defect         Rate \n",
       "   #    0:    3.548246e-02      -------\n",
       "   #    1:    3.909580e-12    1.101834e-10\n",
       "   # Relative reduction 1.000000e-06 reached after 1 steps.\n",
       "   # Average reduction over 1 steps: 1.101834e-10\n",
       "   # #####  Iteration converged  #####\n",
       "\n",
       "flux_top (\t300\t)=\t-0.11277342404857\n",
       "flux_bot (\t300\t)=\t1.5248168490732e-07\n",
       "mass_bot (\t300\t)=\t5.7627137438647e-06\n",
       "tlag=262.2071742756\n",
       "++++++ TIMESTEP 12 END   (current time: 300) ++++++\n",
       "++++++ TIMESTEP 13 BEGIN (current time: 300) ++++++\n",
       "++++++ Time step size: 25\n",
       "\n",
       "   # ########       Newton Solver        ##################\n",
       "   # ########  (Linear Solver: SuperLU)  ##################\n",
       "   #   Iter      Defect         Rate \n",
       "   #    0:    3.312332e-02      -------\n",
       "   #    1:    4.000627e-12    1.207798e-10\n",
       "   # Relative reduction 1.000000e-06 reached after 1 steps.\n",
       "   # Average reduction over 1 steps: 1.207798e-10\n",
       "   # #####  Iteration converged  #####\n",
       "\n",
       "flux_top (\t325\t)=\t-0.10810709235353\n",
       "flux_bot (\t325\t)=\t2.7237465986495e-07\n",
       "mass_bot (\t325\t)=\t1.1073418053518e-05\n",
       "tlag=284.34490360077\n",
       "++++++ TIMESTEP 13 END   (current time: 325) ++++++\n",
       "++++++ TIMESTEP 14 BEGIN (current time: 325) ++++++\n",
       "++++++ Time step size: 25\n",
       "\n",
       "   # ########       Newton Solver        ##################\n",
       "   # ########  (Linear Solver: SuperLU)  ##################\n",
       "   #   Iter      Defect         Rate \n",
       "   #    0:    3.109921e-02      -------\n",
       "   #    1:    4.113983e-12    1.322858e-10\n",
       "   # Relative reduction 1.000000e-06 reached after 1 steps.\n",
       "   # Average reduction over 1 steps: 1.322858e-10\n",
       "   # #####  Iteration converged  #####\n",
       "\n",
       "flux_top (\t350\t)=\t-0.10397353485932\n",
       "flux_bot (\t350\t)=\t4.6521646267561e-07\n",
       "mass_bot (\t350\t)=\t2.0293307085275e-05\n",
       "tlag=306.37878554735\n",
       "++++++ TIMESTEP 14 END   (current time: 350) ++++++\n",
       "++++++ TIMESTEP 15 BEGIN (current time: 350) ++++++\n",
       "++++++ Time step size: 25\n",
       "\n",
       "   # ########       Newton Solver        ##################\n",
       "   # ########  (Linear Solver: SuperLU)  ##################\n",
       "   #   Iter      Defect         Rate \n",
       "   #    0:    2.934113e-02      -------\n",
       "   #    1:    3.978526e-12    1.355955e-10\n",
       "   # Relative reduction 1.000000e-06 reached after 1 steps.\n",
       "   # Average reduction over 1 steps: 1.355955e-10\n",
       "   # #####  Iteration converged  #####\n",
       "\n",
       "flux_top (\t375\t)=\t-0.10027843511769\n",
       "flux_bot (\t375\t)=\t7.6355859838969e-07\n",
       "mass_bot (\t375\t)=\t3.5652995348591e-05\n",
       "tlag=328.30679868738\n",
       "++++++ TIMESTEP 15 END   (current time: 375) ++++++\n",
       "++++++ TIMESTEP 16 BEGIN (current time: 375) ++++++\n",
       "++++++ Time step size: 25\n",
       "\n",
       "   # ########       Newton Solver        ##################\n",
       "   # ########  (Linear Solver: SuperLU)  ##################\n",
       "   #   Iter      Defect         Rate \n",
       "   #    0:    2.779811e-02      -------\n",
       "   #    1:    3.992557e-12    1.436269e-10\n",
       "   # Relative reduction 1.000000e-06 reached after 1 steps.\n",
       "   # Average reduction over 1 steps: 1.436269e-10\n",
       "   # #####  Iteration converged  #####\n",
       "\n",
       "flux_top (\t400\t)=\t-0.096949417876893\n",
       "flux_bot (\t400\t)=\t1.2093647773206e-06\n",
       "mass_bot (\t400\t)=\t6.0314537544971e-05\n",
       "tlag=350.12709260592\n",
       "++++++ TIMESTEP 16 END   (current time: 400) ++++++\n",
       "++++++ TIMESTEP 17 BEGIN (current time: 400) ++++++\n",
       "++++++ Time step size: 25\n",
       "\n",
       "   # ########       Newton Solver        ##################\n",
       "   # ########  (Linear Solver: SuperLU)  ##################\n",
       "   #   Iter      Defect         Rate \n",
       "   #    0:    2.643159e-02      -------\n",
       "   #    1:    3.997554e-12    1.512415e-10\n",
       "   # Relative reduction 1.000000e-06 reached after 1 steps.\n",
       "   # Average reduction over 1 steps: 1.512415e-10\n",
       "   # #####  Iteration converged  #####\n",
       "\n",
       "flux_top (\t425\t)=\t-0.093929855682751\n",
       "flux_bot (\t425\t)=\t1.8550879871171e-06\n",
       "mass_bot (\t425\t)=\t9.8620197100442e-05\n",
       "tlag=371.83799486314\n",
       "++++++ TIMESTEP 17 END   (current time: 425) ++++++\n",
       "++++++ TIMESTEP 18 BEGIN (current time: 425) ++++++\n",
       "++++++ Time step size: 25\n",
       "\n",
       "   # ########       Newton Solver        ##################\n",
       "   # ########  (Linear Solver: SuperLU)  ##################\n",
       "   #   Iter      Defect         Rate \n",
       "   #    0:    2.521186e-02      -------\n",
       "   #    1:    4.102371e-12    1.627159e-10\n",
       "   # Relative reduction 1.000000e-06 reached after 1 steps.\n",
       "   # Average reduction over 1 steps: 1.627159e-10\n",
       "   # #####  Iteration converged  #####\n",
       "\n",
       "flux_top (\t450\t)=\t-0.091174696456747\n",
       "flux_bot (\t450\t)=\t2.7644871493018e-06\n",
       "mass_bot (\t450\t)=\t0.00015636488630568\n",
       "tlag=393.43801296194\n",
       "++++++ TIMESTEP 18 END   (current time: 450) ++++++\n",
       "++++++ TIMESTEP 19 BEGIN (current time: 450) ++++++\n",
       "++++++ Time step size: 25\n",
       "\n",
       "   # ########       Newton Solver        ##################\n",
       "   # ########  (Linear Solver: SuperLU)  ##################\n",
       "   #   Iter      Defect         Rate \n",
       "   #    0:    2.411561e-02      -------\n",
       "   #    1:    4.264758e-12    1.768464e-10\n",
       "   # Relative reduction 1.000000e-06 reached after 1 steps.\n",
       "   # Average reduction over 1 steps: 1.768464e-10\n",
       "   # #####  Iteration converged  #####\n",
       "\n",
       "flux_top (\t475\t)=\t-0.08864757460267\n",
       "flux_bot (\t475\t)=\t4.0131227874246e-06\n",
       "mass_bot (\t475\t)=\t0.00024108501051476\n",
       "tlag=414.92583250375\n",
       "++++++ TIMESTEP 19 END   (current time: 475) ++++++\n",
       "++++++ TIMESTEP 20 BEGIN (current time: 475) ++++++\n",
       "++++++ Time step size: 25\n",
       "\n",
       "   # ########       Newton Solver        ##################\n",
       "   # ########  (Linear Solver: SuperLU)  ##################\n",
       "   #   Iter      Defect         Rate \n",
       "   #    0:    2.312431e-02      -------\n",
       "   #    1:    4.083262e-12    1.765788e-10\n",
       "   # Relative reduction 1.000000e-06 reached after 1 steps.\n",
       "   # Average reduction over 1 steps: 1.765788e-10\n",
       "   # #####  Iteration converged  #####\n",
       "\n",
       "flux_top (\t500\t)=\t-0.08631876201548\n",
       "flux_bot (\t500\t)=\t5.6884926389658e-06\n",
       "mass_bot (\t500\t)=\t0.00036235520334464\n",
       "tlag=436.3003125182\n",
       "++++++ TIMESTEP 20 END   (current time: 500) ++++++\n"
      ]
     },
     "execution_count": 17,
     "metadata": {},
     "output_type": "execute_result"
    }
   ],
   "source": [
    "local startTime = 0.0\n",
    "local endTime = 500.0\n",
    "local dt=25.0\n",
    "local dtMin=2.5\n",
    "util.SolveNonlinearTimeProblem(u, domainDisc, nlsolver, MyPostProcess, \"vtk/skin_lagtime\",\n",
    "                            \"ImplEuler\", 1, startTime, endTime, dt, dtMin); "
   ]
  },
  {
   "cell_type": "code",
   "execution_count": null,
   "metadata": {},
   "outputs": [],
   "source": []
  }
 ],
 "metadata": {
  "kernelspec": {
   "display_name": "UG4-Lua 0.1.0",
   "language": "lua",
   "name": "ug4_kernel"
  },
  "language_info": {
   "codemirror_mode": "text/x-lua",
   "file_extension": ".lua",
   "mimetype": "text/x-lua",
   "name": "lua",
   "version": "1.0"
  }
 },
 "nbformat": 4,
 "nbformat_minor": 2
}
