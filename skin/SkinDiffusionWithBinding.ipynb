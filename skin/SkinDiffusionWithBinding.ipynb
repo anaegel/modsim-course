{
 "cells": [
  {
   "cell_type": "markdown",
   "metadata": {},
   "source": [
    "[<img src=\"../header.svg\">](../index.ipynd)\n",
    "\n",
    "---\n",
    "\n",
    "# Simulation of Drug Transport across a Virtual Skin Membrane"
   ]
  },
  {
   "cell_type": "markdown",
   "metadata": {},
   "source": [
    "### Initialize UG4 (for 2D and standard algebra)"
   ]
  },
  {
   "cell_type": "code",
   "execution_count": 1,
   "metadata": {},
   "outputs": [
    {
     "data": {
      "text/plain": [
       "* Initializing: paths... done, bridge... done, plugins... done                 *\n",
       "/Users/anaegel/Software/ug4-git/plugins/amg/lua/lua-include.lua\n",
       "/Users/anaegel/Software/ug4-git/plugins/LevelSet/lua/lua-include.lua\n",
       "/Users/anaegel/Software/ug4-git/plugins/d3f/lua/lua-include.lua\n",
       "Loading Plugin Lua Content from /Users/anaegel/Software/ug4-git/plugins/d3f/lua/lua-include.lua\n",
       "/Users/anaegel/Software/ug4-git/plugins/FiniteStrainMechanics/lua/lua-include.lua\n",
       "/Users/anaegel/Software/ug4-git/plugins/Limex/lua/lua-include.lua\n",
       "/Users/anaegel/Software/ug4-git/plugins/SuperLU/lua/lua-include.lua\n",
       "/Users/anaegel/Software/ug4-git/plugins/ConvectionDiffusion/lua/lua-include.lua\n",
       "/Users/anaegel/Software/ug4-git/plugins/Richards/lua/lua-include.lua\n",
       "/Users/anaegel/Software/ug4-git/plugins/DFT/lua/lua-include.lua\n",
       "/Users/anaegel/Software/ug4-git/plugins/RepoTrend/lua/lua-include.lua\n",
       "Loading Plugin Lua Content from /Users/anaegel/Software/ug4-git/plugins/RepoTrend/lua/lua-include.lua\n",
       "RepoTrend-Plugin: Extended package.path:./?.lua;/usr/local/share/lua/5.1/?.lua;/usr/local/share/lua/5.1/?/init.lua;/usr/local/lib/lua/5.1/?.lua;/usr/local/lib/lua/5.1/?/init.lua;/Users/anaegel/Software/ug4-git/plugins/RepoTrend/lua/?.lua\n"
      ]
     },
     "execution_count": 1,
     "metadata": {},
     "output_type": "execute_result"
    }
   ],
   "source": [
    "InitUG(2, AlgebraType(\"CPU\", 1));\n",
    "ug_load_script(\"ug_util.lua\")\n",
    "ug_load_script(\"util/refinement_util.lua\")"
   ]
  },
  {
   "cell_type": "markdown",
   "metadata": {},
   "source": [
    "### Create Domain"
   ]
  },
  {
   "cell_type": "code",
   "execution_count": 2,
   "metadata": {},
   "outputs": [
    {
     "data": {
      "text/plain": []
     },
     "execution_count": 2,
     "metadata": {},
     "output_type": "execute_result"
    }
   ],
   "source": [
    "requiredSubsets = {\"LIP\", \"COR\", \"BOTTOM_SC\", \"TOP_SC\"}\n",
    "gridName = \"skin2d-aniso.ugx\"\n",
    "numRefs = 2"
   ]
  },
  {
   "cell_type": "code",
   "execution_count": 3,
   "metadata": {},
   "outputs": [
    {
     "data": {
      "text/plain": [
       "Loading Domain skin2d-aniso.ugx ... done.\n",
       "Performing integrity check on domain ... done.\n",
       "Refining(2): 1 2 done.\n"
      ]
     },
     "execution_count": 3,
     "metadata": {},
     "output_type": "execute_result"
    }
   ],
   "source": [
    "dom = util.CreateDomain(gridName, numRefs, requiredSubsets)"
   ]
  },
  {
   "cell_type": "markdown",
   "metadata": {},
   "source": [
    "### Create Approximation space"
   ]
  },
  {
   "cell_type": "code",
   "execution_count": 4,
   "metadata": {},
   "outputs": [
    {
     "data": {
      "text/plain": [
       "Approximation space:\n",
       "| ----------------------------------------------------------------------------------------- |\n",
       "|  Number of DoFs (All Procs)                                                               |\n",
       "|  Algebra: Block 1 (divide by 1 for #Index)                                                |\n",
       "|                                                                                           |\n",
       "|    GridLevel   |       Domain |       0: LIP |       1: COR | 2: BOTTOM_SC |    3: TOP_SC |\n",
       "| ----------------------------------------------------------------------------------------- |\n",
       "| (lev,    0)    |         1360 |           64 |         1216 |           40 |           40 |\n",
       "| (lev,    1)    |         5226 |         1566 |         3504 |           78 |           78 |\n",
       "| (lev,    2)    |        20482 |         8734 |        11440 |          154 |          154 |\n",
       "| (lev,    0, g) |         1360 |           64 |         1216 |           40 |           40 |\n",
       "| (lev,    1, g) |         5226 |         1566 |         3504 |           78 |           78 |\n",
       "| (lev,    2, g) |        20482 |         8734 |        11440 |          154 |          154 |\n",
       "| (surf, top)    |        20482 |         8734 |        11440 |          154 |          154 |\n",
       "| ----------------------------------------------------------------------------------------- |\n",
       "| For Legend and Options: print_statistic(\"legend\").                                        |\n",
       "| ----------------------------------------------------------------------------------------- |\n"
      ]
     },
     "execution_count": 4,
     "metadata": {},
     "output_type": "execute_result"
    }
   ],
   "source": [
    "approxSpace = ApproximationSpace(dom)\n",
    "approxSpace:add_fct(\"c\",\"Lagrange\", 1) \n",
    "approxSpace:add_fct(\"b\",\"Lagrange\", 1) -- NEW: Two functions are required\n",
    "approxSpace:init_levels()\n",
    "approxSpace:init_top_surface()\n",
    "print(\"Approximation space:\")\n",
    "approxSpace:print_statistic()"
   ]
  },
  {
   "cell_type": "markdown",
   "metadata": {},
   "source": [
    "## Create a convection-diffusion-equation\n",
    "\n",
    "$$ \\partial_t c + \\nabla \\cdot [-D \\nabla c] + k_f \\cdot c - k_r \\cdot b = 0 $$\n",
    "$$ \\partial_t b   - k_f \\cdot c + k_r \\cdot b = 0 $$\n",
    "\n",
    "with steady-state: \n",
    "$ b = \\frac{k_f}{k_r} c $\n",
    "\n",
    "* Define model parameters"
   ]
  },
  {
   "cell_type": "code",
   "execution_count": 5,
   "metadata": {},
   "outputs": [
    {
     "data": {
      "text/plain": []
     },
     "execution_count": 5,
     "metadata": {},
     "output_type": "execute_result"
    }
   ],
   "source": [
    "D={\n",
    "    [\"LIP\"] = 1, \n",
    "    [\"COR\"] = 0.01, \n",
    "}\n",
    "\n",
    "kf = 2.0\n",
    "kr = 1.0"
   ]
  },
  {
   "cell_type": "markdown",
   "metadata": {},
   "source": [
    "* Print characteristic times"
   ]
  },
  {
   "cell_type": "code",
   "execution_count": 6,
   "metadata": {},
   "outputs": [
    {
     "data": {
      "text/plain": [
       "Characteristic times:\n",
       "Binding (c->b):\t\t0.5\n",
       "Binding (b->c):\t\t1\n",
       "Diffusion [LIP]:\t309.76\n",
       "Diffusion [COR]:\t30976\n"
      ]
     },
     "execution_count": 6,
     "metadata": {},
     "output_type": "execute_result"
    }
   ],
   "source": [
    "L=17.6 -- characteristic length\n",
    "print(\"Characteristic times:\")\n",
    "print(\"Binding (c->b):\\t\\t\"..1.0/kf)\n",
    "print(\"Binding (b->c):\\t\\t\"..1.0/kr)\n",
    "print(\"Diffusion [LIP]:\\t\"..L*L/D[\"LIP\"])\n",
    "print(\"Diffusion [COR]:\\t\"..L*L/D[\"COR\"])"
   ]
  },
  {
   "cell_type": "markdown",
   "metadata": {},
   "source": [
    "* The system requires **separate** element discs **for each species**:"
   ]
  },
  {
   "cell_type": "code",
   "execution_count": 7,
   "metadata": {},
   "outputs": [
    {
     "data": {
      "text/plain": []
     },
     "execution_count": 7,
     "metadata": {},
     "output_type": "execute_result"
    }
   ],
   "source": [
    "elemDiscC ={}\n",
    "\n",
    "elemDiscC[\"LIP\"] = ConvectionDiffusion(\"c\", \"LIP\", \"fv1\")\n",
    "elemDiscC[\"LIP\"]:set_diffusion(D[\"LIP\"])\n",
    "elemDiscC[\"LIP\"]:set_mass_scale(1.0)\n",
    "\n",
    "elemDiscC[\"COR\"] = ConvectionDiffusion(\"c\", \"COR\", \"fv1\")\n",
    "elemDiscC[\"COR\"]:set_diffusion(D[\"COR\"])\n",
    "elemDiscC[\"COR\"]:set_mass_scale(1.0)"
   ]
  },
  {
   "cell_type": "code",
   "execution_count": 8,
   "metadata": {},
   "outputs": [
    {
     "data": {
      "text/plain": []
     },
     "execution_count": 8,
     "metadata": {},
     "output_type": "execute_result"
    }
   ],
   "source": [
    "elemDiscB ={}\n",
    "\n",
    "elemDiscB[\"LIP\"] = ConvectionDiffusion(\"b\", \"LIP\", \"fv1\")\n",
    "elemDiscB[\"LIP\"]:set_diffusion(0.0)\n",
    "elemDiscB[\"LIP\"]:set_mass_scale(1.0)\n",
    "\n",
    "elemDiscB[\"COR\"] = ConvectionDiffusion(\"b\", \"COR\", \"fv1\")\n",
    "elemDiscB[\"COR\"]:set_diffusion(0.0)\n",
    "elemDiscB[\"COR\"]:set_mass_scale(1.0)"
   ]
  },
  {
   "cell_type": "markdown",
   "metadata": {},
   "source": [
    "* Add corneocyte binding, i.e., reactions in corneocytes"
   ]
  },
  {
   "cell_type": "code",
   "execution_count": 9,
   "metadata": {},
   "outputs": [
    {
     "data": {
      "text/plain": []
     },
     "execution_count": 9,
     "metadata": {},
     "output_type": "execute_result"
    }
   ],
   "source": [
    "myReactionC = kf*elemDiscC[\"COR\"]:value()-kr*elemDiscB[\"COR\"]:value()\n",
    "myReactionB = -kf*elemDiscC[\"COR\"]:value()+kr*elemDiscB[\"COR\"]:value()\n",
    "\n",
    "elemDiscC[\"COR\"]:set_reaction(myReactionC)\n",
    "elemDiscB[\"COR\"]:set_reaction(myReactionB)"
   ]
  },
  {
   "cell_type": "markdown",
   "metadata": {},
   "source": [
    "* Boundary conditions:"
   ]
  },
  {
   "cell_type": "code",
   "execution_count": 10,
   "metadata": {},
   "outputs": [
    {
     "data": {
      "text/plain": []
     },
     "execution_count": 10,
     "metadata": {},
     "output_type": "execute_result"
    }
   ],
   "source": [
    "dirichletBnd = DirichletBoundary()\n",
    "dirichletBnd:add(1.0, \"c\", \"TOP_SC\")\n",
    "dirichletBnd:add(0.0, \"c\", \"BOTTOM_SC\")\n",
    "dirichletBnd:add(0.0, \"b\", \"TOP_SC\") -- NEW\n",
    "dirichletBnd:add(0.0, \"b\", \"BOTTOM_SC\")"
   ]
  },
  {
   "cell_type": "markdown",
   "metadata": {},
   "source": [
    "* Summarize everything in domain discretization:"
   ]
  },
  {
   "cell_type": "code",
   "execution_count": 11,
   "metadata": {},
   "outputs": [
    {
     "data": {
      "text/plain": []
     },
     "execution_count": 11,
     "metadata": {},
     "output_type": "execute_result"
    }
   ],
   "source": [
    "domainDisc = DomainDiscretization(approxSpace)\n",
    "domainDisc:add(elemDiscC[\"LIP\"]) \n",
    "domainDisc:add(elemDiscC[\"COR\"])\n",
    "\n",
    "-- NEW: More discs\n",
    "domainDisc:add(elemDiscB[\"LIP\"])\n",
    "domainDisc:add(elemDiscB[\"COR\"])\n",
    "domainDisc:add(dirichletBnd)"
   ]
  },
  {
   "cell_type": "markdown",
   "metadata": {},
   "source": [
    "## Create  solver"
   ]
  },
  {
   "cell_type": "code",
   "execution_count": 12,
   "metadata": {},
   "outputs": [
    {
     "data": {
      "text/plain": []
     },
     "execution_count": 12,
     "metadata": {},
     "output_type": "execute_result"
    }
   ],
   "source": [
    "lsolver=SuperLU()"
   ]
  },
  {
   "cell_type": "markdown",
   "metadata": {},
   "source": [
    "## Solve transient problem\n",
    "* Define parameters for time stepping:"
   ]
  },
  {
   "cell_type": "code",
   "execution_count": 13,
   "metadata": {},
   "outputs": [
    {
     "data": {
      "text/plain": []
     },
     "execution_count": 13,
     "metadata": {},
     "output_type": "execute_result"
    }
   ],
   "source": [
    "startTime = 0.0\n",
    "endTime = 500.0\n",
    "dt=endTime/100.0"
   ]
  },
  {
   "cell_type": "markdown",
   "metadata": {},
   "source": [
    "* Define grid function:"
   ]
  },
  {
   "cell_type": "code",
   "execution_count": 14,
   "metadata": {
    "scrolled": true
   },
   "outputs": [
    {
     "data": {
      "text/plain": []
     },
     "execution_count": 14,
     "metadata": {},
     "output_type": "execute_result"
    }
   ],
   "source": [
    "u = GridFunction(approxSpace)\n",
    "u:set(0.0)"
   ]
  },
  {
   "cell_type": "markdown",
   "metadata": {},
   "source": [
    "* Solve problem (using lua util):"
   ]
  },
  {
   "cell_type": "code",
   "execution_count": 15,
   "metadata": {},
   "outputs": [
    {
     "data": {
      "text/plain": [
       "SolveLinearTimeProblem, Linear Solver setup:\n",
       "SuperLU\n",
       ">> Writing start values\n",
       "++++++ TIMESTEP 1 BEGIN (current time: 0) ++++++\n",
       "++++++ Time step size: 5\n",
       "++++++ Assembling Matrix/Rhs for step size 5\n",
       "++++++ TIMESTEP 1 END   (current time: 5) ++++++\n",
       "++++++ TIMESTEP 2 BEGIN (current time: 5) ++++++\n",
       "++++++ Time step size: 5\n",
       "++++++ TIMESTEP 2 END   (current time: 10) ++++++\n",
       "++++++ TIMESTEP 3 BEGIN (current time: 10) ++++++\n",
       "++++++ Time step size: 5\n",
       "++++++ TIMESTEP 3 END   (current time: 15) ++++++\n",
       "++++++ TIMESTEP 4 BEGIN (current time: 15) ++++++\n",
       "++++++ Time step size: 5\n",
       "++++++ TIMESTEP 4 END   (current time: 20) ++++++\n",
       "++++++ TIMESTEP 5 BEGIN (current time: 20) ++++++\n",
       "++++++ Time step size: 5\n",
       "++++++ TIMESTEP 5 END   (current time: 25) ++++++\n",
       "++++++ TIMESTEP 6 BEGIN (current time: 25) ++++++\n",
       "++++++ Time step size: 5\n",
       "++++++ TIMESTEP 6 END   (current time: 30) ++++++\n",
       "++++++ TIMESTEP 7 BEGIN (current time: 30) ++++++\n",
       "++++++ Time step size: 5\n",
       "++++++ TIMESTEP 7 END   (current time: 35) ++++++\n",
       "++++++ TIMESTEP 8 BEGIN (current time: 35) ++++++\n",
       "++++++ Time step size: 5\n",
       "++++++ TIMESTEP 8 END   (current time: 40) ++++++\n",
       "++++++ TIMESTEP 9 BEGIN (current time: 40) ++++++\n",
       "++++++ Time step size: 5\n",
       "++++++ TIMESTEP 9 END   (current time: 45) ++++++\n",
       "++++++ TIMESTEP 10 BEGIN (current time: 45) ++++++\n",
       "++++++ Time step size: 5\n",
       "++++++ TIMESTEP 10 END   (current time: 50) ++++++\n",
       "++++++ TIMESTEP 11 BEGIN (current time: 50) ++++++\n",
       "++++++ Time step size: 5\n",
       "++++++ TIMESTEP 11 END   (current time: 55) ++++++\n",
       "++++++ TIMESTEP 12 BEGIN (current time: 55) ++++++\n",
       "++++++ Time step size: 5\n",
       "++++++ TIMESTEP 12 END   (current time: 60) ++++++\n",
       "++++++ TIMESTEP 13 BEGIN (current time: 60) ++++++\n",
       "++++++ Time step size: 5\n",
       "++++++ TIMESTEP 13 END   (current time: 65) ++++++\n",
       "++++++ TIMESTEP 14 BEGIN (current time: 65) ++++++\n",
       "++++++ Time step size: 5\n",
       "++++++ TIMESTEP 14 END   (current time: 70) ++++++\n",
       "++++++ TIMESTEP 15 BEGIN (current time: 70) ++++++\n",
       "++++++ Time step size: 5\n",
       "++++++ TIMESTEP 15 END   (current time: 75) ++++++\n",
       "++++++ TIMESTEP 16 BEGIN (current time: 75) ++++++\n",
       "++++++ Time step size: 5\n",
       "++++++ TIMESTEP 16 END   (current time: 80) ++++++\n",
       "++++++ TIMESTEP 17 BEGIN (current time: 80) ++++++\n",
       "++++++ Time step size: 5\n",
       "++++++ TIMESTEP 17 END   (current time: 85) ++++++\n",
       "++++++ TIMESTEP 18 BEGIN (current time: 85) ++++++\n",
       "++++++ Time step size: 5\n",
       "++++++ TIMESTEP 18 END   (current time: 90) ++++++\n",
       "++++++ TIMESTEP 19 BEGIN (current time: 90) ++++++\n",
       "++++++ Time step size: 5\n",
       "++++++ TIMESTEP 19 END   (current time: 95) ++++++\n",
       "++++++ TIMESTEP 20 BEGIN (current time: 95) ++++++\n",
       "++++++ Time step size: 5\n",
       "++++++ TIMESTEP 20 END   (current time: 100) ++++++\n",
       "++++++ TIMESTEP 21 BEGIN (current time: 100) ++++++\n",
       "++++++ Time step size: 5\n",
       "++++++ TIMESTEP 21 END   (current time: 105) ++++++\n",
       "++++++ TIMESTEP 22 BEGIN (current time: 105) ++++++\n",
       "++++++ Time step size: 5\n",
       "++++++ TIMESTEP 22 END   (current time: 110) ++++++\n",
       "++++++ TIMESTEP 23 BEGIN (current time: 110) ++++++\n",
       "++++++ Time step size: 5\n",
       "++++++ TIMESTEP 23 END   (current time: 115) ++++++\n",
       "++++++ TIMESTEP 24 BEGIN (current time: 115) ++++++\n",
       "++++++ Time step size: 5\n",
       "++++++ TIMESTEP 24 END   (current time: 120) ++++++\n",
       "++++++ TIMESTEP 25 BEGIN (current time: 120) ++++++\n",
       "++++++ Time step size: 5\n",
       "++++++ TIMESTEP 25 END   (current time: 125) ++++++\n",
       "++++++ TIMESTEP 26 BEGIN (current time: 125) ++++++\n",
       "++++++ Time step size: 5\n",
       "++++++ TIMESTEP 26 END   (current time: 130) ++++++\n",
       "++++++ TIMESTEP 27 BEGIN (current time: 130) ++++++\n",
       "++++++ Time step size: 5\n",
       "++++++ TIMESTEP 27 END   (current time: 135) ++++++\n",
       "++++++ TIMESTEP 28 BEGIN (current time: 135) ++++++\n",
       "++++++ Time step size: 5\n",
       "++++++ TIMESTEP 28 END   (current time: 140) ++++++\n",
       "++++++ TIMESTEP 29 BEGIN (current time: 140) ++++++\n",
       "++++++ Time step size: 5\n",
       "++++++ TIMESTEP 29 END   (current time: 145) ++++++\n",
       "++++++ TIMESTEP 30 BEGIN (current time: 145) ++++++\n",
       "++++++ Time step size: 5\n",
       "++++++ TIMESTEP 30 END   (current time: 150) ++++++\n",
       "++++++ TIMESTEP 31 BEGIN (current time: 150) ++++++\n",
       "++++++ Time step size: 5\n",
       "++++++ TIMESTEP 31 END   (current time: 155) ++++++\n",
       "++++++ TIMESTEP 32 BEGIN (current time: 155) ++++++\n",
       "++++++ Time step size: 5\n",
       "++++++ TIMESTEP 32 END   (current time: 160) ++++++\n",
       "++++++ TIMESTEP 33 BEGIN (current time: 160) ++++++\n",
       "++++++ Time step size: 5\n",
       "++++++ TIMESTEP 33 END   (current time: 165) ++++++\n",
       "++++++ TIMESTEP 34 BEGIN (current time: 165) ++++++\n",
       "++++++ Time step size: 5\n",
       "++++++ TIMESTEP 34 END   (current time: 170) ++++++\n",
       "++++++ TIMESTEP 35 BEGIN (current time: 170) ++++++\n",
       "++++++ Time step size: 5\n",
       "++++++ TIMESTEP 35 END   (current time: 175) ++++++\n",
       "++++++ TIMESTEP 36 BEGIN (current time: 175) ++++++\n",
       "++++++ Time step size: 5\n",
       "++++++ TIMESTEP 36 END   (current time: 180) ++++++\n",
       "++++++ TIMESTEP 37 BEGIN (current time: 180) ++++++\n",
       "++++++ Time step size: 5\n",
       "++++++ TIMESTEP 37 END   (current time: 185) ++++++\n",
       "++++++ TIMESTEP 38 BEGIN (current time: 185) ++++++\n",
       "++++++ Time step size: 5\n",
       "++++++ TIMESTEP 38 END   (current time: 190) ++++++\n",
       "++++++ TIMESTEP 39 BEGIN (current time: 190) ++++++\n",
       "++++++ Time step size: 5\n",
       "++++++ TIMESTEP 39 END   (current time: 195) ++++++\n",
       "++++++ TIMESTEP 40 BEGIN (current time: 195) ++++++\n",
       "++++++ Time step size: 5\n",
       "++++++ TIMESTEP 40 END   (current time: 200) ++++++\n",
       "++++++ TIMESTEP 41 BEGIN (current time: 200) ++++++\n",
       "++++++ Time step size: 5\n",
       "++++++ TIMESTEP 41 END   (current time: 205) ++++++\n",
       "++++++ TIMESTEP 42 BEGIN (current time: 205) ++++++\n",
       "++++++ Time step size: 5\n",
       "++++++ TIMESTEP 42 END   (current time: 210) ++++++\n",
       "++++++ TIMESTEP 43 BEGIN (current time: 210) ++++++\n",
       "++++++ Time step size: 5\n",
       "++++++ TIMESTEP 43 END   (current time: 215) ++++++\n",
       "++++++ TIMESTEP 44 BEGIN (current time: 215) ++++++\n",
       "++++++ Time step size: 5\n",
       "++++++ TIMESTEP 44 END   (current time: 220) ++++++\n",
       "++++++ TIMESTEP 45 BEGIN (current time: 220) ++++++\n",
       "++++++ Time step size: 5\n",
       "++++++ TIMESTEP 45 END   (current time: 225) ++++++\n",
       "++++++ TIMESTEP 46 BEGIN (current time: 225) ++++++\n",
       "++++++ Time step size: 5\n",
       "++++++ TIMESTEP 46 END   (current time: 230) ++++++\n",
       "++++++ TIMESTEP 47 BEGIN (current time: 230) ++++++\n",
       "++++++ Time step size: 5\n",
       "++++++ TIMESTEP 47 END   (current time: 235) ++++++\n",
       "++++++ TIMESTEP 48 BEGIN (current time: 235) ++++++\n",
       "++++++ Time step size: 5\n",
       "++++++ TIMESTEP 48 END   (current time: 240) ++++++\n",
       "++++++ TIMESTEP 49 BEGIN (current time: 240) ++++++\n",
       "++++++ Time step size: 5\n",
       "++++++ TIMESTEP 49 END   (current time: 245) ++++++\n",
       "++++++ TIMESTEP 50 BEGIN (current time: 245) ++++++\n",
       "++++++ Time step size: 5\n",
       "++++++ TIMESTEP 50 END   (current time: 250) ++++++\n",
       "++++++ TIMESTEP 51 BEGIN (current time: 250) ++++++\n",
       "++++++ Time step size: 5\n",
       "++++++ TIMESTEP 51 END   (current time: 255) ++++++\n",
       "++++++ TIMESTEP 52 BEGIN (current time: 255) ++++++\n",
       "++++++ Time step size: 5\n",
       "++++++ TIMESTEP 52 END   (current time: 260) ++++++\n",
       "++++++ TIMESTEP 53 BEGIN (current time: 260) ++++++\n",
       "++++++ Time step size: 5\n",
       "++++++ TIMESTEP 53 END   (current time: 265) ++++++\n",
       "++++++ TIMESTEP 54 BEGIN (current time: 265) ++++++\n",
       "++++++ Time step size: 5\n",
       "++++++ TIMESTEP 54 END   (current time: 270) ++++++\n",
       "++++++ TIMESTEP 55 BEGIN (current time: 270) ++++++\n",
       "++++++ Time step size: 5\n",
       "++++++ TIMESTEP 55 END   (current time: 275) ++++++\n",
       "++++++ TIMESTEP 56 BEGIN (current time: 275) ++++++\n",
       "++++++ Time step size: 5\n",
       "++++++ TIMESTEP 56 END   (current time: 280) ++++++\n",
       "++++++ TIMESTEP 57 BEGIN (current time: 280) ++++++\n",
       "++++++ Time step size: 5\n",
       "++++++ TIMESTEP 57 END   (current time: 285) ++++++\n",
       "++++++ TIMESTEP 58 BEGIN (current time: 285) ++++++\n",
       "++++++ Time step size: 5\n",
       "++++++ TIMESTEP 58 END   (current time: 290) ++++++\n",
       "++++++ TIMESTEP 59 BEGIN (current time: 290) ++++++\n",
       "++++++ Time step size: 5\n",
       "++++++ TIMESTEP 59 END   (current time: 295) ++++++\n",
       "++++++ TIMESTEP 60 BEGIN (current time: 295) ++++++\n",
       "++++++ Time step size: 5\n",
       "++++++ TIMESTEP 60 END   (current time: 300) ++++++\n",
       "++++++ TIMESTEP 61 BEGIN (current time: 300) ++++++\n",
       "++++++ Time step size: 5\n",
       "++++++ TIMESTEP 61 END   (current time: 305) ++++++\n",
       "++++++ TIMESTEP 62 BEGIN (current time: 305) ++++++\n",
       "++++++ Time step size: 5\n",
       "++++++ TIMESTEP 62 END   (current time: 310) ++++++\n",
       "++++++ TIMESTEP 63 BEGIN (current time: 310) ++++++\n",
       "++++++ Time step size: 5\n",
       "++++++ TIMESTEP 63 END   (current time: 315) ++++++\n",
       "++++++ TIMESTEP 64 BEGIN (current time: 315) ++++++\n",
       "++++++ Time step size: 5\n",
       "++++++ TIMESTEP 64 END   (current time: 320) ++++++\n",
       "++++++ TIMESTEP 65 BEGIN (current time: 320) ++++++\n",
       "++++++ Time step size: 5\n",
       "++++++ TIMESTEP 65 END   (current time: 325) ++++++\n",
       "++++++ TIMESTEP 66 BEGIN (current time: 325) ++++++\n",
       "++++++ Time step size: 5\n",
       "++++++ TIMESTEP 66 END   (current time: 330) ++++++\n",
       "++++++ TIMESTEP 67 BEGIN (current time: 330) ++++++\n",
       "++++++ Time step size: 5\n",
       "++++++ TIMESTEP 67 END   (current time: 335) ++++++\n",
       "++++++ TIMESTEP 68 BEGIN (current time: 335) ++++++\n",
       "++++++ Time step size: 5\n",
       "++++++ TIMESTEP 68 END   (current time: 340) ++++++\n",
       "++++++ TIMESTEP 69 BEGIN (current time: 340) ++++++\n",
       "++++++ Time step size: 5\n",
       "++++++ TIMESTEP 69 END   (current time: 345) ++++++\n",
       "++++++ TIMESTEP 70 BEGIN (current time: 345) ++++++\n",
       "++++++ Time step size: 5\n",
       "++++++ TIMESTEP 70 END   (current time: 350) ++++++\n",
       "++++++ TIMESTEP 71 BEGIN (current time: 350) ++++++\n",
       "++++++ Time step size: 5\n",
       "++++++ TIMESTEP 71 END   (current time: 355) ++++++\n",
       "++++++ TIMESTEP 72 BEGIN (current time: 355) ++++++\n",
       "++++++ Time step size: 5\n",
       "++++++ TIMESTEP 72 END   (current time: 360) ++++++\n",
       "++++++ TIMESTEP 73 BEGIN (current time: 360) ++++++\n",
       "++++++ Time step size: 5\n",
       "++++++ TIMESTEP 73 END   (current time: 365) ++++++\n",
       "++++++ TIMESTEP 74 BEGIN (current time: 365) ++++++\n",
       "++++++ Time step size: 5\n",
       "++++++ TIMESTEP 74 END   (current time: 370) ++++++\n",
       "++++++ TIMESTEP 75 BEGIN (current time: 370) ++++++\n",
       "++++++ Time step size: 5\n",
       "++++++ TIMESTEP 75 END   (current time: 375) ++++++\n",
       "++++++ TIMESTEP 76 BEGIN (current time: 375) ++++++\n",
       "++++++ Time step size: 5\n",
       "++++++ TIMESTEP 76 END   (current time: 380) ++++++\n",
       "++++++ TIMESTEP 77 BEGIN (current time: 380) ++++++\n",
       "++++++ Time step size: 5\n",
       "++++++ TIMESTEP 77 END   (current time: 385) ++++++\n",
       "++++++ TIMESTEP 78 BEGIN (current time: 385) ++++++\n",
       "++++++ Time step size: 5\n",
       "++++++ TIMESTEP 78 END   (current time: 390) ++++++\n",
       "++++++ TIMESTEP 79 BEGIN (current time: 390) ++++++\n",
       "++++++ Time step size: 5\n",
       "++++++ TIMESTEP 79 END   (current time: 395) ++++++\n",
       "++++++ TIMESTEP 80 BEGIN (current time: 395) ++++++\n",
       "++++++ Time step size: 5\n",
       "++++++ TIMESTEP 80 END   (current time: 400) ++++++\n",
       "++++++ TIMESTEP 81 BEGIN (current time: 400) ++++++\n",
       "++++++ Time step size: 5\n",
       "++++++ TIMESTEP 81 END   (current time: 405) ++++++\n",
       "++++++ TIMESTEP 82 BEGIN (current time: 405) ++++++\n",
       "++++++ Time step size: 5\n",
       "++++++ TIMESTEP 82 END   (current time: 410) ++++++\n",
       "++++++ TIMESTEP 83 BEGIN (current time: 410) ++++++\n",
       "++++++ Time step size: 5\n",
       "++++++ TIMESTEP 83 END   (current time: 415) ++++++\n",
       "++++++ TIMESTEP 84 BEGIN (current time: 415) ++++++\n",
       "++++++ Time step size: 5\n",
       "++++++ TIMESTEP 84 END   (current time: 420) ++++++\n",
       "++++++ TIMESTEP 85 BEGIN (current time: 420) ++++++\n",
       "++++++ Time step size: 5\n",
       "++++++ TIMESTEP 85 END   (current time: 425) ++++++\n",
       "++++++ TIMESTEP 86 BEGIN (current time: 425) ++++++\n",
       "++++++ Time step size: 5\n",
       "++++++ TIMESTEP 86 END   (current time: 430) ++++++\n",
       "++++++ TIMESTEP 87 BEGIN (current time: 430) ++++++\n",
       "++++++ Time step size: 5\n",
       "++++++ TIMESTEP 87 END   (current time: 435) ++++++\n",
       "++++++ TIMESTEP 88 BEGIN (current time: 435) ++++++\n",
       "++++++ Time step size: 5\n",
       "++++++ TIMESTEP 88 END   (current time: 440) ++++++\n",
       "++++++ TIMESTEP 89 BEGIN (current time: 440) ++++++\n",
       "++++++ Time step size: 5\n",
       "++++++ TIMESTEP 89 END   (current time: 445) ++++++\n",
       "++++++ TIMESTEP 90 BEGIN (current time: 445) ++++++\n",
       "++++++ Time step size: 5\n",
       "++++++ TIMESTEP 90 END   (current time: 450) ++++++\n",
       "++++++ TIMESTEP 91 BEGIN (current time: 450) ++++++\n",
       "++++++ Time step size: 5\n",
       "++++++ TIMESTEP 91 END   (current time: 455) ++++++\n",
       "++++++ TIMESTEP 92 BEGIN (current time: 455) ++++++\n",
       "++++++ Time step size: 5\n",
       "++++++ TIMESTEP 92 END   (current time: 460) ++++++\n",
       "++++++ TIMESTEP 93 BEGIN (current time: 460) ++++++\n",
       "++++++ Time step size: 5\n",
       "++++++ TIMESTEP 93 END   (current time: 465) ++++++\n",
       "++++++ TIMESTEP 94 BEGIN (current time: 465) ++++++\n",
       "++++++ Time step size: 5\n",
       "++++++ TIMESTEP 94 END   (current time: 470) ++++++\n",
       "++++++ TIMESTEP 95 BEGIN (current time: 470) ++++++\n",
       "++++++ Time step size: 5\n",
       "++++++ TIMESTEP 95 END   (current time: 475) ++++++\n",
       "++++++ TIMESTEP 96 BEGIN (current time: 475) ++++++\n",
       "++++++ Time step size: 5\n",
       "++++++ TIMESTEP 96 END   (current time: 480) ++++++\n",
       "++++++ TIMESTEP 97 BEGIN (current time: 480) ++++++\n",
       "++++++ Time step size: 5\n",
       "++++++ TIMESTEP 97 END   (current time: 485) ++++++\n",
       "++++++ TIMESTEP 98 BEGIN (current time: 485) ++++++\n",
       "++++++ Time step size: 5\n",
       "++++++ TIMESTEP 98 END   (current time: 490) ++++++\n",
       "++++++ TIMESTEP 99 BEGIN (current time: 490) ++++++\n",
       "++++++ Time step size: 5\n",
       "++++++ TIMESTEP 99 END   (current time: 495) ++++++\n",
       "++++++ TIMESTEP 100 BEGIN (current time: 495) ++++++\n",
       "++++++ Time step size: 5\n",
       "++++++ TIMESTEP 100 END   (current time: 500) ++++++\n"
      ]
     },
     "execution_count": 15,
     "metadata": {},
     "output_type": "execute_result"
    }
   ],
   "source": [
    "util.SolveLinearTimeProblem(u, domainDisc, lsolver, VTKOutput(), \"vtk/bindingLo\",\n",
    "                            \"ImplEuler\", 1, startTime, endTime, dt); "
   ]
  },
  {
   "cell_type": "markdown",
   "metadata": {},
   "source": [
    "## Alternative\n",
    "* Use C++-Objects"
   ]
  },
  {
   "cell_type": "code",
   "execution_count": 16,
   "metadata": {},
   "outputs": [
    {
     "data": {
      "text/plain": []
     },
     "execution_count": 16,
     "metadata": {},
     "output_type": "execute_result"
    }
   ],
   "source": [
    "local timeDisc=ThetaTimeStep(domainDisc, 1.0)\n",
    "timeInt = ConstStepLinearTimeIntegrator(timeDisc)\n",
    "timeInt:set_linear_solver(lsolver)\n",
    "timeInt:set_time_step(dt)"
   ]
  },
  {
   "cell_type": "code",
   "execution_count": 17,
   "metadata": {},
   "outputs": [
    {
     "data": {
      "text/plain": []
     },
     "execution_count": 17,
     "metadata": {},
     "output_type": "execute_result"
    }
   ],
   "source": [
    "local vtkObserver = VTKOutputObserver(\"vtk/BindingSol.vtk\", VTKOutput())\n",
    "timeInt:attach_finalize_observer(vtkObserver)"
   ]
  },
  {
   "cell_type": "code",
   "execution_count": 18,
   "metadata": {},
   "outputs": [
    {
     "data": {
      "text/plain": [
       "+++ Integrating: [\t0\t, \t500\t] with dt=\t5(100 iters)\n",
       "+++ Const timestep +++1(t=0, dt=5)\n",
       "+++ Assemble (t=0, dt=5)\n",
       "+++ Const timestep +++2(t=5, dt=5)\n",
       "+++ Const timestep +++3(t=10, dt=5)\n",
       "+++ Const timestep +++4(t=15, dt=5)\n",
       "+++ Const timestep +++5(t=20, dt=5)\n",
       "+++ Const timestep +++6(t=25, dt=5)\n",
       "+++ Const timestep +++7(t=30, dt=5)\n",
       "+++ Const timestep +++8(t=35, dt=5)\n",
       "+++ Const timestep +++9(t=40, dt=5)\n",
       "+++ Const timestep +++10(t=45, dt=5)\n",
       "+++ Const timestep +++11(t=50, dt=5)\n",
       "+++ Const timestep +++12(t=55, dt=5)\n",
       "+++ Const timestep +++13(t=60, dt=5)\n",
       "+++ Const timestep +++14(t=65, dt=5)\n",
       "+++ Const timestep +++15(t=70, dt=5)\n",
       "+++ Const timestep +++16(t=75, dt=5)\n",
       "+++ Const timestep +++17(t=80, dt=5)\n",
       "+++ Const timestep +++18(t=85, dt=5)\n",
       "+++ Const timestep +++19(t=90, dt=5)\n",
       "+++ Const timestep +++20(t=95, dt=5)\n",
       "+++ Const timestep +++21(t=100, dt=5)\n",
       "+++ Const timestep +++22(t=105, dt=5)\n",
       "+++ Const timestep +++23(t=110, dt=5)\n",
       "+++ Const timestep +++24(t=115, dt=5)\n",
       "+++ Const timestep +++25(t=120, dt=5)\n",
       "+++ Const timestep +++26(t=125, dt=5)\n",
       "+++ Const timestep +++27(t=130, dt=5)\n",
       "+++ Const timestep +++28(t=135, dt=5)\n",
       "+++ Const timestep +++29(t=140, dt=5)\n",
       "+++ Const timestep +++30(t=145, dt=5)\n",
       "+++ Const timestep +++31(t=150, dt=5)\n",
       "+++ Const timestep +++32(t=155, dt=5)\n",
       "+++ Const timestep +++33(t=160, dt=5)\n",
       "+++ Const timestep +++34(t=165, dt=5)\n",
       "+++ Const timestep +++35(t=170, dt=5)\n",
       "+++ Const timestep +++36(t=175, dt=5)\n",
       "+++ Const timestep +++37(t=180, dt=5)\n",
       "+++ Const timestep +++38(t=185, dt=5)\n",
       "+++ Const timestep +++39(t=190, dt=5)\n",
       "+++ Const timestep +++40(t=195, dt=5)\n",
       "+++ Const timestep +++41(t=200, dt=5)\n",
       "+++ Const timestep +++42(t=205, dt=5)\n",
       "+++ Const timestep +++43(t=210, dt=5)\n",
       "+++ Const timestep +++44(t=215, dt=5)\n",
       "+++ Const timestep +++45(t=220, dt=5)\n",
       "+++ Const timestep +++46(t=225, dt=5)\n",
       "+++ Const timestep +++47(t=230, dt=5)\n",
       "+++ Const timestep +++48(t=235, dt=5)\n",
       "+++ Const timestep +++49(t=240, dt=5)\n",
       "+++ Const timestep +++50(t=245, dt=5)\n",
       "+++ Const timestep +++51(t=250, dt=5)\n",
       "+++ Const timestep +++52(t=255, dt=5)\n",
       "+++ Const timestep +++53(t=260, dt=5)\n",
       "+++ Const timestep +++54(t=265, dt=5)\n",
       "+++ Const timestep +++55(t=270, dt=5)\n",
       "+++ Const timestep +++56(t=275, dt=5)\n",
       "+++ Const timestep +++57(t=280, dt=5)\n",
       "+++ Const timestep +++58(t=285, dt=5)\n",
       "+++ Const timestep +++59(t=290, dt=5)\n",
       "+++ Const timestep +++60(t=295, dt=5)\n",
       "+++ Const timestep +++61(t=300, dt=5)\n",
       "+++ Const timestep +++62(t=305, dt=5)\n",
       "+++ Const timestep +++63(t=310, dt=5)\n",
       "+++ Const timestep +++64(t=315, dt=5)\n",
       "+++ Const timestep +++65(t=320, dt=5)\n",
       "+++ Const timestep +++66(t=325, dt=5)\n",
       "+++ Const timestep +++67(t=330, dt=5)\n",
       "+++ Const timestep +++68(t=335, dt=5)\n",
       "+++ Const timestep +++69(t=340, dt=5)\n",
       "+++ Const timestep +++70(t=345, dt=5)\n",
       "+++ Const timestep +++71(t=350, dt=5)\n",
       "+++ Const timestep +++72(t=355, dt=5)\n",
       "+++ Const timestep +++73(t=360, dt=5)\n",
       "+++ Const timestep +++74(t=365, dt=5)\n",
       "+++ Const timestep +++75(t=370, dt=5)\n",
       "+++ Const timestep +++76(t=375, dt=5)\n",
       "+++ Const timestep +++77(t=380, dt=5)\n",
       "+++ Const timestep +++78(t=385, dt=5)\n",
       "+++ Const timestep +++79(t=390, dt=5)\n",
       "+++ Const timestep +++80(t=395, dt=5)\n",
       "+++ Const timestep +++81(t=400, dt=5)\n",
       "+++ Const timestep +++82(t=405, dt=5)\n",
       "+++ Const timestep +++83(t=410, dt=5)\n",
       "+++ Const timestep +++84(t=415, dt=5)\n",
       "+++ Const timestep +++85(t=420, dt=5)\n",
       "+++ Const timestep +++86(t=425, dt=5)\n",
       "+++ Const timestep +++87(t=430, dt=5)\n",
       "+++ Const timestep +++88(t=435, dt=5)\n",
       "+++ Const timestep +++89(t=440, dt=5)\n",
       "+++ Const timestep +++90(t=445, dt=5)\n",
       "+++ Const timestep +++91(t=450, dt=5)\n",
       "+++ Const timestep +++92(t=455, dt=5)\n",
       "+++ Const timestep +++93(t=460, dt=5)\n",
       "+++ Const timestep +++94(t=465, dt=5)\n",
       "+++ Const timestep +++95(t=470, dt=5)\n",
       "+++ Const timestep +++96(t=475, dt=5)\n",
       "+++ Const timestep +++97(t=480, dt=5)\n",
       "+++ Const timestep +++98(t=485, dt=5)\n",
       "+++ Const timestep +++99(t=490, dt=5)\n",
       "+++ Const timestep +++100(t=495, dt=5)\n"
      ]
     },
     "execution_count": 18,
     "metadata": {},
     "output_type": "execute_result"
    }
   ],
   "source": [
    "timeInt:apply(u, endTime, u, startTime)"
   ]
  },
  {
   "cell_type": "code",
   "execution_count": null,
   "metadata": {},
   "outputs": [],
   "source": []
  },
  {
   "cell_type": "code",
   "execution_count": null,
   "metadata": {},
   "outputs": [],
   "source": []
  }
 ],
 "metadata": {
  "kernelspec": {
   "display_name": "UG4-Lua 0.1.0",
   "language": "lua",
   "name": "ug4_kernel"
  },
  "language_info": {
   "codemirror_mode": "text/x-lua",
   "file_extension": ".lua",
   "mimetype": "text/x-lua",
   "name": "lua",
   "version": "1.0"
  }
 },
 "nbformat": 4,
 "nbformat_minor": 2
}
