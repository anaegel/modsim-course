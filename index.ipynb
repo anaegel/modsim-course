{
 "cells": [
  {
   "cell_type": "markdown",
   "id": "dfb9dc4a",
   "metadata": {},
   "source": [
    "<img src=\"./header.svg\">"
   ]
  },
  {
   "cell_type": "markdown",
   "id": "b2bc6df9",
   "metadata": {},
   "source": [
    "## Diffusion of Bromine\n",
    "\n",
    "* As a simple example, we perform a [3D simulation](brom/BromDiffusion.ipynb) for the diffusion of bromine in a test tube. A related experiment has been posted in the YouTube-Channel [ETH D-PHYS Vorlesungsexperimente](https://www.youtube.com/watch?v=DhLwUiDeouA)\n"
   ]
  },
  {
   "cell_type": "markdown",
   "id": "4c5aa928",
   "metadata": {},
   "source": [
    "## Drug Diffusion through Skin\n",
    "* [Basic version](skin/SkinDiffusion.ipynb)\n",
    "* [...with lagtime](skin/SkinDiffusionWithLagtime.ipynb)\n",
    "* [...with binding](skin/SkinDiffusionWithBinding.ipynb)"
   ]
  },
  {
   "cell_type": "code",
   "execution_count": null,
   "id": "3174564d",
   "metadata": {},
   "outputs": [],
   "source": []
  }
 ],
 "metadata": {
  "kernelspec": {
   "display_name": "Python 3 (ipykernel)",
   "language": "python",
   "name": "python3"
  },
  "language_info": {
   "codemirror_mode": {
    "name": "ipython",
    "version": 3
   },
   "file_extension": ".py",
   "mimetype": "text/x-python",
   "name": "python",
   "nbconvert_exporter": "python",
   "pygments_lexer": "ipython3",
   "version": "3.8.5"
  }
 },
 "nbformat": 4,
 "nbformat_minor": 5
}
