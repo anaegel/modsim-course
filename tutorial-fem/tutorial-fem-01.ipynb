{
 "cells": [
  {
   "cell_type": "markdown",
   "metadata": {},
   "source": [
    "[<img src=\"../header.svg\">](../index.ipynb)\n",
    "\n",
    "---\n",
    "# Lösen der Poisson-Gleichung mit FEM in UG4 \n",
    "\n",
    "Wir lösen in diesem Beispiel \n",
    "$$-\\triangle u = f $$\n",
    "auf dem Einheitsquadrat mit Dirichlet-Randwerten. \n",
    "\n",
    "Dazu verwenden wir hier einen entprechenden Jupyter-Kernel für die Software UG4, der LUA unterstützt. Eine Erweiterung folgt im [nachfolgenden Beispiel](./tutorial-fem-02.ipynb).\n",
    "\n",
    "## Initialisierung "
   ]
  },
  {
   "cell_type": "code",
   "execution_count": 1,
   "metadata": {},
   "outputs": [
    {
     "data": {
      "text/plain": [
       "* Initializing: paths... done, bridge... done, plugins... done                 *\n",
       "Loading Plugin Lua Content from /Users/anaegel/Software/ug4-git/plugins/Poroelasticity/lua/lua-include.lua\n",
       "Loading Plugin Lua Content from /Users/anaegel/Software/ug4-git/plugins/d3f/lua/lua-include.lua\n",
       "Loading Plugin Lua Content from /Users/anaegel/Software/ug4-git/plugins/Limex/lua/lua-include.lua\n",
       "LIMEX-Plugin: Loading util.limex.*\n",
       "Loading Plugin Lua Content from /Users/anaegel/Software/ug4-git/plugins/RepoTrend/lua/lua-include.lua\n",
       "RepoTrend-Plugin: Extended package.path:./?.lua;/usr/local/share/lua/5.1/?.lua;/usr/local/share/lua/5.1/?/init.lua;/usr/local/lib/lua/5.1/?.lua;/usr/local/lib/lua/5.1/?/init.lua;/Users/anaegel/Software/ug4-git/plugins/RepoTrend/lua/?.lua\n"
      ]
     },
     "execution_count": 1,
     "metadata": {},
     "output_type": "execute_result"
    }
   ],
   "source": [
    "InitUG(2, AlgebraType(\"CPU\", 1));  -- Initialize world dimension dim=2 and default algebra type\n",
    "ug_load_script(\"ug_util.lua\")     -- Load utility scripts (e.g. from from ugcore/scripts)\n",
    "ug_load_script(\"util/refinement_util.lua\")"
   ]
  },
  {
   "cell_type": "markdown",
   "metadata": {},
   "source": [
    "## Problemdefinition\n",
    "\n",
    "Zur Problemdefinition definieren wir einige Variablen:"
   ]
  },
  {
   "cell_type": "code",
   "execution_count": 2,
   "metadata": {},
   "outputs": [
    {
     "data": {
      "text/plain": []
     },
     "execution_count": 2,
     "metadata": {},
     "output_type": "execute_result"
    }
   ],
   "source": [
    "myGridName= \"grids/unit_square_tri.ugx\" --\"grids/unit_square_tri.ugx\",\n",
    "myNumRefs= 3\n",
    "mySubsets = {\"Inner\", \"Boundary\"}"
   ]
  },
  {
   "cell_type": "markdown",
   "metadata": {},
   "source": [
    "Randbedingungen setzen wir über einen Callback:"
   ]
  },
  {
   "cell_type": "code",
   "execution_count": 3,
   "metadata": {},
   "outputs": [
    {
     "data": {
      "text/plain": []
     },
     "execution_count": 3,
     "metadata": {},
     "output_type": "execute_result"
    }
   ],
   "source": [
    "-- Callback fuer Randbedingungen\n",
    "function myDirichletBndCallback(x, y, t)\n",
    "    if (y==1) then return true, 0.0 \n",
    "    elseif (y==0) then  return true, math.sin(math.pi*1*x)\n",
    "    else return false, 0.0 \n",
    "    end\n",
    "end"
   ]
  },
  {
   "cell_type": "markdown",
   "metadata": {},
   "source": [
    "## Rechengebiet\n",
    "- Einlesen aus einer Datei:"
   ]
  },
  {
   "cell_type": "code",
   "execution_count": 4,
   "metadata": {},
   "outputs": [
    {
     "data": {
      "text/plain": []
     },
     "execution_count": 4,
     "metadata": {},
     "output_type": "execute_result"
    }
   ],
   "source": [
    "dom = Domain()\n",
    "LoadDomain(dom, myGridName)"
   ]
  },
  {
   "cell_type": "markdown",
   "metadata": {},
   "source": [
    "- Test: Sind alle Subsets vorhanden?"
   ]
  },
  {
   "cell_type": "code",
   "execution_count": 5,
   "metadata": {},
   "outputs": [
    {
     "data": {
      "text/plain": [
       "true\n"
      ]
     },
     "execution_count": 5,
     "metadata": {},
     "output_type": "execute_result"
    }
   ],
   "source": [
    "print(util.CheckSubsets(dom, mySubsets))"
   ]
  },
  {
   "cell_type": "markdown",
   "metadata": {},
   "source": [
    "* Uniforme Verfeinerung"
   ]
  },
  {
   "cell_type": "code",
   "execution_count": 6,
   "metadata": {},
   "outputs": [
    {
     "data": {
      "text/plain": [
       "1 2 3 "
      ]
     },
     "execution_count": 6,
     "metadata": {},
     "output_type": "execute_result"
    }
   ],
   "source": [
    "local refiner = GlobalDomainRefiner(dom)\n",
    "for i=1,myNumRefs do\n",
    "    write(i .. \" \")\n",
    "    refiner:refine()\n",
    "end"
   ]
  },
  {
   "cell_type": "markdown",
   "metadata": {},
   "source": [
    "- Alternativ geht es auch ganz bequem in einer Zeile:"
   ]
  },
  {
   "cell_type": "code",
   "execution_count": 7,
   "metadata": {},
   "outputs": [
    {
     "data": {
      "text/plain": [
       "Loading Domain grids/unit_square_tri.ugx ... done.\n",
       "Performing integrity check on domain ... done.\n",
       "Refining(3): 1 2 3 done.\n"
      ]
     },
     "execution_count": 7,
     "metadata": {},
     "output_type": "execute_result"
    }
   ],
   "source": [
    "dom = util.CreateDomain(myGridName, myNumRefs, myRequiredSubsets)"
   ]
  },
  {
   "cell_type": "markdown",
   "metadata": {},
   "source": [
    "## Ansatzraum\n",
    "Erzeuge Ansatzraum mit stückweise linearen Funktionen (elementweise Polynome 1. Grades):"
   ]
  },
  {
   "cell_type": "code",
   "execution_count": 8,
   "metadata": {},
   "outputs": [
    {
     "data": {
      "text/plain": [
       "| ---------------------------------------------------------------------------- |\n",
       "|  Number of DoFs (All Procs)                                                  |\n",
       "|  Algebra: Block 1 (divide by 1 for #Index)                                   |\n",
       "|                                                                              |\n",
       "|    GridLevel   |       Domain |     0: Inner |  1: Boundary                  |\n",
       "| ---------------------------------------------------------------------------- |\n",
       "| (lev,    0)    |            9 |            1 |            8 |\n",
       "| (lev,    1)    |           25 |            9 |           16 |\n",
       "| (lev,    2)    |           81 |           49 |           32 |\n",
       "| (lev,    3)    |          289 |          225 |           64 |\n",
       "| (lev,    0, g) |            9 |            1 |            8 |\n",
       "| (lev,    1, g) |           25 |            9 |           16 |\n",
       "| (lev,    2, g) |           81 |           49 |           32 |\n",
       "| (lev,    3, g) |          289 |          225 |           64 |\n",
       "| (surf, top)    |          289 |          225 |           64 |\n",
       "| ---------------------------------------------------------------------------- |\n",
       "| For Legend and Options: print_statistic(\"legend\").                           |\n",
       "| ---------------------------------------------------------------------------- |\n"
      ]
     },
     "execution_count": 8,
     "metadata": {},
     "output_type": "execute_result"
    }
   ],
   "source": [
    "-- Setup for FEM approximation space.\n",
    "approxSpace = ApproximationSpace(dom)\n",
    "approxSpace:add_fct(\"u\", \"Lagrange\", 1)  -- Linear ansatz functions\n",
    "\n",
    "-- More inits.\n",
    "approxSpace:init_levels()\n",
    "approxSpace:init_top_surface()\n",
    "approxSpace:print_statistic()"
   ]
  },
  {
   "cell_type": "markdown",
   "metadata": {},
   "source": [
    "## Diskretisierung\n",
    "\n",
    "Erzeuge Objekt für eine **Elementdiskretisierung** für die Konvektions-Diffusionsgleichung."
   ]
  },
  {
   "cell_type": "code",
   "execution_count": 9,
   "metadata": {},
   "outputs": [
    {
     "data": {
      "text/plain": []
     },
     "execution_count": 9,
     "metadata": {},
     "output_type": "execute_result"
    }
   ],
   "source": [
    "elemDisc = ConvectionDiffusion(\"u\", \"Inner\", \"fe\")\n",
    "elemDisc:set_diffusion(1.0)\n",
    "\n",
    "-- Optional: Setze rechte Seite f\n",
    "-- elemDisc:set_source(1.0)"
   ]
  },
  {
   "cell_type": "markdown",
   "metadata": {},
   "source": [
    "Erzeuge Objekt für **Randbedingungen**:"
   ]
  },
  {
   "cell_type": "code",
   "execution_count": 10,
   "metadata": {},
   "outputs": [
    {
     "data": {
      "text/plain": []
     },
     "execution_count": 10,
     "metadata": {},
     "output_type": "execute_result"
    }
   ],
   "source": [
    "dirichletBND = DirichletBoundary()\n",
    "dirichletBND:add(\"myDirichletBndCallback\", \"u\", \"Boundary\")"
   ]
  },
  {
   "cell_type": "markdown",
   "metadata": {},
   "source": [
    "Füge beides zu einer **Gebietsdiskretisierung** hinzu:"
   ]
  },
  {
   "cell_type": "code",
   "execution_count": 11,
   "metadata": {},
   "outputs": [
    {
     "data": {
      "text/plain": []
     },
     "execution_count": 11,
     "metadata": {},
     "output_type": "execute_result"
    }
   ],
   "source": [
    "domainDisc = DomainDiscretization(approxSpace)\n",
    "domainDisc:add(elemDisc)\n",
    "domainDisc:add(dirichletBND)"
   ]
  },
  {
   "cell_type": "markdown",
   "metadata": {},
   "source": [
    "## Konfiguration eines iterativen Lösers\n",
    "\n",
    "Ein sog. Mehrgitterverfahren (=> Modellierung und Simulation 2) hat lediglich lineare Komplexität"
   ]
  },
  {
   "cell_type": "code",
   "execution_count": 12,
   "metadata": {},
   "outputs": [
    {
     "data": {
      "text/plain": []
     },
     "execution_count": 12,
     "metadata": {},
     "output_type": "execute_result"
    }
   ],
   "source": [
    "-- MG solver setup (using 'util/solver_util.lua')\n",
    "local solverDesc = {\n",
    "    type = \"bicgstab\",\n",
    "    precond = {\n",
    "        type = \"gmg\",\n",
    "        approxSpace = approxSpace,\n",
    "        smoother = \"sgs\",\n",
    "        baseSolver = \"lu\"\n",
    "    }\n",
    "}\n",
    "solver = util.solver.CreateSolver(solverDesc)"
   ]
  },
  {
   "cell_type": "markdown",
   "metadata": {},
   "source": [
    "## Assembliere und löse LGS"
   ]
  },
  {
   "cell_type": "code",
   "execution_count": 13,
   "metadata": {},
   "outputs": [
    {
     "data": {
      "text/plain": [
       "\n",
       "   % %%%%%%%%             BiCGStab              %%%%%%%%%%%\n",
       "   % %%%%%%%%   (Precond: Geometric MultiGrid)  %%%%%%%%%%%\n",
       "   %   Iter      Defect         Rate \n",
       "   %    0:    2.828427e+00      -------\n",
       "   %    1:    3.551370e-02    1.255599e-02\n",
       "   %    2:    4.792401e-04    1.349451e-02\n",
       "   %    3:    8.145414e-06    1.699652e-02\n",
       "   %    4:    2.002548e-07    2.458498e-02\n",
       "   % Relative reduction 1.000000e-06 reached after 4 steps.\n",
       "   % Average reduction over 4 steps: 1.631209e-02\n",
       "   % %%%%%  Iteration converged  %%%%%\n",
       "\n"
      ]
     },
     "execution_count": 13,
     "metadata": {},
     "output_type": "execute_result"
    }
   ],
   "source": [
    "A = AssembledLinearOperator(domainDisc)\n",
    "x = GridFunction(approxSpace)\n",
    "b = GridFunction(approxSpace)\n",
    "x:set(0.0)\n",
    "\n",
    "\n",
    "domainDisc:assemble_linear(A, b)\n",
    "domainDisc:adjust_solution(x)\n",
    "\n",
    "solver:init(A, x)\n",
    "solver:apply(x, b)"
   ]
  },
  {
   "cell_type": "markdown",
   "metadata": {},
   "source": [
    "### Ausgabe als *.vtu bzw. *.vec-Datei\n",
    "a) Für die Lösung"
   ]
  },
  {
   "cell_type": "code",
   "execution_count": 14,
   "metadata": {},
   "outputs": [
    {
     "data": {
      "text/plain": []
     },
     "execution_count": 14,
     "metadata": {},
     "output_type": "execute_result"
    }
   ],
   "source": [
    "local solFileName = \"x_solution\"\n",
    "WriteGridFunctionToVTK(x, solFileName)\n",
    "SaveVectorForConnectionViewer(x, solFileName .. \".vec\")"
   ]
  },
  {
   "cell_type": "markdown",
   "metadata": {},
   "source": [
    "b) Für die rechte Seite $b$ und Matrix $A$"
   ]
  },
  {
   "cell_type": "code",
   "execution_count": 15,
   "metadata": {},
   "outputs": [
    {
     "data": {
      "text/plain": []
     },
     "execution_count": 15,
     "metadata": {},
     "output_type": "execute_result"
    }
   ],
   "source": [
    "local matFileName = \"A_matrix.mat\"\n",
    "SaveMatrixForConnectionViewer(x, A, matFileName)\n",
    "\n",
    "local rhsFileName = \"b_rhs\"\n",
    "SaveVectorForConnectionViewer(b, rhsFileName.. \".vec\")"
   ]
  }
 ],
 "metadata": {
  "kernelspec": {
   "display_name": "UG4-Lua 0.1.0",
   "language": "lua",
   "name": "ug4_kernel"
  },
  "language_info": {
   "codemirror_mode": "text/x-lua",
   "file_extension": ".lua",
   "mimetype": "text/x-lua",
   "name": "lua",
   "version": "1.0"
  }
 },
 "nbformat": 4,
 "nbformat_minor": 2
}
