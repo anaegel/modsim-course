{
 "cells": [
  {
   "cell_type": "markdown",
   "metadata": {},
   "source": [
    "# Weitere Beispiele zur Poisson-Gleichung\n",
    "Nachdem wir im [vorherigen Beispiel](./tutorial-fem-01.ipynb) die wesentlichen  Schritte zur Diskretisierung der Poisson-Gleichung kennengelernt haben, wollen wir nun die Gleichung\n",
    "$$\\nabla \\cdot[-D \\nabla u] = f $$\n",
    "mit Diffusionskonstante $D$ und Quelle $f$ in verschiedenen Beispiele näher untersuchen. U.a. werden wir den Diskretisierungsfehler bestimmen.\n",
    "\n"
   ]
  },
  {
   "cell_type": "markdown",
   "metadata": {},
   "source": [
    "## Problemdefinitionen\n",
    "\n",
    "Die Problemdefinitionen legen wir nun in verschiedene LUA-Tabellen ab:\n",
    "### Problem 1\n",
    "\n",
    "Die folgende Tabelle kodiert das [vorherige Beispiel](./tutorial-fem-01.ipynb) zur Laplace-Gleichung ($D=1$) und einer rechten Seite $f=0$ in Kurzform:"
   ]
  },
  {
   "cell_type": "code",
   "execution_count": 45,
   "metadata": {},
   "outputs": [
    {
     "data": {
      "text/plain": []
     },
     "execution_count": 45,
     "metadata": {},
     "output_type": "execute_result"
    }
   ],
   "source": [
    "SQUARE_CONFIG =\n",
    "{\n",
    "    -- Geometrie\n",
    "    gridName= \"grids/unit_square_tri.ugx\", --\"grids/unit_square_tri.ugx\",\n",
    "    requiredSubsets = {\"Inner\", \"Boundary\"},\n",
    "    numRefs= 2,\n",
    "    \n",
    "    -- Randbedingungen\n",
    "    dirichletData = \n",
    "    {\n",
    "        subsets = \"Boundary\", callback = \"MyDirichletBndCallback\",  \n",
    "    },\n",
    "    \n",
    "    -- Parameter fuer PDE    \n",
    "    diffusion = 1.0,  -- D=1.0\n",
    "    source = 0.0,    -- f=0\n",
    "}\n",
    "\n",
    "-- Callback fuer Randbedingungen\n",
    "function MyDirichletBndCallback(x, y, t)\n",
    "    if (y==1) then \treturn true, 0.0 \n",
    "    elseif (y==0) then  return true, math.sin(math.pi*1*x)\n",
    "    else return false, 0.0 \n",
    "    end\n",
    "end\n"
   ]
  },
  {
   "cell_type": "markdown",
   "metadata": {},
   "source": [
    "### Problem 2\n",
    "\n",
    "Im folgenden Beispiel ist wieder $D=1$. Die rechte Seite $f$ wird so gesetzt, dass sich Sinusschwingung \n",
    "\n",
    "$$u(x,y) = \\sin (\\mu  \\pi x) \\sin (\\nu  \\pi y)$$\n",
    "\n",
    "als Lösung ergibt. Außerdem diskretisieren wir das Einheitsquadrat mit Vierecken:"
   ]
  },
  {
   "cell_type": "code",
   "execution_count": 46,
   "metadata": {},
   "outputs": [
    {
     "data": {
      "text/plain": []
     },
     "execution_count": 46,
     "metadata": {},
     "output_type": "execute_result"
    }
   ],
   "source": [
    "SQUARE_CONFIG_WITH_RHS =\n",
    "{\n",
    "    -- Geometrie\n",
    "    gridName= \"grids/unit_square_quad.ugx\",\n",
    "    requiredSubsets = {\"Inner\", \"Boundary\"},\n",
    "    numRefs= 3,\n",
    "    \n",
    "    -- Randbedingungen\n",
    "    dirichletData = \n",
    "    {\n",
    "        subsets = \"Boundary\", callback = \"C2_MyDirichletBndCallback\",  \n",
    "    },\n",
    "    \n",
    "    diffusion = 1.0,\n",
    "    source = \"C2_MySourceCallback\", \n",
    "    myref = \"C2_MyRefCallback\",\n",
    "}\n",
    "\n",
    "-- Callback fuer Randbedingungen\n",
    "function C2_MyDirichletBndCallback(x, y, t)\n",
    "     return true, 0.0 \n",
    "end\n",
    "\n",
    "-- Callback fuer rechte Seite\n",
    "function C2_MySourceCallback(x, y, t)\n",
    "    local mu = 1.0\n",
    "    local nu = 4.0\n",
    "    local scale =  (mu*mu + nu*nu)*(math.pi)*(math.pi)\n",
    "    return scale*math.sin(math.pi*mu*x)* math.sin(math.pi*nu*y)\n",
    "end\n",
    "\n",
    "-- Callback fuer Referenz\n",
    "function C2_MyRefCallback(x, y, t)\n",
    "    local mu = 1.0\n",
    "    local nu = 4.0\n",
    "    return math.sin(math.pi*mu*x)* math.sin(math.pi*nu*y)\n",
    "end\n",
    "\n"
   ]
  },
  {
   "cell_type": "markdown",
   "metadata": {},
   "source": [
    "### Problem 3"
   ]
  },
  {
   "cell_type": "code",
   "execution_count": 47,
   "metadata": {},
   "outputs": [
    {
     "data": {
      "text/plain": []
     },
     "execution_count": 47,
     "metadata": {},
     "output_type": "execute_result"
    }
   ],
   "source": [
    "SECTOR_CONFIG =\n",
    "{\n",
    "    gridName= \"grids/sectorTest.ugx\",\n",
    "    requiredSubsets = {\"Inner\", \"Circle\", \"Cut\"},\n",
    "    numRefs= 2,\n",
    "    \n",
    "    dirichletData = \n",
    "    {\n",
    "        subsets = \"Circle, Cut\", callback = \"SectorDirichletSol\",  \n",
    "    },\n",
    "    \n",
    "    diffusion = 1.0,\n",
    "    source = 0.0, \n",
    "    myref = \"SectorDirichletSol\"\n",
    "}\n",
    "\n",
    "-- callback function boundary values (only the ones matching 'dim' are used)\n",
    "function SectorDirichletSol(x, y, t, si)\n",
    "    local r = math.sqrt(x*x+y*y);\n",
    "    local phi = math.atan2(y,x);\n",
    "    if (phi<0) then phi = phi + 2*math.pi; end\n",
    "    val=math.pow(r,(2/3))*math.sin(phi/3.0*2);\n",
    "    return val\n",
    "end"
   ]
  },
  {
   "cell_type": "markdown",
   "metadata": {},
   "source": [
    "### Auswahl einer Konfiguration\n",
    "Aus den o.g. Konfigurationen wählen wir eine aus:"
   ]
  },
  {
   "cell_type": "code",
   "execution_count": 48,
   "metadata": {},
   "outputs": [
    {
     "data": {
      "text/plain": []
     },
     "execution_count": 48,
     "metadata": {},
     "output_type": "execute_result"
    }
   ],
   "source": [
    "CONFIG = SQUARE_CONFIG_WITH_RHS"
   ]
  },
  {
   "cell_type": "markdown",
   "metadata": {},
   "source": [
    "## Konfiguration von UG4\n",
    "\n",
    "Die folgenden Schritte sind aus dem [vorherigen Beispiel](./tutorial-fem-01.ipynb) bekannt:\n",
    "\n",
    "### Initialisierung "
   ]
  },
  {
   "cell_type": "code",
   "execution_count": null,
   "metadata": {},
   "outputs": [],
   "source": [
    "InitUG(2, AlgebraType(\"CPU\", 1));  -- Initialize world dimension dim=2 and default algebra type\n",
    "ug_load_script(\"ug_util.lua\")           -- Load utility scripts (e.g. from from ugcore/scripts)\n",
    "ug_load_script(\"util/refinement_util.lua\")"
   ]
  },
  {
   "cell_type": "markdown",
   "metadata": {},
   "source": [
    "### Einlesen des Rechengebietes aus einer Datei"
   ]
  },
  {
   "cell_type": "code",
   "execution_count": 49,
   "metadata": {},
   "outputs": [
    {
     "data": {
      "text/plain": [
       "Loading Domain grids/unit_square_quad.ugx ... done.\n",
       "Performing integrity check on domain ... done.\n",
       "Refining(3): 1 2 3 done.\n"
      ]
     },
     "execution_count": 49,
     "metadata": {},
     "output_type": "execute_result"
    }
   ],
   "source": [
    "dom = Domain()\n",
    "LoadDomain(dom, CONFIG.gridName)\n",
    "dom = util.CreateDomain(CONFIG.gridName, CONFIG.numRefs, CONFIG.requiredSubsets)"
   ]
  },
  {
   "cell_type": "markdown",
   "metadata": {},
   "source": [
    "### Ansatzraum"
   ]
  },
  {
   "cell_type": "code",
   "execution_count": 50,
   "metadata": {},
   "outputs": [
    {
     "data": {
      "text/plain": [
       "| ---------------------------------------------------------------------------- |\n",
       "|  Number of DoFs (All Procs)                                                  |\n",
       "|  Algebra: Block 1 (divide by 1 for #Index)                                   |\n",
       "|                                                                              |\n",
       "|    GridLevel   |       Domain |     0: Inner |  1: Boundary                  |\n",
       "| ---------------------------------------------------------------------------- |\n",
       "| (lev,    0)    |            9 |            1 |            8 |\n",
       "| (lev,    1)    |           25 |            9 |           16 |\n",
       "| (lev,    2)    |           81 |           49 |           32 |\n",
       "| (lev,    3)    |          289 |          225 |           64 |\n",
       "| (lev,    0, g) |            9 |            1 |            8 |\n",
       "| (lev,    1, g) |           25 |            9 |           16 |\n",
       "| (lev,    2, g) |           81 |           49 |           32 |\n",
       "| (lev,    3, g) |          289 |          225 |           64 |\n",
       "| (surf, top)    |          289 |          225 |           64 |\n",
       "| ---------------------------------------------------------------------------- |\n",
       "| For Legend and Options: print_statistic(\"legend\").                           |\n",
       "| ---------------------------------------------------------------------------- |\n"
      ]
     },
     "execution_count": 50,
     "metadata": {},
     "output_type": "execute_result"
    }
   ],
   "source": [
    "-- Setup for FEM approximation space.\n",
    "approxSpace = ApproximationSpace(dom)\n",
    "approxSpace:add_fct(\"u\", \"Lagrange\", 1)  -- Linear ansatz functions\n",
    "\n",
    "-- More inits.\n",
    "approxSpace:init_levels()\n",
    "approxSpace:init_top_surface()\n",
    "approxSpace:print_statistic()"
   ]
  },
  {
   "cell_type": "markdown",
   "metadata": {},
   "source": [
    "### Diskretisierung\n",
    "\n",
    "Erzeuge Objekt für eine **Elementdiskretisierung** für die Konvektions-Diffusionsgleichung."
   ]
  },
  {
   "cell_type": "code",
   "execution_count": 51,
   "metadata": {},
   "outputs": [
    {
     "data": {
      "text/plain": []
     },
     "execution_count": 51,
     "metadata": {},
     "output_type": "execute_result"
    }
   ],
   "source": [
    "elemDisc = ConvectionDiffusion(\"u\", \"Inner\", \"fe\")\n",
    "elemDisc:set_diffusion(CONFIG.diffusion)\n",
    "\n",
    "if (CONFIG.source) then\n",
    "    elemDisc:set_source(CONFIG.source)\n",
    "end"
   ]
  },
  {
   "cell_type": "markdown",
   "metadata": {},
   "source": [
    "Erzeuge Objekt für **Randbedingungen**:"
   ]
  },
  {
   "cell_type": "code",
   "execution_count": 52,
   "metadata": {},
   "outputs": [
    {
     "data": {
      "text/plain": []
     },
     "execution_count": 52,
     "metadata": {},
     "output_type": "execute_result"
    }
   ],
   "source": [
    "dirichletBND = DirichletBoundary()\n",
    "dirichletBND:add(CONFIG.dirichletData.callback, \"u\", CONFIG.dirichletData.subsets)"
   ]
  },
  {
   "cell_type": "markdown",
   "metadata": {},
   "source": [
    "Füge beides zu einer Gebietsdiskretisierung hinzu:"
   ]
  },
  {
   "cell_type": "code",
   "execution_count": 53,
   "metadata": {},
   "outputs": [
    {
     "data": {
      "text/plain": []
     },
     "execution_count": 53,
     "metadata": {},
     "output_type": "execute_result"
    }
   ],
   "source": [
    "domainDisc = DomainDiscretization(approxSpace)\n",
    "domainDisc:add(elemDisc)\n",
    "domainDisc:add(dirichletBND)"
   ]
  },
  {
   "cell_type": "markdown",
   "metadata": {},
   "source": [
    "### Konfiguration eines iterativen Lösers\n",
    "\n",
    "Ein Mehrgitterverfahren hat lediglich lineare Komplexität"
   ]
  },
  {
   "cell_type": "code",
   "execution_count": 54,
   "metadata": {},
   "outputs": [
    {
     "data": {
      "text/plain": []
     },
     "execution_count": 54,
     "metadata": {},
     "output_type": "execute_result"
    }
   ],
   "source": [
    "-- set up solver (using 'util/solver_util.lua')\n",
    "local solverDesc = {\n",
    "    type = \"bicgstab\",\n",
    "    precond = {\n",
    "        type = \"gmg\",\n",
    "        approxSpace = approxSpace,\n",
    "        smoother = \"sgs\",\n",
    "        baseSolver = \"lu\"\n",
    "    }\n",
    "}\n",
    "solver = util.solver.CreateSolver(solverDesc)"
   ]
  },
  {
   "cell_type": "markdown",
   "metadata": {},
   "source": [
    "### Assembliere und löse LGS\n"
   ]
  },
  {
   "cell_type": "code",
   "execution_count": 55,
   "metadata": {},
   "outputs": [
    {
     "data": {
      "text/plain": [
       "\n",
       "   % %%%%%%%%             BiCGStab              %%%%%%%%%%%\n",
       "   % %%%%%%%%   (Precond: Geometric MultiGrid)  %%%%%%%%%%%\n",
       "   %   Iter      Defect         Rate \n",
       "   %    0:    4.962649e+00      -------\n",
       "   %    1:    2.027937e-02    4.086399e-03\n",
       "   %    2:    1.862548e-05    9.184448e-04\n",
       "   %    3:    3.746602e-07    2.011547e-02\n",
       "   % Relative reduction 1.000000e-06 reached after 3 steps.\n",
       "   % Average reduction over 3 steps: 4.226439e-03\n",
       "   % %%%%%  Iteration converged  %%%%%\n",
       "\n"
      ]
     },
     "execution_count": 55,
     "metadata": {},
     "output_type": "execute_result"
    }
   ],
   "source": [
    "Ah = AssembledLinearOperator(domainDisc)\n",
    "uh = GridFunction(approxSpace)\n",
    "bh = GridFunction(approxSpace)\n",
    "uh:set(0.0)\n",
    "\n",
    "\n",
    "domainDisc:assemble_linear(Ah, bh)\n",
    "domainDisc:adjust_solution(uh)\n",
    "\n",
    "solver:init(Ah, uh)\n",
    "solver:apply(uh, bh)"
   ]
  },
  {
   "cell_type": "markdown",
   "metadata": {},
   "source": [
    "Ausgabe als vtk bzw. vec-Datei."
   ]
  },
  {
   "cell_type": "code",
   "execution_count": 25,
   "metadata": {},
   "outputs": [
    {
     "data": {
      "text/plain": []
     },
     "execution_count": 25,
     "metadata": {},
     "output_type": "execute_result"
    }
   ],
   "source": [
    "local solFileName = \"u_solution\"\n",
    "WriteGridFunctionToVTK(uh, solFileName)"
   ]
  },
  {
   "cell_type": "markdown",
   "metadata": {},
   "source": [
    "## Fehleranalyse\n",
    "\n",
    "Falls die  Lösung analytisch bekannt ist, können wir den Diskretisierungsfehler der numerischen Lösung $u_h$ bestimmen.  \n",
    "\n",
    "Dies geschieht in der L2-Norm: $$\\|u-u_h\\|_0 := \\sqrt{\\int_\\Omega (u-u_h)^2 }$$"
   ]
  },
  {
   "cell_type": "code",
   "execution_count": 26,
   "metadata": {},
   "outputs": [
    {
     "data": {
      "text/plain": [
       "3\n",
       "0.026669178876216\n"
      ]
     },
     "execution_count": 26,
     "metadata": {},
     "output_type": "execute_result"
    }
   ],
   "source": [
    "if (CONFIG.myref) then\n",
    "    err0=L2Error(CONFIG.myref,  uh, \"u\", 1.0, 4)\n",
    "    print(CONFIG.numRefs)\n",
    "    print(err0)\n",
    "end"
   ]
  },
  {
   "cell_type": "markdown",
   "metadata": {},
   "source": [
    " Alternativ kann die H1-Norm verwendet werden, welche auch Ableitungen berücksichtigt: $$\\|u-u_h\\|_1 := \\sqrt{\\int_\\Omega (u-u_h)^2+ (\\nabla (u-u_h))^2 }$$\n"
   ]
  },
  {
   "cell_type": "code",
   "execution_count": 39,
   "metadata": {
    "scrolled": true
   },
   "outputs": [
    {
     "ename": "LUA-ERROR",
     "evalue": "---",
     "output_type": "error",
     "traceback": [
      "LUA-ERROR: ---"
     ]
    },
    {
     "data": {
      "text/plain": [
       "\n",
       " % EXCEPTION on Proc 0: UGError thrown\n",
       " %   Error traceback (innermost first): \n",
       " %   0: Function name u not found in pattern.\n",
       " %      [at ...git/ugcore/ugbase/lib_disc/dof_manager/function_pattern.cpp:136]\n",
       " % In CALL to function 'Interpolate(string LuaFunction, SmartPtr<GridFunction2dCPU1> GridFunction, string Component)'\n",
       " %    ARGS: (cstring \"C2_MyRefCallback\", SmartPtr<GridFunction2dCPU1> 0x7fcac287d7e0, cstring \"u\")\n",
       " % In FILE: buffer:3\n",
       " % At LINE: ''\n",
       "LUA-ERROR! Call stack:\n",
       "   1  buffer:3        \n",
       " % ABORTING script parsing.\n"
      ]
     },
     "execution_count": 39,
     "metadata": {},
     "output_type": "execute_result"
    }
   ],
   "source": [
    "if (CONFIG.myref) then\n",
    "    uref = uh:clone()\n",
    "    Interpolate(CONFIG.myref, uref, \"u\")\n",
    "    err1=H1Error(uref, \"c\",  uh, \"u\", 1.0, \"Inner\")\n",
    "    print(err1)\n",
    "end"
   ]
  },
  {
   "cell_type": "markdown",
   "metadata": {},
   "source": [
    "Die Werte speichern wir in einer Tabelle:"
   ]
  },
  {
   "cell_type": "code",
   "execution_count": 40,
   "metadata": {},
   "outputs": [
    {
     "data": {
      "text/plain": []
     },
     "execution_count": 40,
     "metadata": {},
     "output_type": "execute_result"
    }
   ],
   "source": [
    "esquare={\n",
    "    -- numRefs, err0, err1\n",
    "    {3, 0.026669178876216,0.036854207999089 },\n",
    "    {4, 0.0067063542743748,0.0096692527695234},\n",
    "    {5, 0.0016790153921112,0.0024457630567399},\n",
    "    {6, 0.00041990545869718,0.00061321594052763},\n",
    "    {7, 0.0001049859512669,0.0001534133061914},\n",
    "}"
   ]
  },
  {
   "cell_type": "code",
   "execution_count": 41,
   "metadata": {},
   "outputs": [
    {
     "data": {
      "text/plain": []
     },
     "execution_count": 41,
     "metadata": {},
     "output_type": "execute_result"
    }
   ],
   "source": [
    "esector={\n",
    "    {3, 0.0021517562195368, 0.014347178579376 },\n",
    "    {4, 0.00082670975412983, 0.0090798283058054},\n",
    "    {5, 0.00032006823581697, 0.0057306863871163},\n",
    "    {6, 0.00013039000095758, 0.003629782236302},\n",
    "    {7, 5.5487900630332e-05, 0.0022953491311963},\n",
    "}"
   ]
  },
  {
   "cell_type": "markdown",
   "metadata": {},
   "source": [
    "Mit folgender Funktion lassen sich  die Werte in Gnuplot darstellen und in eine Datei schreiben:"
   ]
  },
  {
   "cell_type": "code",
   "execution_count": 42,
   "metadata": {},
   "outputs": [
    {
     "data": {
      "text/plain": []
     },
     "execution_count": 42,
     "metadata": {},
     "output_type": "execute_result"
    }
   ],
   "source": [
    "function VisualizeGnuplot(etable, title, filename)\n",
    "\n",
    "    local file = io.open(\"results.txt\", \"w\") -- opens a file in write mode\n",
    "    io.output(file) \n",
    "    for i,entry in ipairs(etable) do\n",
    "        print(entry[1]..\"\\t\"..entry[2]..\"\\t\"..entry[3]..\"\\n\")\n",
    "        io.write(entry[1]..\"\\t\"..entry[2]..\"\\t\"..entry[3]..\"\\n\")\n",
    "    end\n",
    "    io.close(file)\n",
    "    \n",
    "    local file = io.open(\"cmd.gnuplot\", \"w\") -- opens a file in write mode\n",
    "    io.output(file)\n",
    "   \n",
    "    io.write(\"set xlabel \\\"#Verfeinerungen\\\";\\n\" )\n",
    "    io.write(\"set ylabel \\\"Fehler\\\";\\n\" )\n",
    "    io.write(\"set terminal png;\\n\")\n",
    "    io.write(\"set output \\\"\"..filename..\"\\\";\\n\")\n",
    "    io.write(\"set logscale y;\\n\")\n",
    "    io.write(\"plot \\\"results.txt\\\" using 1:2 title \\\"\"..title..\"\\\"with linespoints;\\n\")\n",
    "    io.close(file)  \n",
    "    \n",
    "    os.execute('gnuplot <  cmd.gnuplot')\n",
    "end"
   ]
  },
  {
   "cell_type": "markdown",
   "metadata": {},
   "source": [
    "Diese Funktion rufen wir nun auf und stellen das Ergebnis dar (ggf. muss die Grafik wegen Caching im Browser explizit neu gelanden werden!):"
   ]
  },
  {
   "cell_type": "code",
   "execution_count": 43,
   "metadata": {},
   "outputs": [
    {
     "data": {
      "text/plain": [
       "3\t0.026669178876216\t0.036854207999089\n",
       "\n",
       "4\t0.0067063542743748\t0.0096692527695234\n",
       "\n",
       "5\t0.0016790153921112\t0.0024457630567399\n",
       "\n",
       "6\t0.00041990545869718\t0.00061321594052763\n",
       "\n",
       "7\t0.0001049859512669\t0.0001534133061914\n",
       "\n"
      ]
     },
     "execution_count": 43,
     "metadata": {},
     "output_type": "execute_result"
    }
   ],
   "source": [
    "VisualizeGnuplot(esquare, \"Error - Square\", \"esquare.png\")"
   ]
  },
  {
   "cell_type": "markdown",
   "metadata": {},
   "source": [
    "![](esquare.png)"
   ]
  },
  {
   "cell_type": "code",
   "execution_count": null,
   "metadata": {},
   "outputs": [],
   "source": []
  },
  {
   "cell_type": "code",
   "execution_count": null,
   "metadata": {},
   "outputs": [],
   "source": []
  },
  {
   "cell_type": "code",
   "execution_count": null,
   "metadata": {},
   "outputs": [],
   "source": []
  },
  {
   "cell_type": "code",
   "execution_count": null,
   "metadata": {},
   "outputs": [],
   "source": []
  },
  {
   "cell_type": "code",
   "execution_count": null,
   "metadata": {},
   "outputs": [],
   "source": []
  }
 ],
 "metadata": {
  "kernelspec": {
   "display_name": "UG4-Lua 0.1.0",
   "language": "lua",
   "name": "ug4_kernel"
  },
  "language_info": {
   "codemirror_mode": "text/x-lua",
   "file_extension": ".lua",
   "mimetype": "text/x-lua",
   "name": "lua",
   "version": "1.0"
  }
 },
 "nbformat": 4,
 "nbformat_minor": 2
}
