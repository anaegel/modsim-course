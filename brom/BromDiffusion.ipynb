{
 "cells": [
  {
   "cell_type": "markdown",
   "metadata": {},
   "source": [
    "### Load utilities"
   ]
  },
  {
   "cell_type": "code",
   "execution_count": 1,
   "metadata": {},
   "outputs": [
    {
     "data": {
      "text/plain": [
       "* Initializing: paths... done, bridge... done, plugins... fail                 *\n"
      ]
     },
     "execution_count": 1,
     "metadata": null,
     "output_type": "execute_result"
    }
   ],
   "source": [
    "ug_load_script(\"ug_util.lua\")\n",
    "ug_load_script(\"util/refinement_util.lua\")"
   ]
  },
  {
   "cell_type": "code",
   "execution_count": 2,
   "metadata": {},
   "outputs": [
    {
     "data": {
      "text/plain": []
     },
     "execution_count": 2,
     "metadata": null,
     "output_type": "execute_result"
    }
   ],
   "source": [
    "ARGS ={\n",
    "    gridName = \"brom-dose.ugx\",\n",
    "    numRefs = 1,\n",
    "    endTime = 0.1,\n",
    "    dt = 0.025,\n",
    "}\n",
    "\n"
   ]
  },
  {
   "cell_type": "code",
   "execution_count": 3,
   "metadata": {},
   "outputs": [
    {
     "data": {
      "text/plain": [
       "brom-dose.ugx\n"
      ]
     },
     "execution_count": 3,
     "metadata": null,
     "output_type": "execute_result"
    }
   ],
   "source": [
    "print(ARGS.gridName)"
   ]
  },
  {
   "cell_type": "markdown",
   "metadata": {},
   "source": [
    "### Initialize UG4 (for 3D and standard algebra)"
   ]
  },
  {
   "cell_type": "code",
   "execution_count": 4,
   "metadata": {},
   "outputs": [
    {
     "data": {
      "text/plain": []
     },
     "execution_count": 4,
     "metadata": null,
     "output_type": "execute_result"
    }
   ],
   "source": [
    "InitUG(3, AlgebraType(\"CPU\", 1));"
   ]
  },
  {
   "cell_type": "code",
   "execution_count": 5,
   "metadata": {},
   "outputs": [
    {
     "data": {
      "text/plain": []
     },
     "execution_count": 5,
     "metadata": null,
     "output_type": "execute_result"
    }
   ],
   "source": [
    "requiredSubsets = {\"INNER\", \"WALL\", \"IN\"}"
   ]
  },
  {
   "cell_type": "code",
   "execution_count": 6,
   "metadata": {},
   "outputs": [
    {
     "data": {
      "text/plain": [
       "Loading Domain brom-dose.ugx ... done.\n",
       "Performing integrity check on domain ... done.\n"
      ]
     },
     "execution_count": 6,
     "metadata": null,
     "output_type": "execute_result"
    }
   ],
   "source": [
    "dom = util.CreateDomain(ARGS.gridName, 0, requiredSubsets)"
   ]
  },
  {
   "cell_type": "code",
   "execution_count": 7,
   "metadata": {},
   "outputs": [
    {
     "data": {
      "text/plain": [
       "\n",
       "util.refinement: - refining level 0\n"
      ]
     },
     "execution_count": 7,
     "metadata": null,
     "output_type": "execute_result"
    }
   ],
   "source": [
    "util.refinement.CreateRegularHierarchy(dom, ARGS.numRefs, true)"
   ]
  },
  {
   "cell_type": "code",
   "execution_count": null,
   "metadata": {},
   "outputs": [],
   "source": []
  },
  {
   "cell_type": "markdown",
   "metadata": {},
   "source": [
    "### Create Approximation space"
   ]
  },
  {
   "cell_type": "code",
   "execution_count": 8,
   "metadata": {},
   "outputs": [
    {
     "data": {
      "text/plain": []
     },
     "execution_count": 8,
     "metadata": null,
     "output_type": "execute_result"
    }
   ],
   "source": [
    "approxSpaceDesc = { fct = \"c\", type = \"Lagrange\", order = 1 }"
   ]
  },
  {
   "cell_type": "code",
   "execution_count": 9,
   "metadata": {},
   "outputs": [
    {
     "data": {
      "text/plain": [
       "Approximation space:\n",
       "| ----------------------------------------------------------------------------------------- |\n",
       "|  Number of DoFs (All Procs)                                                               |\n",
       "|  Algebra: Block 1 (divide by 1 for #Index)                                                |\n",
       "|                                                                                           |\n",
       "|    GridLevel   |       Domain |     0: INNER |      1: WALL |       2: TOP |        3: IN |\n",
       "| ----------------------------------------------------------------------------------------- |\n",
       "| (lev,    0)    |          104 |            6 |           82 |           13 |            3 |\n",
       "| (lev,    1)    |          555 |          169 |          343 |           37 |            6 |\n",
       "| (lev,    0, g) |          104 |            6 |           82 |           13 |            3 |\n",
       "| (lev,    1, g) |          555 |          169 |          343 |           37 |            6 |\n",
       "| (surf, top)    |          555 |          169 |          343 |           37 |            6 |\n",
       "| ----------------------------------------------------------------------------------------- |\n",
       "| For Legend and Options: print_statistic(\"legend\").                                        |\n",
       "| ----------------------------------------------------------------------------------------- |\n"
      ]
     },
     "execution_count": 9,
     "metadata": null,
     "output_type": "execute_result"
    }
   ],
   "source": [
    "approxSpace = ApproximationSpace(dom)\n",
    "approxSpace:add_fct(approxSpaceDesc.fct, approxSpaceDesc.type, approxSpaceDesc.order)\n",
    "approxSpace:init_levels()\n",
    "approxSpace:init_top_surface()\n",
    "print(\"Approximation space:\")\n",
    "approxSpace:print_statistic()"
   ]
  },
  {
   "cell_type": "markdown",
   "metadata": {},
   "source": [
    "## Create a convection-diffusion-equation"
   ]
  },
  {
   "cell_type": "code",
   "execution_count": 10,
   "metadata": {},
   "outputs": [
    {
     "data": {
      "text/plain": []
     },
     "execution_count": 10,
     "metadata": null,
     "output_type": "execute_result"
    }
   ],
   "source": [
    "elemDisc = ConvectionDiffusion(\"c\", \"INNER\", \"fv1\")\n",
    "elemDisc:set_diffusion(10)"
   ]
  },
  {
   "cell_type": "code",
   "execution_count": 11,
   "metadata": {},
   "outputs": [
    {
     "data": {
      "text/plain": []
     },
     "execution_count": 11,
     "metadata": null,
     "output_type": "execute_result"
    }
   ],
   "source": [
    "dirichletBnd = DirichletBoundary()\n",
    "dirichletBnd:add(0.0, \"c\", \"IN\")"
   ]
  },
  {
   "cell_type": "code",
   "execution_count": 12,
   "metadata": {},
   "outputs": [
    {
     "data": {
      "text/plain": []
     },
     "execution_count": 12,
     "metadata": null,
     "output_type": "execute_result"
    }
   ],
   "source": [
    "domainDisc = DomainDiscretization(approxSpace)\n",
    "domainDisc:add(elemDisc)\n",
    "domainDisc:add(dirichletBnd)"
   ]
  },
  {
   "cell_type": "markdown",
   "metadata": {},
   "source": [
    "## Solver setup"
   ]
  },
  {
   "cell_type": "code",
   "execution_count": 13,
   "metadata": {},
   "outputs": [
    {
     "data": {
      "text/plain": []
     },
     "execution_count": 13,
     "metadata": null,
     "output_type": "execute_result"
    }
   ],
   "source": [
    "solverDesc = \n",
    "{\n",
    "    type = \"bicgstab\",\n",
    "    precond = \n",
    "    {\n",
    "        type\t\t= \"gmg\",\n",
    "        approxSpace\t= approxSpace,\n",
    "        smoother\t= \"ilu\",\n",
    "        baseSolver\t= \"lu\"\n",
    "    }\n",
    "}\n",
    "solver = util.solver.CreateSolver(solverDesc)"
   ]
  },
  {
   "cell_type": "markdown",
   "metadata": {},
   "source": [
    "## Solve transient problem"
   ]
  },
  {
   "cell_type": "code",
   "execution_count": 14,
   "metadata": {},
   "outputs": [
    {
     "data": {
      "text/plain": []
     },
     "execution_count": 14,
     "metadata": null,
     "output_type": "execute_result"
    }
   ],
   "source": [
    "function InitialValue(x,y,z,t,si) \n",
    "    if (z<1.75) then return 0.0 else return 1.0 end\n",
    "end"
   ]
  },
  {
   "cell_type": "code",
   "execution_count": 15,
   "metadata": {},
   "outputs": [
    {
     "data": {
      "text/plain": [
       "SolveLinearTimeProblem, Linear Solver setup:\n",
       "BiCGStab( restart = 0, min_orthogonality = 0)\n",
       " Convergence Check: StdConvCheck( max steps = 100, min defect = 1e-12, relative reduction = 1e-06)\n",
       " Preconditioner: \n",
       " | GeometricMultigrid (V-Cycle)\n",
       " |  Smoother (3x pre, 3x post): ILU( damping = ConstantDamping(1))\n",
       " |  Basesolver ( Baselevel = 0, gathered base = false): AgglomeratingSolver: SuperLU\n",
       "\n",
       ">> Writing start values\n",
       "++++++ TIMESTEP 1 BEGIN (current time: 0) ++++++\n",
       "++++++ Time step size: 0.025\n",
       "++++++ Assembling Matrix/Rhs for step size 0.025\n",
       "\n",
       "   % %%%%%%%%             BiCGStab              %%%%%%%%%%%\n",
       "   % %%%%%%%%   (Precond: Geometric MultiGrid)  %%%%%%%%%%%\n",
       "   %   Iter      Defect         Rate \n",
       "   %    0:    8.211933e-01      -------\n",
       "   %    1:    2.872137e-04    3.497517e-04\n",
       "   %    2:    4.098633e-07    1.427032e-03\n",
       "   % Relative reduction 1.000000e-06 reached after 2 steps.\n",
       "   % Average reduction over 2 steps: 7.064750e-04\n",
       "   % %%%%%  Iteration converged  %%%%%\n",
       "\n",
       "++++++ TIMESTEP 1 END   (current time: 0.025) ++++++\n",
       "++++++ TIMESTEP 2 BEGIN (current time: 0.025) ++++++\n",
       "++++++ Time step size: 0.025\n",
       "\n",
       "   % %%%%%%%%             BiCGStab              %%%%%%%%%%%\n",
       "   % %%%%%%%%   (Precond: Geometric MultiGrid)  %%%%%%%%%%%\n",
       "   %   Iter      Defect         Rate \n",
       "   %    0:    9.835001e-02      -------\n",
       "   %    1:    2.034843e-04    2.068981e-03\n",
       "   %    2:    3.314154e-07    1.628703e-03\n",
       "   %    3:    5.789675e-10    1.746954e-03\n",
       "   % Relative reduction 1.000000e-06 reached after 3 steps.\n",
       "   % Average reduction over 3 steps: 1.805621e-03\n",
       "   % %%%%%  Iteration converged  %%%%%\n",
       "\n",
       "++++++ TIMESTEP 2 END   (current time: 0.05) ++++++\n",
       "++++++ TIMESTEP 3 BEGIN (current time: 0.05) ++++++\n",
       "++++++ Time step size: 0.025\n",
       "\n",
       "   % %%%%%%%%             BiCGStab              %%%%%%%%%%%\n",
       "   % %%%%%%%%   (Precond: Geometric MultiGrid)  %%%%%%%%%%%\n",
       "   %   Iter      Defect         Rate \n",
       "   %    0:    3.814389e-02      -------\n",
       "   %    1:    1.219816e-04    3.197932e-03\n",
       "   %    2:    2.941195e-07    2.411180e-03\n",
       "   %    3:    2.210139e-10    7.514426e-04\n",
       "   % Relative reduction 1.000000e-06 reached after 3 steps.\n",
       "   % Average reduction over 3 steps: 1.796104e-03\n",
       "   % %%%%%  Iteration converged  %%%%%\n",
       "\n",
       "++++++ TIMESTEP 3 END   (current time: 0.075) ++++++\n",
       "++++++ TIMESTEP 4 BEGIN (current time: 0.075) ++++++\n",
       "++++++ Time step size: 0.025\n",
       "++++++ Assembling Matrix/Rhs for step size 0.025\n",
       "\n",
       "   % %%%%%%%%             BiCGStab              %%%%%%%%%%%\n",
       "   % %%%%%%%%   (Precond: Geometric MultiGrid)  %%%%%%%%%%%\n",
       "   %   Iter      Defect         Rate \n",
       "   %    0:    2.574657e-02      -------\n",
       "   %    1:    8.601965e-05    3.341014e-03\n",
       "   %    2:    2.081688e-07    2.420015e-03\n",
       "   %    3:    1.421034e-10    6.826352e-04\n",
       "   % Relative reduction 1.000000e-06 reached after 3 steps.\n",
       "   % Average reduction over 3 steps: 1.767238e-03\n",
       "   % %%%%%  Iteration converged  %%%%%\n",
       "\n",
       "++++++ TIMESTEP 4 END   (current time: 0.1) ++++++\n"
      ]
     },
     "execution_count": 15,
     "metadata": null,
     "output_type": "execute_result"
    }
   ],
   "source": [
    "local u = GridFunction(approxSpace)\n",
    "u:set(0.0)\n",
    "Interpolate(\"InitialValue\", u, \"c\")\n",
    "\n",
    "\n",
    "local startTime = 0.0\n",
    "util.SolveLinearTimeProblem(u, domainDisc, solver, VTKOutput(), \"sol_brom\",\n",
    "                            \"ImplEuler\", 1, startTime, ARGS.endTime, ARGS.dt); "
   ]
  },
  {
   "cell_type": "code",
   "execution_count": null,
   "metadata": {},
   "outputs": [],
   "source": []
  },
  {
   "cell_type": "code",
   "execution_count": 16,
   "metadata": {},
   "outputs": [
    {
     "ename": "LUA-ERROR",
     "evalue": "---",
     "output_type": "error",
     "traceback": [
      "LUA-ERROR: ---"
     ]
    },
    {
     "data": {
      "text/plain": [
       "LUA-ERROR: \n",
       "[string \"buffer\"]:1: '=' expected near '<eof>'\n",
       " % ABORTING script parsing.\n"
      ]
     },
     "execution_count": 16,
     "metadata": null,
     "output_type": "execute_result"
    }
   ],
   "source": [
    "ls"
   ]
  },
  {
   "cell_type": "code",
   "execution_count": null,
   "metadata": {},
   "outputs": [],
   "source": []
  }
 ],
 "metadata": {
  "kernelspec": {
   "display_name": "UG4-Lua 0.1.0",
   "language": "lua",
   "name": "ug4_kernel"
  },
  "language_info": {
   "codemirror_mode": "lua",
   "file_extension": ".lua",
   "mimetype": "text/x-lua",
   "name": "lua",
   "version": "1.0"
  }
 },
 "nbformat": 4,
 "nbformat_minor": 2
}
